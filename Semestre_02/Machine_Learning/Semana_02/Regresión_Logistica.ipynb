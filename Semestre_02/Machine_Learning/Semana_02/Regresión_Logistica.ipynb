{
  "nbformat": 4,
  "nbformat_minor": 0,
  "metadata": {
    "colab": {
      "name": "Regresión Logistica.ipynb",
      "provenance": [],
      "collapsed_sections": []
    },
    "kernelspec": {
      "name": "python3",
      "display_name": "Python 3"
    },
    "language_info": {
      "name": "python"
    }
  },
  "cells": [
    {
      "cell_type": "markdown",
      "metadata": {
        "id": "sRds2pXvNKFa"
      },
      "source": [
        "# Maestría en Ciencia de Datos\n",
        "### Autor: MSc. Jose Cardenas\n",
        "### Tema: Regresión Logística aplicada a negocios"
      ]
    },
    {
      "cell_type": "markdown",
      "metadata": {
        "id": "Led-u_b3NAOM"
      },
      "source": [
        "## 1.Librerías a utilizar"
      ]
    },
    {
      "cell_type": "code",
      "metadata": {
        "id": "MD8mRttkBRxB",
        "colab": {
          "base_uri": "https://localhost:8080/"
        },
        "outputId": "735fcfe3-a097-48b2-d454-ec465f6ea5d1"
      },
      "source": [
        "# Importar las librerías necesarias en Python\n",
        "import pandas as pd \n",
        "import warnings\n",
        "import re\n",
        "import numpy as np\n",
        "from scipy.stats import spearmanr\n",
        "from sklearn.preprocessing import OneHotEncoder\n",
        "import statsmodels.api as sm\n",
        "import statsmodels.formula.api as smf\n",
        "from sklearn.metrics import roc_auc_score\n",
        "from scipy.stats import ks_2samp\n",
        "warnings.filterwarnings(\"ignore\")"
      ],
      "execution_count": 1,
      "outputs": [
        {
          "output_type": "stream",
          "name": "stderr",
          "text": [
            "/usr/local/lib/python3.7/dist-packages/statsmodels/tools/_testing.py:19: FutureWarning: pandas.util.testing is deprecated. Use the functions in the public API at pandas.testing instead.\n",
            "  import pandas.util.testing as tm\n"
          ]
        }
      ]
    },
    {
      "cell_type": "code",
      "metadata": {
        "id": "uL47HWQFBvhE"
      },
      "source": [
        "# Conectar con Google Drive\n",
        "# from google.colab import drive\n",
        "# drive.mount('/content/drive')"
      ],
      "execution_count": 3,
      "outputs": []
    },
    {
      "cell_type": "code",
      "metadata": {
        "id": "Xj0iRmJkKFm_"
      },
      "source": [
        "# Funciones\n",
        "\n",
        "# Conteo de nulos\n",
        "def missing_tabla(df):\n",
        "    miss_value = df.isnull().sum()\n",
        "    miss_value_percent = 100*df.isnull().sum()/len(df)\n",
        "    \n",
        "    # Resultados\n",
        "    resultado = pd.concat([miss_value,miss_value_percent], axis=1)\n",
        "    resultado.rename(columns={0:'Cantidad de Missing',1:'% Porcentaje de Missing'}, inplace = True)\n",
        "    resultado.sort_values(by='% Porcentaje de Missing', inplace = True, ascending = False)\n",
        "    print('Cantidad de Missing por variable: ')\n",
        "    return resultado\n",
        "\n",
        "def tidy_corr_matrix(corr_mat):\n",
        "    '''\n",
        "    Función para convertir una matriz de correlación de pandas en formato tidy\n",
        "    '''\n",
        "    corr_mat = corr_mat.stack().reset_index()\n",
        "    corr_mat.columns = ['variable_1','variable_2','r']\n",
        "    corr_mat = corr_mat.loc[corr_mat['variable_1'] != corr_mat['variable_2'], :]\n",
        "    corr_mat['abs_r'] = np.abs(corr_mat['r'])\n",
        "    corr_mat = corr_mat.sort_values('abs_r', ascending=False)\n",
        "    return(corr_mat)\n",
        "\n",
        "# KS\n",
        "def ks_stat(y, yhat):\n",
        "    return ks_2samp(yhat[y==1], yhat[y!=1]).statistic\n",
        "\n",
        "# Calcula los indicadores\n",
        "def calcula_indicadores(modelo, y, y_hat):\n",
        "  # AUC\n",
        "  AUC = roc_auc_score(y, y_hat)\n",
        "\n",
        "  # Gini\n",
        "  GINI = 2*AUC-1\n",
        "\n",
        "  # KS\n",
        "  KS = ks_stat(y, y_hat)\n",
        "\n",
        "  return pd.DataFrame([GINI, AUC, KS],index=['GINI','AUC', 'KS'],columns=['Indicador'])\n",
        "\n",
        "def clean_names(model_x):\n",
        "  variables =[]\n",
        "  for variable in model_x.model.exog_names:\n",
        "    name = variable\n",
        "    if \"(\" in variable:\n",
        "      #clean_variable = re.search(\"\\.w+|\\w+\", variable)\n",
        "      #print(clean_variable.string)\n",
        "      name = variable[variable.find(\"(\")+1:variable.find(\")\")]\n",
        "    variables.append(name)\n",
        "  return variables\n",
        "\n",
        "def calcular_pesos(modelo_x):\n",
        "  coef_model = pd.DataFrame(modelo_x.tvalues,columns=['t_value'])\n",
        "  coef_model['t_value2'] = np.power(coef_model['t_value'],2)\n",
        "  coef_model['variable'] = clean_names(modelo_x)\n",
        "  coef_model['total'] = sum(coef_model['t_value2'])\n",
        "  resul = coef_model.groupby('variable')['t_value2'].sum() / coef_model['total'].mean()\n",
        "  resul = resul * 100\n",
        "  return resul.sort_values(ascending=True)\n"
      ],
      "execution_count": 4,
      "outputs": []
    },
    {
      "cell_type": "markdown",
      "metadata": {
        "id": "rnzg8A55IGG2"
      },
      "source": [
        "## 2.Data a Utilizar\n"
      ]
    },
    {
      "cell_type": "code",
      "metadata": {
        "colab": {
          "resources": {
            "http://localhost:8080/nbextensions/google.colab/files.js": {
              "data": "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",
              "ok": true,
              "headers": [
                [
                  "content-type",
                  "application/javascript"
                ]
              ],
              "status": 200,
              "status_text": ""
            }
          },
          "base_uri": "https://localhost:8080/",
          "height": 160
        },
        "id": "Tcie4MDPbFQT",
        "outputId": "b2a9cb7c-d3bf-4cf9-cb4e-fe6ffa2bcfaf"
      },
      "source": [
        "# Para importar archivos \n",
        "from google.colab import files \n",
        "files.upload()"
      ],
      "execution_count": 6,
      "outputs": [
        {
          "output_type": "display_data",
          "data": {
            "text/html": [
              "\n",
              "     <input type=\"file\" id=\"files-96a68bb8-933b-4984-9092-81d81ed5acd5\" name=\"files[]\" multiple disabled\n",
              "        style=\"border:none\" />\n",
              "     <output id=\"result-96a68bb8-933b-4984-9092-81d81ed5acd5\">\n",
              "      Upload widget is only available when the cell has been executed in the\n",
              "      current browser session. Please rerun this cell to enable.\n",
              "      </output>\n",
              "      <script src=\"/nbextensions/google.colab/files.js\"></script> "
            ],
            "text/plain": [
              "<IPython.core.display.HTML object>"
            ]
          },
          "metadata": {}
        },
        {
          "output_type": "stream",
          "name": "stdout",
          "text": [
            "Saving german_credit_data_test.csv to german_credit_data_test.csv\n",
            "Saving german_credit_data_train.csv to german_credit_data_train.csv\n"
          ]
        },
        {
          "output_type": "execute_result",
          "data": {
            "text/plain": [
              "{'german_credit_data_test.csv': b'Age,Sex,Job,Housing,Saving_accounts,Checking_account,Credit_amount,Duration,Purpose\\r\\n67,male,2,own,NA,little,1169,6,radio/TV\\r\\n22,female,2,own,little,moderate,5951,48,radio/TV\\r\\n49,male,1,own,little,NA,2096,12,education\\r\\n45,male,2,free,little,little,7882,42,furniture/equipment\\r\\n53,male,2,free,little,little,4870,24,car\\r\\n35,male,1,free,NA,NA,9055,36,education\\r\\n53,male,2,own,quite rich,NA,2835,24,furniture/equipment\\r\\n35,male,3,rent,little,moderate,6948,36,car\\r\\n61,male,1,own,rich,NA,3059,12,radio/TV\\r\\n28,male,3,own,little,moderate,5234,30,car\\r\\n25,female,2,rent,little,moderate,1295,12,car\\r\\n24,female,2,rent,little,little,4308,48,business\\r\\n22,female,2,own,little,moderate,1567,12,radio/TV\\r\\n60,male,1,own,little,little,1199,24,car\\r\\n28,female,2,rent,little,little,1403,15,car\\r\\n32,female,1,own,moderate,little,1282,24,radio/TV\\r\\n53,male,2,own,NA,NA,2424,24,radio/TV\\r\\n25,male,2,own,NA,little,8072,30,business\\r\\n44,female,3,free,little,moderate,12579,24,car\\r\\n31,male,2,own,quite rich,NA,3430,24,radio/TV\\r\\n48,male,2,own,little,NA,2134,9,car\\r\\n44,male,2,rent,quite rich,little,2647,6,radio/TV\\r\\n48,male,1,rent,little,little,2241,10,car\\r\\n44,male,2,own,moderate,moderate,1804,12,car\\r\\n26,male,2,own,NA,NA,2069,10,furniture/equipment\\r\\n36,male,1,own,little,little,1374,6,furniture/equipment\\r\\n39,male,1,own,little,NA,426,6,radio/TV\\r\\n42,female,2,rent,rich,rich,409,12,radio/TV\\r\\n34,male,2,own,little,moderate,2415,7,radio/TV\\r\\n63,male,2,own,little,little,6836,60,business\\r\\n36,male,2,own,rich,moderate,1913,18,business\\r\\n27,male,2,own,little,little,4020,24,furniture/equipment\\r\\n30,male,2,own,moderate,moderate,5866,18,car\\r\\n57,male,1,rent,NA,NA,1264,12,business\\r\\n33,female,3,own,little,rich,1474,12,furniture/equipment\\r\\n25,male,1,own,little,moderate,4746,45,radio/TV\\r\\n31,male,2,free,little,NA,6110,48,education\\r\\n37,male,2,own,little,rich,2100,18,radio/TV\\r\\n37,male,2,own,little,rich,1225,10,domestic appliances\\r\\n24,male,2,own,little,moderate,458,9,radio/TV\\r\\n30,male,3,own,quite rich,NA,2333,30,radio/TV\\r\\n26,male,2,own,quite rich,moderate,1158,12,radio/TV\\r\\n44,male,1,own,little,moderate,6204,18,repairs\\r\\n24,male,2,rent,moderate,little,6187,30,car\\r\\n58,female,1,free,little,little,6143,48,car\\r\\n35,female,3,own,little,NA,1393,11,car\\r\\n39,male,2,own,quite rich,NA,2299,36,radio/TV\\r\\n23,female,0,rent,quite rich,little,1352,6,car\\r\\n39,male,1,own,little,NA,7228,11,car\\r\\n28,female,2,own,moderate,NA,2073,12,radio/TV\\r\\n29,male,1,own,NA,moderate,2333,24,furniture/equipment\\r\\n30,male,3,own,little,moderate,5965,27,car\\r\\n25,male,2,own,little,NA,1262,12,radio/TV\\r\\n31,male,2,own,NA,NA,3378,18,car\\r\\n57,male,2,free,little,moderate,2225,36,car\\r\\n26,male,1,own,NA,NA,783,6,car\\r\\n52,male,3,own,NA,moderate,6468,12,radio/TV\\r\\n31,female,2,own,little,NA,9566,36,radio/TV\\r\\n23,female,3,own,little,rich,1961,18,car\\r\\n23,female,1,rent,little,little,6229,36,furniture/equipment\\r\\n27,male,2,own,little,moderate,1391,9,business\\r\\n50,male,2,own,NA,moderate,1537,15,radio/TV\\r\\n61,male,3,free,little,moderate,1953,36,business\\r\\n25,male,2,own,little,moderate,14421,48,business\\r\\n26,female,2,own,little,NA,3181,24,radio/TV\\r\\n48,male,2,own,NA,NA,5190,27,repairs\\r\\n29,female,2,own,little,NA,2171,12,radio/TV\\r\\n22,male,2,own,rich,moderate,1007,12,car\\r\\n37,male,2,free,little,NA,1819,36,education\\r\\n25,female,2,own,NA,NA,2394,36,radio/TV\\r\\n30,female,2,own,little,NA,8133,36,car\\r\\n46,male,1,rent,NA,NA,730,7,radio/TV\\r\\n51,male,3,free,little,little,1164,8,vacation/others\\r\\n41,female,1,own,little,moderate,5954,42,business\\r\\n40,male,3,own,NA,little,1977,36,education\\r\\n66,male,3,free,little,little,1526,12,car\\r\\n34,male,2,own,little,little,3965,42,radio/TV\\r\\n51,male,2,own,little,moderate,4771,11,radio/TV\\r\\n39,male,1,own,NA,NA,9436,54,car\\r\\n22,male,2,own,little,moderate,3832,30,furniture/equipment\\r\\n44,female,2,own,NA,NA,5943,24,radio/TV\\r\\n47,male,2,own,quite rich,NA,1213,15,radio/TV\\r\\n24,female,1,rent,moderate,NA,1568,18,business\\r\\n58,female,1,own,little,little,1755,24,vacation/others\\r\\n52,male,1,own,little,little,2315,10,radio/TV\\r\\n29,female,3,own,little,NA,1412,12,business\\r\\n27,female,2,own,little,moderate,1295,18,furniture/equipment\\r\\n47,male,2,free,moderate,moderate,12612,36,education\\r\\n30,male,3,own,moderate,little,2249,18,car\\r\\n28,male,2,own,little,little,1108,12,repairs\\r\\n56,male,2,own,little,NA,618,12,radio/TV\\r\\n54,male,2,own,little,little,1409,12,car\\r\\n33,female,1,own,NA,NA,797,12,radio/TV\\r\\n20,male,2,rent,NA,rich,3617,24,furniture/equipment\\r\\n54,male,2,own,rich,moderate,1318,12,car\\r\\n58,male,2,rent,little,moderate,15945,54,business\\r\\n61,female,2,own,NA,NA,2012,12,education\\r\\n34,male,2,own,moderate,moderate,2622,18,business\\r\\n36,male,2,own,little,moderate,2337,36,radio/TV\\r\\n36,male,3,rent,NA,moderate,7057,20,car\\r\\n41,male,1,rent,moderate,NA,1469,24,car\\r\\n24,male,2,rent,little,moderate,2323,36,radio/TV\\r\\n24,female,2,own,little,NA,932,6,radio/TV\\r\\n35,male,2,rent,little,moderate,1919,9,furniture/equipment\\r\\n26,male,2,rent,NA,NA,2445,12,car\\r\\n39,male,3,own,little,moderate,11938,24,vacation/others\\r\\n39,male,3,own,little,NA,6458,18,car\\r\\n32,male,2,own,little,moderate,6078,12,car\\r\\n30,female,2,own,NA,little,7721,24,furniture/equipment\\r\\n35,male,2,own,quite rich,moderate,1410,14,business\\r\\n31,male,2,own,moderate,moderate,1449,6,business\\r\\n23,female,2,rent,little,rich,392,15,education\\r\\n28,male,1,rent,little,moderate,6260,18,car\\r\\n25,female,2,own,little,NA,7855,36,car\\r\\n35,male,2,own,quite rich,little,1680,12,radio/TV\\r\\n47,male,2,own,NA,NA,3578,48,radio/TV\\r\\n30,female,3,own,NA,little,7174,42,radio/TV\\r\\n27,female,2,rent,NA,little,2132,10,furniture/equipment\\r\\n23,female,2,own,quite rich,little,4281,33,furniture/equipment\\r\\n36,male,3,own,quite rich,moderate,2366,12,car\\r\\n25,female,2,own,little,little,1835,21,radio/TV\\r\\n41,female,3,rent,little,NA,3868,24,car\\r\\n24,male,1,rent,little,NA,1768,12,furniture/equipment\\r\\n63,male,2,free,little,rich,781,10,car\\r\\n27,female,2,rent,NA,moderate,1924,18,furniture/equipment\\r\\n30,male,2,own,little,little,2121,12,car\\r\\n40,male,1,own,little,little,701,12,radio/TV\\r\\n30,male,2,own,little,moderate,639,12,repairs\\r\\n34,male,3,own,little,moderate,1860,12,car\\r\\n29,female,2,own,little,little,3499,12,car\\r\\n24,female,2,own,NA,moderate,8487,48,car\\r\\n29,male,2,own,little,little,6887,36,education\\r\\n27,male,1,own,little,NA,2708,15,furniture/equipment\\r\\n47,male,2,free,little,NA,1984,18,furniture/equipment\\r\\n21,female,2,own,moderate,NA,10144,60,radio/TV\\r\\n38,female,2,own,NA,NA,1240,12,radio/TV\\r\\n27,male,2,own,rich,NA,8613,27,car\\r\\n66,male,1,own,quite rich,moderate,766,12,radio/TV\\r\\n35,male,2,own,NA,moderate,2728,15,radio/TV\\r\\n44,female,1,rent,little,rich,1881,12,radio/TV\\r\\n27,male,0,own,rich,rich,709,6,car\\r\\n30,female,3,own,little,moderate,4795,36,radio/TV\\r\\n27,male,3,own,little,little,3416,27,radio/TV\\r\\n22,male,2,own,little,little,2462,18,furniture/equipment\\r\\n23,female,2,own,little,NA,2288,21,furniture/equipment\\r\\n30,male,2,own,moderate,moderate,3566,48,business\\r\\n39,female,2,own,little,little,860,6,car\\r\\n51,female,2,own,moderate,NA,682,12,car\\r\\n28,male,2,own,little,little,5371,36,furniture/equipment\\r\\n46,male,2,own,rich,NA,1582,18,radio/TV\\r\\n42,male,2,free,moderate,NA,1346,6,radio/TV\\r\\n38,male,2,own,little,NA,1924,10,radio/TV\\r\\n24,male,2,own,little,rich,5848,36,radio/TV\\r\\n29,female,2,rent,rich,moderate,7758,24,car\\r\\n36,male,3,rent,moderate,moderate,6967,24,business\\r\\n20,female,2,rent,little,little,1282,12,furniture/equipment\\r\\n48,male,2,own,moderate,little,1288,9,repairs\\r\\n45,male,1,own,little,little,339,12,education\\r\\n38,male,2,own,moderate,moderate,3512,24,car\\r\\n34,male,1,own,NA,NA,1898,6,radio/TV\\r\\n36,male,2,own,moderate,NA,2872,24,radio/TV\\r\\n30,female,2,own,little,NA,1055,18,car\\r\\n36,male,2,own,quite rich,NA,1262,15,domestic appliances\\r\\n70,male,3,free,little,moderate,7308,10,car\\r\\n36,male,2,own,quite rich,NA,909,36,car\\r\\n32,male,2,own,quite rich,NA,2978,6,furniture/equipment\\r\\n33,female,2,own,little,little,1131,18,furniture/equipment\\r\\n20,female,2,own,rich,moderate,1577,11,furniture/equipment\\r\\n25,female,2,rent,little,NA,3972,24,furniture/equipment\\r\\n31,male,2,own,little,moderate,1935,24,business\\r\\n33,male,2,rent,little,little,950,15,car\\r\\n26,female,2,own,little,NA,763,12,furniture/equipment\\r\\n34,female,3,own,little,moderate,2064,24,furniture/equipment\\r\\n33,male,2,own,little,moderate,1414,8,radio/TV\\r\\n26,male,2,own,little,little,3414,21,education\\r\\n53,female,3,own,NA,NA,7485,30,car\\r\\n42,male,2,own,little,little,2577,12,furniture/equipment\\r\\n52,male,2,own,quite rich,little,338,6,radio/TV\\r\\n31,male,3,rent,little,NA,1963,12,radio/TV\\r\\n65,male,2,own,little,little,571,21,car\\r\\n28,male,2,own,little,NA,9572,36,business\\r\\n30,male,3,own,little,moderate,4455,36,business\\r\\n40,male,1,own,NA,little,1647,21,car\\r\\n50,male,2,own,rich,NA,3777,24,furniture/equipment\\r\\n36,male,2,own,little,moderate,884,18,car\\r\\n31,male,2,own,little,NA,1360,15,radio/TV\\r\\n74,female,3,free,little,moderate,5129,9,car\\r\\n68,male,0,free,little,moderate,1175,16,car\\r\\n20,male,2,own,moderate,little,674,12,radio/TV\\r\\n33,female,2,own,little,moderate,3244,18,furniture/equipment\\r\\n54,male,3,own,rich,NA,4591,24,business\\r\\n34,male,1,free,moderate,moderate,3844,48,business\\r\\n36,male,2,own,little,moderate,3915,27,business\\r\\n29,male,2,rent,little,NA,2108,6,radio/TV\\r\\n21,male,2,rent,moderate,moderate,3031,45,radio/TV\\r\\n34,female,3,own,little,moderate,1501,9,education\\r\\n28,female,2,own,little,NA,1382,6,radio/TV\\r\\n27,female,2,rent,moderate,moderate,951,12,furniture/equipment\\r\\n36,male,2,free,NA,moderate,2760,24,car\\r\\n40,male,3,own,little,moderate,4297,18,furniture/equipment\\r\\n52,male,2,own,quite rich,NA,936,9,education\\r\\n27,male,1,own,little,little,1168,12,car\\r\\n26,male,2,own,little,NA,5117,27,business\\r\\n21,male,2,rent,little,little,902,12,education\\r\\n38,male,1,own,little,NA,1495,12,car\\r\\n38,male,3,free,little,little,10623,30,car\\r\\n43,male,2,own,little,NA,1935,12,furniture/equipment\\r\\n26,male,2,own,little,moderate,1424,12,domestic appliances\\r\\n21,male,1,own,little,little,6568,24,business\\r\\n55,male,2,own,rich,NA,1413,12,car\\r\\n33,male,2,own,NA,NA,3074,9,radio/TV\\r\\n45,female,1,own,NA,NA,3835,36,radio/TV\\r\\n50,male,2,own,little,little,5293,27,business\\r\\n66,male,3,own,little,rich,1908,30,business\\r\\n51,male,2,own,NA,NA,3342,36,radio/TV\\r\\n39,female,1,own,NA,moderate,932,6,education\\r\\n31,male,2,own,little,little,3104,18,business\\r\\n23,male,2,own,little,rich,3913,36,radio/TV\\r\\n24,male,1,rent,little,little,3021,24,furniture/equipment\\r\\n64,female,2,own,little,NA,1364,10,car\\r\\n26,male,1,own,little,moderate,625,12,radio/TV\\r\\n23,female,2,rent,NA,little,1200,12,education\\r\\n30,male,2,own,little,NA,707,12,radio/TV\\r\\n32,male,2,own,NA,NA,2978,24,business\\r\\n30,male,2,own,little,NA,4657,15,car\\r\\n27,male,2,own,little,NA,2613,36,repairs\\r\\n27,male,2,own,rich,moderate,10961,48,radio/TV\\r\\n53,male,3,free,little,little,7865,12,furniture/equipment\\r\\n22,male,2,own,little,NA,1478,9,radio/TV\\r\\n22,male,2,free,little,little,3149,24,furniture/equipment\\r\\n26,male,2,own,little,rich,4210,36,radio/TV\\r\\n51,male,1,free,quite rich,NA,2507,9,car\\r\\n35,male,2,own,moderate,NA,2141,12,radio/TV\\r\\n25,male,1,own,little,moderate,866,18,radio/TV\\r\\n42,male,1,own,little,NA,1544,4,radio/TV\\r\\n30,male,3,own,little,little,1823,24,radio/TV\\r\\n23,male,0,own,NA,moderate,14555,6,car\\r\\n61,male,1,rent,moderate,moderate,2767,21,business\\r\\n35,female,2,own,little,NA,1291,12,radio/TV\\r\\n39,male,2,own,little,little,2522,30,radio/TV\\r\\n29,female,2,own,NA,little,915,24,car\\r\\n51,male,2,own,little,NA,1595,6,radio/TV\\r\\n24,male,2,free,little,little,4605,48,car\\r\\n27,female,2,own,little,NA,1185,12,business\\r\\n35,female,1,own,quite rich,NA,3447,12,education\\r\\n25,male,2,own,little,NA,1258,24,business\\r\\n52,male,2,own,little,NA,717,12,radio/TV\\r\\n35,male,2,rent,moderate,NA,1204,6,car\\r\\n26,male,2,own,little,rich,1925,24,furniture/equipment\\r\\n22,female,2,rent,little,NA,433,18,radio/TV\\r\\n39,female,1,own,rich,little,666,6,car\\r\\n46,female,1,own,little,rich,2251,12,furniture/equipment\\r\\n24,female,2,own,little,moderate,2150,30,car\\r\\n35,male,2,own,moderate,NA,4151,24,furniture/equipment\\r\\n24,male,2,own,NA,moderate,2030,9,furniture/equipment\\r\\n27,male,1,own,NA,moderate,7418,60,radio/TV\\r\\n35,male,1,own,little,NA,2684,24,radio/TV\\r\\n29,male,2,free,little,little,2149,12,radio/TV\\r\\n23,female,2,own,moderate,NA,3812,15,car\\r\\n57,female,1,own,moderate,NA,1154,11,radio/TV\\r\\n27,male,2,own,little,little,1657,12,furniture/equipment\\r\\n55,female,2,own,little,little,1603,24,radio/TV\\r\\n36,male,3,free,little,little,5302,18,car\\r\\n57,female,1,free,little,NA,2748,12,education\\r\\n32,male,1,own,little,NA,1231,10,car\\r\\n37,male,2,own,little,moderate,802,15,radio/TV\\r\\n36,male,2,own,NA,NA,6304,36,business\\r\\n38,female,2,own,little,NA,1533,24,radio/TV\\r\\n45,male,3,own,little,little,8978,14,car\\r\\n25,male,2,own,NA,NA,999,24,radio/TV\\r\\n32,male,2,own,NA,NA,2662,18,car\\r\\n37,female,2,rent,quite rich,NA,1402,12,furniture/equipment\\r\\n36,male,3,free,NA,moderate,12169,48,car\\r\\n28,male,2,own,little,moderate,3060,48,radio/TV\\r\\n34,male,1,own,little,little,11998,30,repairs\\r\\n32,male,2,own,little,NA,2697,9,radio/TV\\r\\n26,female,2,own,little,NA,2404,18,radio/TV\\r\\n49,male,1,own,NA,little,1262,12,furniture/equipment\\r\\n32,female,2,own,little,NA,4611,6,furniture/equipment\\r\\n29,male,3,rent,moderate,NA,1901,24,radio/TV\\r\\n23,male,2,rent,rich,NA,3368,15,car\\r\\n50,male,2,own,little,NA,1574,12,furniture/equipment\\r\\n49,male,1,own,NA,rich,1445,18,radio/TV\\r\\n63,male,2,own,NA,NA,1520,15,furniture/equipment\\r\\n37,male,2,own,moderate,moderate,3878,24,car\\r\\n35,female,1,own,little,little,10722,47,car\\r\\n26,male,2,own,little,little,4788,48,car\\r\\n31,male,3,free,moderate,moderate,7582,48,vacation/others\\r\\n49,female,2,own,little,moderate,1092,12,radio/TV\\r\\n48,male,2,own,little,little,1024,24,radio/TV\\r\\n26,male,2,own,little,NA,1076,12,business\\r\\n28,male,3,rent,little,moderate,9398,36,car\\r\\n44,female,3,free,little,little,6419,24,car\\r\\n56,male,2,free,little,rich,4796,42,car\\r\\n46,male,3,own,NA,NA,7629,48,business\\r\\n26,female,2,own,little,moderate,9960,48,furniture/equipment\\r\\n20,female,2,rent,NA,NA,4675,12,car\\r\\n45,male,1,own,NA,NA,1287,10,car\\r\\n43,male,2,own,little,NA,2515,18,furniture/equipment\\r\\n32,male,2,own,rich,moderate,2745,21,furniture/equipment\\r\\n54,female,0,own,little,NA,672,6,car\\r\\n42,female,2,own,little,moderate,3804,36,radio/TV\\r\\n37,male,1,own,NA,rich,1344,24,car\\r\\n49,male,2,own,little,little,1038,10,car\\r\\n44,male,2,free,quite rich,NA,10127,48,car\\r\\n33,male,2,own,rich,NA,1543,6,furniture/equipment\\r\\n24,female,1,rent,NA,NA,4811,30,car\\r\\n33,male,1,own,moderate,little,727,12,radio/TV\\r\\n24,female,2,own,little,moderate,1237,8,furniture/equipment\\r\\n22,male,1,rent,little,moderate,276,9,car\\r\\n40,male,0,free,NA,moderate,5381,48,vacation/others\\r\\n25,male,2,own,moderate,NA,5511,24,furniture/equipment\\r\\n26,female,2,own,little,rich,3749,24,furniture/equipment\\r\\n25,male,1,own,little,moderate,685,12,car\\r\\n29,male,1,own,NA,rich,1494,4,car\\r\\n31,male,2,own,little,little,2746,36,furniture/equipment\\r\\n38,male,1,own,little,little,708,12,furniture/equipment\\r\\n48,female,1,own,NA,moderate,4351,24,furniture/equipment\\r\\n32,male,2,own,little,NA,701,12,education\\r\\n27,female,1,own,little,little,3643,15,furniture/equipment\\r\\n28,male,3,own,little,moderate,4249,30,car\\r\\n32,male,2,own,little,little,1938,24,radio/TV\\r\\n34,male,3,free,little,little,2910,24,car\\r\\n28,male,2,own,rich,little,2659,18,furniture/equipment\\r\\n36,female,2,own,little,NA,1028,18,car\\r\\n39,male,1,own,little,little,3398,8,car\\r\\n49,male,2,rent,NA,NA,5801,12,furniture/equipment\\r\\n34,female,2,own,rich,NA,1525,24,car\\r\\n31,male,2,own,little,rich,4473,36,radio/TV\\r\\n28,male,2,own,little,moderate,1068,6,radio/TV\\r\\n75,male,3,free,little,little,6615,24,car\\r\\n30,female,2,own,moderate,NA,1864,18,education\\r\\n24,female,3,own,moderate,moderate,7408,60,car\\r\\n24,female,1,rent,moderate,NA,11590,48,car\\r\\n23,male,2,rent,little,little,4110,24,furniture/equipment\\r\\n44,male,3,rent,little,little,3384,6,furniture/equipment\\r\\n23,female,1,own,little,moderate,2101,13,radio/TV\\r\\n24,female,2,rent,NA,little,1275,15,domestic appliances\\r\\n28,male,2,own,little,little,4169,24,furniture/equipment\\r\\n31,male,1,own,little,moderate,1521,10,furniture/equipment\\r\\n24,female,2,free,little,moderate,5743,24,education\\r\\n26,female,1,rent,little,little,3599,21,furniture/equipment\\r\\n25,male,2,rent,quite rich,moderate,3213,18,radio/TV\\r\\n33,male,3,own,little,moderate,4439,18,business\\r\\n37,male,1,own,little,rich,3949,10,car\\r\\n43,female,1,own,little,NA,1459,15,radio/TV\\r\\n23,male,2,own,little,moderate,882,13,radio/TV\\r\\n23,female,0,rent,quite rich,moderate,3758,24,radio/TV\\r\\n34,male,1,own,moderate,NA,1743,6,business\\r\\n32,male,2,free,rich,moderate,1136,9,education\\r\\n23,female,2,rent,little,NA,1236,9,domestic appliances\\r\\n29,female,2,own,little,moderate,959,9,furniture/equipment\\r\\n38,male,3,own,NA,NA,3229,18,car\\r\\n28,male,2,rent,little,little,6199,12,radio/TV\\r\\n46,male,2,free,quite rich,NA,727,10,education\\r\\n23,male,1,own,little,moderate,1246,24,car\\r\\n49,male,2,own,NA,NA,2331,12,radio/TV\\r\\n26,male,3,own,little,NA,4463,36,radio/TV\\r\\n28,male,2,own,little,NA,776,12,radio/TV\\r\\n23,female,2,rent,little,little,2406,30,furniture/equipment\\r\\n61,male,2,free,NA,moderate,1239,18,education\\r\\n37,male,3,own,NA,rich,3399,12,radio/TV\\r\\n36,female,2,own,little,rich,2247,12,car\\r\\n21,male,2,rent,little,NA,1766,6,furniture/equipment\\r\\n25,male,0,own,little,little,2473,18,furniture/equipment\\r\\n36,male,2,own,little,NA,1542,12,business\\r\\n27,male,2,own,little,NA,3850,18,car\\r\\n22,female,2,rent,little,little,3650,18,furniture/equipment\\r\\n42,male,2,own,little,little,3446,36,furniture/equipment\\r\\n40,female,2,rent,little,moderate,3001,18,furniture/equipment\\r\\n36,male,2,own,NA,NA,3079,36,car\\r\\n33,male,2,own,little,NA,6070,18,radio/TV\\r\\n23,female,2,rent,little,NA,2146,10,furniture/equipment\\r\\n63,male,3,free,NA,NA,13756,60,car\\r\\n60,female,3,free,moderate,moderate,14782,60,vacation/others\\r\\n37,female,2,rent,little,little,7685,48,business\\r\\n34,male,2,own,little,NA,2320,18,radio/TV\\r\\n36,male,2,free,NA,NA,846,7,radio/TV\\r\\n57,male,3,free,little,moderate,14318,36,car\\r\\n52,female,1,own,moderate,NA,362,6,car\\r\\n39,male,2,own,NA,little,2212,20,furniture/equipment\\r\\n38,female,3,free,little,moderate,12976,18,car\\r\\n25,female,2,rent,NA,NA,1283,22,car\\r\\n26,male,2,own,little,rich,1330,12,car\\r\\n26,male,1,own,moderate,NA,4272,30,business\\r\\n25,female,2,own,little,NA,2238,18,radio/TV\\r\\n21,female,2,rent,NA,NA,1126,18,radio/TV\\r\\n40,male,3,own,little,moderate,7374,18,furniture/equipment\\r\\n27,male,2,own,quite rich,moderate,2326,15,business\\r\\n27,female,2,own,little,NA,1449,9,business\\r\\n30,male,3,own,little,NA,1820,18,car\\r\\n19,female,1,rent,rich,moderate,983,12,furniture/equipment\\r\\n39,male,3,free,little,little,3249,36,car\\r\\n31,female,2,own,little,little,1957,6,radio/TV\\r\\n31,male,3,own,little,NA,2406,9,furniture/equipment\\r\\n32,male,2,rent,moderate,moderate,11760,39,education\\r\\n55,female,3,free,little,little,2578,12,furniture/equipment\\r\\n46,male,2,own,little,little,2348,36,furniture/equipment\\r\\n46,male,2,rent,little,moderate,1223,12,car\\r\\n43,female,1,own,rich,NA,1516,24,radio/TV\\r\\n39,male,2,own,little,NA,1473,18,radio/TV\\r\\n28,male,2,own,NA,moderate,1887,18,business\\r\\n27,male,2,own,little,NA,8648,24,business\\r\\n27,male,1,own,little,NA,802,14,car\\r\\n43,male,2,own,NA,moderate,2899,18,car\\r\\n22,male,2,own,little,moderate,2039,24,radio/TV\\r\\n43,male,2,own,NA,NA,2197,24,car\\r\\n27,male,2,own,little,little,1053,15,radio/TV\\r\\n26,male,3,own,quite rich,NA,3235,24,radio/TV\\r\\n28,male,2,own,quite rich,rich,939,12,car\\r\\n20,female,2,own,little,moderate,1967,24,radio/TV\\r\\n35,male,3,own,little,NA,7253,33,car\\r\\n42,male,3,own,little,NA,2292,12,business\\r\\n40,male,1,rent,quite rich,NA,1597,10,car\\r\\n35,female,2,own,NA,little,1381,24,car\\r\\n35,male,2,own,little,NA,5842,36,car\\r\\n33,male,1,own,little,little,2579,12,car\\r\\n23,female,2,rent,NA,little,8471,18,education\\r\\n31,female,3,own,quite rich,NA,2782,21,car\\r\\n33,female,2,own,NA,moderate,1042,18,car\\r\\n20,female,2,rent,rich,NA,3186,15,car\\r\\n30,male,2,own,NA,moderate,2028,12,car\\r\\n47,male,1,own,little,moderate,958,12,car\\r\\n34,male,3,own,moderate,NA,1591,21,furniture/equipment\\r\\n25,female,2,own,NA,moderate,2762,12,furniture/equipment\\r\\n21,male,2,rent,little,moderate,2779,18,car\\r\\n29,male,2,own,little,NA,2743,28,radio/TV\\r\\n46,male,2,own,rich,NA,1149,18,radio/TV\\r\\n20,male,2,own,little,NA,1313,9,furniture/equipment\\r\\n55,female,0,free,little,little,1190,18,repairs\\r\\n74,male,1,own,little,NA,3448,5,business\\r\\n29,male,3,own,little,moderate,11328,24,vacation/others\\r\\n36,male,3,free,little,little,1872,6,furniture/equipment\\r\\n33,male,2,own,little,NA,2058,24,repairs\\r\\n25,male,2,own,little,little,2136,9,furniture/equipment\\r\\n25,male,2,own,NA,moderate,1484,12,radio/TV\\r\\n23,male,1,rent,quite rich,NA,660,6,repairs\\r\\n37,female,2,own,rich,NA,1287,24,car\\r\\n65,male,0,own,little,little,3394,42,repairs\\r\\n26,female,0,own,little,rich,609,12,business\\r\\n39,male,3,own,little,NA,1884,12,car\\r\\n30,female,2,own,little,little,1620,12,furniture/equipment\\r\\n29,male,2,own,little,moderate,2629,20,vacation/others\\r\\n41,male,1,own,little,NA,719,12,education\\r\\n30,female,3,own,little,moderate,5096,48,furniture/equipment\\r\\n41,female,1,rent,NA,NA,1244,9,education\\r\\n34,female,2,own,little,little,1842,36,car\\r\\n35,male,2,own,little,moderate,2576,7,radio/TV\\r\\n55,female,3,own,NA,rich,1424,12,furniture/equipment\\r\\n61,male,2,own,rich,moderate,1512,15,repairs\\r\\n30,male,3,own,NA,NA,11054,36,car\\r\\n29,female,2,own,little,NA,518,6,radio/TV\\r\\n34,male,2,own,little,NA,2759,12,furniture/equipment\\r\\n35,male,3,own,little,NA,2670,24,car\\r\\n31,male,2,own,little,little,4817,24,car\\r\\n29,female,3,own,little,NA,2679,24,car\\r\\n36,male,2,rent,little,little,3905,11,car\\r\\n35,male,2,free,little,little,3386,12,car\\r\\n27,female,2,own,little,little,343,6,domestic appliances\\r\\n32,male,2,own,little,NA,4594,18,radio/TV\\r\\n37,male,2,own,little,little,3620,36,furniture/equipment\\r\\n36,male,2,own,little,little,1721,15,car\\r\\n34,female,3,rent,little,moderate,3017,12,furniture/equipment\\r\\n38,male,2,own,NA,moderate,754,12,education\\r\\n34,male,2,own,little,NA,1950,18,business\\r\\n63,male,2,own,little,little,2924,24,car\\r\\n29,female,1,rent,little,little,1659,24,radio/TV\\r\\n32,male,2,own,NA,NA,7238,48,radio/TV\\r\\n26,female,2,own,little,NA,2764,33,business\\r\\n35,male,1,own,little,NA,4679,24,car\\r\\n22,male,2,rent,moderate,moderate,3092,24,radio/TV\\r\\n23,female,2,own,little,little,448,6,education\\r\\n28,male,1,own,little,little,654,9,car\\r\\n36,male,3,own,NA,NA,1238,6,education\\r\\n33,male,2,own,little,moderate,1245,18,radio/TV\\r\\n26,female,2,rent,little,little,3114,18,furniture/equipment\\r\\n24,male,2,own,quite rich,NA,2569,39,car\\r\\n25,male,2,own,little,rich,5152,24,radio/TV\\r\\n39,male,1,own,moderate,moderate,1037,12,business\\r\\n44,male,2,own,little,little,1478,15,furniture/equipment\\r\\n23,female,1,own,little,moderate,3573,12,radio/TV\\r\\n26,male,2,own,little,moderate,1201,24,car\\r\\n57,female,2,rent,rich,little,3622,30,furniture/equipment\\r\\n30,female,2,own,rich,NA,960,15,furniture/equipment\\r\\n44,male,2,own,quite rich,NA,1163,12,car\\r\\n47,male,3,own,little,moderate,1209,6,car\\r\\n52,male,2,own,little,NA,3077,12,radio/TV\\r\\n62,female,2,free,little,NA,3757,24,car\\r\\n35,male,1,rent,moderate,NA,1418,10,car\\r\\n26,male,2,rent,little,NA,3518,6,car\\r\\n26,male,2,own,little,NA,1934,12,radio/TV\\r\\n42,female,3,free,little,moderate,8318,27,business\\r\\n27,female,2,own,moderate,NA,1237,6,radio/TV\\r\\n38,male,2,own,NA,moderate,368,6,radio/TV\\r\\n39,male,1,rent,little,little,2122,12,car\\r\\n20,male,2,own,NA,little,2996,24,furniture/equipment\\r\\n29,male,3,rent,moderate,moderate,9034,36,furniture/equipment\\r\\n40,male,2,own,little,NA,1585,24,furniture/equipment\\r\\n32,male,1,own,little,moderate,1301,18,radio/TV\\r\\n28,male,2,own,moderate,rich,1323,6,car\\r\\n27,female,2,own,little,little,3123,24,car\\r\\n42,male,2,free,little,little,5493,36,car\\r\\n49,male,2,own,moderate,rich,1126,9,radio/TV\\r\\n38,male,2,own,moderate,moderate,1216,24,radio/TV\\r\\n24,female,2,rent,little,little,1207,24,car\\r\\n27,male,1,own,NA,NA,1309,10,car\\r\\n36,male,2,own,quite rich,rich,2360,15,car\\r\\n34,male,3,own,moderate,moderate,6850,15,car\\r\\n28,male,2,own,little,NA,1413,24,radio/TV\\r\\n45,male,3,own,moderate,NA,8588,39,car\\r\\n26,male,2,own,little,little,759,12,car\\r\\n32,male,3,free,little,NA,4686,36,car\\r\\n26,male,2,rent,little,rich,2687,15,business\\r\\n20,male,2,rent,little,moderate,585,12,radio/TV\\r\\n54,male,2,own,NA,NA,2255,24,car\\r\\n37,female,2,own,little,little,609,6,car\\r\\n40,male,1,own,little,little,1361,6,car\\r\\n23,female,2,rent,little,NA,7127,36,furniture/equipment\\r\\n43,male,2,own,moderate,little,1203,6,car\\r\\n36,male,2,free,NA,NA,700,6,radio/TV\\r\\n44,male,2,free,little,NA,5507,24,repairs\\r\\n24,female,2,own,little,little,3190,18,radio/TV\\r\\n53,male,2,free,little,little,7119,48,furniture/equipment\\r\\n23,female,2,own,moderate,NA,3488,24,car\\r\\n26,female,1,own,little,moderate,1113,18,radio/TV\\r\\n30,male,2,own,little,moderate,7966,26,car\\r\\n31,female,2,own,moderate,NA,1532,15,education\\r\\n42,male,1,own,little,NA,1503,4,radio/TV\\r\\n31,male,2,rent,little,little,2302,36,radio/TV\\r\\n41,male,1,own,little,little,662,6,car\\r\\n32,male,2,own,little,moderate,2273,36,education\\r\\n28,female,2,rent,moderate,moderate,2631,15,car\\r\\n41,male,2,rent,little,NA,1503,12,car\\r\\n26,male,2,own,moderate,NA,1311,24,radio/TV\\r\\n25,male,2,own,NA,NA,3105,24,radio/TV\\r\\n33,male,2,rent,little,rich,2319,21,education\\r\\n75,female,3,own,NA,little,1374,6,car\\r\\n37,female,2,own,little,moderate,3612,18,furniture/equipment\\r\\n42,male,3,free,little,little,7763,48,car\\r\\n45,female,1,own,little,rich,3049,18,furniture/equipment\\r\\n23,male,2,rent,little,moderate,1534,12,radio/TV\\r\\n60,male,2,free,little,NA,2032,24,car\\r\\n31,male,2,own,NA,little,6350,30,furniture/equipment\\r\\n34,male,1,own,little,rich,2864,18,furniture/equipment\\r\\n61,male,1,own,little,NA,1255,12,car\\r\\n43,male,2,free,little,little,1333,24,car\\r\\n37,female,2,own,little,NA,2022,24,car\\r\\n32,male,2,own,little,NA,1552,24,radio/TV\\r\\n24,female,1,own,little,little,626,12,radio/TV\\r\\n35,male,2,free,NA,NA,8858,48,car\\r\\n23,female,2,own,NA,NA,996,12,repairs\\r\\n45,male,1,own,quite rich,NA,1750,6,radio/TV\\r\\n34,male,2,own,little,little,6999,48,radio/TV\\r\\n27,male,2,own,moderate,moderate,1995,12,car\\r\\n67,female,3,own,little,moderate,1199,9,education\\r\\n22,male,2,own,little,moderate,1331,12,radio/TV\\r\\n28,female,2,own,moderate,moderate,2278,18,car\\r\\n29,female,2,own,NA,NA,5003,21,car\\r\\n27,male,2,own,little,little,3552,24,furniture/equipment\\r\\n31,male,1,own,little,moderate,1928,18,furniture/equipment\\r\\n49,male,2,free,NA,little,2964,24,car\\r\\n24,male,1,rent,little,little,1546,24,radio/TV\\r\\n29,female,2,own,little,rich,683,6,radio/TV\\r\\n37,male,2,free,NA,moderate,12389,36,car\\r\\n37,male,3,own,NA,moderate,4712,24,business\\r\\n23,female,2,rent,moderate,moderate,1553,24,radio/TV\\r\\n36,male,2,own,little,little,1372,12,car\\r\\n34,male,2,own,rich,NA,2578,24,radio/TV\\r\\n41,male,2,own,NA,moderate,3979,48,radio/TV\\r\\n31,female,2,own,little,little,6758,48,radio/TV\\r\\n23,female,1,rent,little,little,3234,24,furniture/equipment\\r\\n38,male,2,own,little,NA,5954,30,radio/TV\\r\\n26,female,3,rent,NA,NA,5433,24,car\\r\\n22,female,1,own,little,little,806,15,business\\r\\n27,male,1,own,little,moderate,1082,9,radio/TV\\r\\n24,female,2,own,little,NA,2788,15,furniture/equipment\\r\\n27,female,2,own,little,moderate,2930,12,radio/TV\\r\\n33,female,2,own,NA,NA,1927,24,education\\r\\n27,male,2,own,little,moderate,2820,36,car\\r\\n27,male,1,own,little,NA,937,24,education\\r\\n30,male,2,own,little,moderate,1056,18,car\\r\\n49,male,1,own,little,moderate,3124,12,car\\r\\n26,female,2,rent,little,NA,1388,9,furniture/equipment\\r\\n33,male,1,rent,little,moderate,2384,36,repairs\\r\\n52,female,3,free,NA,NA,2133,12,car\\r\\n20,female,2,rent,little,little,2039,18,furniture/equipment\\r\\n36,male,2,rent,little,little,2799,9,car\\r\\n21,male,1,own,little,little,1289,12,furniture/equipment\\r\\n47,male,1,own,little,little,1217,18,domestic appliances\\r\\n60,male,2,own,little,little,2246,12,furniture/equipment\\r\\n58,female,1,own,little,little,385,12,radio/TV\\r\\n42,female,2,rent,NA,moderate,1965,24,car\\r\\n36,female,1,own,rich,NA,1572,21,business\\r\\n20,female,1,rent,little,moderate,2718,24,car\\r\\n40,male,3,own,NA,little,1358,24,vacation/others\\r\\n32,female,1,own,moderate,moderate,931,6,car\\r\\n23,female,2,rent,little,little,1442,24,car\\r\\n36,male,1,own,little,moderate,4241,24,business\\r\\n31,male,2,own,little,NA,2775,18,car\\r\\n32,male,2,free,little,NA,3863,24,business\\r\\n45,female,2,own,little,moderate,2329,7,radio/TV\\r\\n30,female,2,own,little,moderate,918,9,furniture/equipment\\r\\n34,female,1,free,little,moderate,1837,24,education\\r\\n28,female,3,own,little,NA,3349,36,furniture/equipment\\r\\n23,female,2,own,little,rich,1275,10,furniture/equipment\\r\\n22,male,2,own,quite rich,little,2828,24,furniture/equipment\\r\\n74,male,3,own,little,NA,4526,24,business\\r\\n50,female,2,free,moderate,moderate,2671,36,radio/TV\\r\\n33,male,2,own,little,NA,2051,18,radio/TV\\r\\n45,male,2,free,NA,NA,1300,15,car\\r\\n22,female,2,own,moderate,little,741,12,domestic appliances\\r\\n48,female,1,free,moderate,rich,1240,10,car\\r\\n29,female,2,own,rich,little,3357,21,radio/TV\\r\\n22,female,2,rent,little,little,3632,24,car\\r\\n22,female,2,own,little,NA,1808,18,furniture/equipment\\r\\n48,male,3,own,NA,moderate,12204,48,business\\r\\n27,male,3,free,NA,moderate,9157,60,radio/TV\\r\\n37,male,2,rent,little,little,3676,6,car\\r\\n21,female,2,rent,moderate,moderate,3441,30,furniture/equipment\\r\\n49,male,1,own,little,NA,640,12,car\\r\\n27,male,2,own,little,moderate,3652,21,business\\r\\n32,male,2,own,little,NA,1530,18,car\\r\\n38,male,2,own,NA,NA,3914,48,business\\r\\n22,female,2,rent,little,little,1858,12,furniture/equipment\\r\\n65,male,2,free,little,little,2600,18,radio/TV\\r\\n35,male,2,own,NA,NA,1979,15,radio/TV\\r\\n41,male,2,own,little,rich,2116,6,furniture/equipment\\r\\n29,male,2,own,moderate,moderate,1437,9,car\\r\\n36,male,2,own,quite rich,NA,4042,42,furniture/equipment\\r\\n64,male,1,own,NA,NA,3832,9,education\\r\\n28,female,2,own,little,little,3660,24,radio/TV\\r\\n44,male,2,own,little,little,1553,18,furniture/equipment\\r\\n23,male,2,own,NA,moderate,1444,15,radio/TV\\r\\n19,female,2,rent,little,NA,1980,9,furniture/equipment\\r\\n25,female,1,own,little,moderate,1355,24,car\\r\\n47,male,2,own,little,NA,1393,12,education\\r\\n28,female,2,own,quite rich,NA,1376,24,radio/TV\\r\\n21,male,2,own,little,NA,15653,60,radio/TV\\r\\n34,female,2,own,little,NA,1493,12,radio/TV\\r\\n26,male,2,own,little,little,4370,42,radio/TV\\r\\n27,female,0,own,little,little,750,18,education\\r\\n38,male,1,own,little,moderate,1308,15,repairs\\r\\n40,male,3,own,moderate,NA,4623,15,education\\r\\n33,male,2,own,little,NA,1851,24,radio/TV\\r\\n32,male,3,own,little,little,1880,18,radio/TV\\r\\n27,male,2,rent,NA,NA,7980,36,business\\r\\n32,male,2,own,little,little,4583,30,furniture/equipment\\r\\n26,female,2,own,quite rich,NA,1386,12,car\\r\\n38,male,2,free,little,rich,947,24,car\\r\\n40,male,1,rent,little,little,684,12,education\\r\\n50,male,3,free,little,little,7476,48,education\\r\\n37,male,1,own,little,moderate,1922,12,furniture/equipment\\r\\n45,male,2,own,little,little,2303,24,car\\r\\n42,male,3,own,moderate,moderate,8086,36,car\\r\\n35,male,2,own,little,NA,2346,24,car\\r\\n22,male,2,free,little,little,3973,14,car\\r\\n41,male,1,own,little,moderate,888,12,car\\r\\n37,male,2,own,NA,NA,10222,48,radio/TV\\r\\n28,female,2,own,little,moderate,4221,30,business\\r\\n41,male,2,own,little,moderate,6361,18,furniture/equipment\\r\\n23,male,2,rent,little,rich,1297,12,radio/TV\\r\\n23,male,2,own,NA,little,900,12,car\\r\\n50,male,2,own,little,NA,2241,21,furniture/equipment\\r\\n35,male,3,own,little,moderate,1050,6,furniture/equipment\\r\\n50,female,1,own,little,rich,1047,6,education\\r\\n27,male,3,own,little,NA,6314,24,vacation/others\\r\\n34,male,2,own,rich,moderate,3496,30,furniture/equipment\\r\\n27,female,2,own,little,NA,3609,48,business\\r\\n43,male,2,rent,little,little,4843,12,car\\r\\n47,male,2,own,little,rich,3017,30,radio/TV\\r\\n27,male,1,own,moderate,NA,4139,24,business\\r\\n31,male,2,own,moderate,NA,5742,36,business\\r\\n42,male,3,own,little,NA,10366,60,car\\r\\n24,male,2,own,quite rich,NA,2080,6,car\\r\\n41,male,1,own,quite rich,NA,2580,21,business\\r\\n26,female,3,rent,little,NA,4530,30,radio/TV\\r\\n33,male,2,own,little,NA,5150,24,furniture/equipment\\r\\n24,male,2,own,moderate,moderate,5595,72,radio/TV\\r\\n64,male,1,rent,little,little,2384,24,radio/TV\\r\\n26,female,2,own,little,NA,1453,18,radio/TV\\r\\n56,female,2,own,little,NA,1538,6,education\\r\\n37,male,2,free,NA,NA,2279,12,radio/TV\\r\\n33,male,2,own,little,NA,1478,15,radio/TV\\r\\n47,male,2,free,little,NA,5103,24,radio/TV\\r\\n31,male,1,own,moderate,moderate,9857,36,business\\r\\n34,male,2,free,NA,NA,6527,60,car\\r\\n27,male,2,own,NA,rich,1347,10,radio/TV\\r\\n30,male,2,free,moderate,moderate,2862,36,car\\r\\n35,male,2,own,moderate,NA,2753,9,radio/TV\\r\\n31,male,2,own,rich,little,3651,12,car\\r\\n25,male,2,own,little,little,975,15,furniture/equipment\\r\\n25,female,1,own,moderate,moderate,2631,15,repairs\\r\\n29,male,2,own,moderate,moderate,2896,24,radio/TV\\r\\n44,male,1,own,NA,little,4716,6,car\\r\\n28,male,2,own,little,NA,2284,24,radio/TV\\r\\n50,male,2,rent,quite rich,NA,1236,6,car\\r\\n29,male,2,own,little,moderate,1103,12,radio/TV\\r\\n38,female,0,own,little,NA,926,12,car\\r\\n24,male,2,own,little,NA,1800,18,radio/TV\\r\\n40,male,3,rent,little,rich,1905,15,education\\r\\n29,female,1,rent,quite rich,NA,1123,12,furniture/equipment\\r\\n46,male,2,free,little,little,6331,48,car\\r\\n47,female,2,free,moderate,rich,1377,24,radio/TV\\r\\n41,male,2,own,moderate,moderate,2503,30,business\\r\\n32,female,2,own,little,moderate,2528,27,business\\r\\n35,female,2,free,quite rich,NA,5324,15,car\\r\\n24,male,2,own,moderate,moderate,6560,48,car\\r\\n25,female,2,rent,little,moderate,2969,12,furniture/equipment\\r\\n25,female,2,own,little,moderate,1206,9,radio/TV\\r\\n37,male,1,own,little,moderate,2118,9,radio/TV\\r\\n32,male,3,own,quite rich,NA,629,18,radio/TV\\r\\n35,female,2,free,little,little,1198,6,education\\r\\n46,male,3,own,NA,NA,2476,21,car\\r\\n25,male,1,own,little,little,1138,9,radio/TV\\r\\n27,male,3,own,little,moderate,14027,60,car\\r\\n63,male,2,own,NA,NA,7596,30,car\\r\\n40,male,2,own,NA,NA,3077,30,radio/TV\\r\\n32,male,3,free,little,NA,1505,18,radio/TV\\r\\n31,male,2,own,NA,rich,3148,24,radio/TV\\r\\n31,male,2,own,moderate,moderate,6148,20,car\\r\\n34,male,3,own,little,rich,1337,9,radio/TV\\r\\n24,female,2,rent,rich,moderate,433,6,education\\r\\n24,female,1,own,little,little,1228,12,car\\r\\n66,female,1,own,quite rich,moderate,790,9,radio/TV\\r\\n21,female,2,rent,little,NA,2570,27,car\\r\\n41,female,1,own,rich,NA,250,6,car\\r\\n47,male,1,own,quite rich,NA,1316,15,radio/TV\\r\\n25,female,2,rent,little,little,1882,18,radio/TV\\r\\n59,female,2,rent,little,moderate,6416,48,business\\r\\n36,male,2,own,rich,rich,1275,24,business\\r\\n33,male,2,own,little,moderate,6403,24,radio/TV\\r\\n21,male,1,rent,little,little,1987,24,radio/TV\\r\\n44,female,1,own,little,moderate,760,8,radio/TV\\r\\n28,female,2,rent,rich,NA,2603,24,car\\r\\n37,female,2,own,little,NA,3380,4,car\\r\\n29,female,0,own,NA,moderate,3990,36,domestic appliances\\r\\n23,female,3,rent,little,moderate,11560,24,car\\r\\n35,male,1,own,moderate,little,4380,18,car\\r\\n45,male,3,own,little,NA,6761,6,car\\r\\n26,female,1,rent,moderate,moderate,4280,30,business\\r\\n32,male,2,own,moderate,little,2325,24,car\\r\\n23,male,1,own,little,moderate,1048,10,radio/TV\\r\\n41,male,2,own,NA,NA,3160,21,radio/TV\\r\\n22,male,2,own,quite rich,little,2483,24,furniture/equipment\\r\\n30,male,3,own,NA,little,14179,39,furniture/equipment\\r\\n28,male,1,own,little,little,1797,13,business\\r\\n23,female,2,rent,little,little,2511,15,car\\r\\n37,female,1,own,little,little,1274,12,car\\r\\n26,male,2,own,NA,NA,5248,21,car\\r\\n33,male,2,own,little,NA,3029,15,car\\r\\n49,female,2,own,little,little,428,6,furniture/equipment\\r\\n23,female,1,own,little,little,976,18,car\\r\\n23,female,1,rent,moderate,moderate,841,12,business\\r\\n25,female,2,own,little,NA,5771,30,radio/TV\\r\\n55,male,2,free,rich,NA,1555,12,repairs\\r\\n32,female,2,rent,NA,little,1285,24,car\\r\\n74,male,0,own,little,rich,1299,6,car\\r\\n39,male,2,free,NA,rich,1271,15,radio/TV\\r\\n31,male,2,own,little,NA,1393,24,car\\r\\n35,male,2,own,little,little,691,12,car\\r\\n59,female,2,own,NA,NA,5045,15,car\\r\\n24,female,2,rent,little,little,2124,18,furniture/equipment\\r\\n24,male,1,own,little,little,2214,12,radio/TV\\r\\n30,male,3,free,NA,NA,12680,21,car\\r\\n27,male,2,own,moderate,NA,2463,24,car\\r\\n40,male,1,own,little,moderate,1155,12,radio/TV\\r\\n31,male,1,own,little,little,3108,30,furniture/equipment\\r\\n31,female,2,rent,NA,NA,2901,10,car\\r\\n28,male,2,rent,little,moderate,3617,12,furniture/equipment\\r\\n63,male,1,own,little,NA,1655,12,radio/TV\\r\\n26,female,2,rent,NA,little,2812,24,car\\r\\n25,female,3,own,little,little,8065,36,education\\r\\n36,male,3,own,little,NA,3275,21,car\\r\\n52,male,2,own,moderate,NA,2223,24,radio/TV\\r\\n66,male,0,free,quite rich,rich,1480,12,car\\r\\n25,female,2,rent,NA,little,1371,24,car\\r\\n37,male,2,own,little,NA,3535,36,car\\r\\n25,female,2,own,little,little,3509,18,radio/TV\\r\\n38,male,3,own,rich,NA,5711,36,car\\r\\n67,female,2,own,little,moderate,3872,18,repairs\\r\\n25,male,2,own,little,moderate,4933,39,radio/TV\\r\\n60,male,2,own,rich,NA,1940,24,car\\r\\n31,male,1,own,little,moderate,1410,12,education\\r\\n23,female,1,own,moderate,moderate,836,12,car\\r\\n60,male,3,own,NA,moderate,6468,20,car\\r\\n35,male,1,own,rich,moderate,1941,18,business\\r\\n40,male,2,own,quite rich,NA,2675,22,radio/TV\\r\\n38,male,2,own,NA,NA,2751,48,car\\r\\n50,male,2,free,little,moderate,6224,48,education\\r\\n27,male,2,own,little,little,5998,40,education\\r\\n39,female,2,own,little,moderate,1188,21,business\\r\\n41,male,3,own,NA,NA,6313,24,car\\r\\n27,male,2,own,NA,NA,1221,6,furniture/equipment\\r\\n51,male,2,free,little,rich,2892,24,furniture/equipment\\r\\n32,male,2,rent,quite rich,NA,3062,24,furniture/equipment\\r\\n22,female,2,rent,moderate,NA,2301,9,furniture/equipment\\r\\n51,male,2,free,NA,little,7511,18,car\\r\\n22,female,1,rent,little,NA,1258,12,furniture/equipment\\r\\n54,male,2,own,NA,NA,717,24,car\\r\\n35,male,0,own,NA,moderate,1549,9,car\\r\\n54,male,2,free,little,NA,1597,24,education\\r\\n48,female,1,rent,little,moderate,1795,18,radio/TV\\r\\n24,female,2,own,little,little,4272,20,furniture/equipment\\r\\n35,male,2,own,NA,NA,976,12,radio/TV\\r\\n24,female,0,rent,NA,moderate,7472,12,car\\r\\n24,male,2,own,little,little,9271,36,car\\r\\n26,male,1,own,little,moderate,590,6,radio/TV\\r\\n65,male,2,own,NA,NA,930,12,radio/TV\\r\\n55,male,3,free,little,moderate,9283,42,car\\r\\n26,female,0,rent,little,moderate,1778,15,car\\r\\n26,male,2,own,little,moderate,907,8,business\\r\\n28,male,1,own,little,moderate,484,6,radio/TV\\r\\n24,male,2,own,little,little,9629,36,car\\r\\n54,male,2,own,little,little,3051,48,domestic appliances\\r\\n46,male,2,free,little,little,3931,48,car\\r\\n54,female,2,rent,little,moderate,7432,36,car\\r\\n62,male,2,own,quite rich,NA,1338,6,domestic appliances\\r\\n24,female,2,rent,little,NA,1554,6,radio/TV\\r\\n43,male,3,own,little,little,15857,36,vacation/others\\r\\n26,male,2,own,little,little,1345,18,radio/TV\\r\\n27,male,2,own,little,NA,1101,12,car\\r\\n24,male,2,own,little,rich,3016,12,radio/TV\\r\\n41,male,2,own,little,little,2712,36,furniture/equipment\\r\\n47,male,1,own,little,little,731,8,car\\r\\n35,male,3,own,little,NA,3780,18,furniture/equipment\\r\\n30,male,2,own,little,little,1602,21,car\\r\\n33,female,2,rent,little,little,3966,18,car\\r\\n36,male,2,own,little,NA,4165,18,business\\r\\n47,male,2,free,NA,little,8335,36,car\\r\\n38,male,2,free,NA,moderate,6681,48,business\\r\\n44,male,2,own,quite rich,NA,2375,24,business\\r\\n23,female,2,rent,little,little,1216,18,car\\r\\n29,male,2,rent,little,little,11816,45,business\\r\\n42,female,2,own,NA,moderate,5084,24,radio/TV\\r\\n25,female,1,own,little,rich,2327,15,radio/TV\\r\\n48,male,2,own,little,little,1082,12,car\\r\\n21,female,2,own,NA,NA,886,12,radio/TV\\r\\n23,female,1,rent,little,NA,601,4,furniture/equipment\\r\\n63,male,2,own,little,little,2957,24,car\\r\\n46,male,2,own,little,NA,2611,24,radio/TV\\r\\n29,male,2,own,little,little,5179,36,furniture/equipment\\r\\n28,male,1,own,little,NA,2993,21,car\\r\\n23,female,2,own,little,NA,1943,18,repairs\\r\\n50,male,2,own,little,NA,1559,24,business\\r\\n47,male,2,own,little,NA,3422,18,furniture/equipment\\r\\n35,male,2,own,NA,moderate,3976,21,furniture/equipment\\r\\n68,male,2,rent,NA,NA,6761,18,car\\r\\n28,male,2,own,little,NA,1249,24,car\\r\\n59,male,2,own,little,little,1364,9,radio/TV\\r\\n57,male,1,own,little,little,709,12,radio/TV\\r\\n33,male,2,rent,little,little,2235,20,car\\r\\n43,male,2,own,NA,NA,4042,24,car\\r\\n35,male,2,free,little,NA,1471,15,radio/TV\\r\\n32,male,1,free,little,little,1442,18,car\\r\\n45,male,2,own,little,NA,10875,36,car\\r\\n33,male,2,own,moderate,NA,1474,24,car\\r\\n40,female,2,own,NA,NA,894,10,education\\r\\n28,male,2,free,little,NA,3343,15,furniture/equipment\\r\\n29,female,2,own,little,little,3959,15,car\\r\\n26,male,2,rent,moderate,NA,3577,9,car\\r\\n27,male,2,own,rich,NA,5804,24,car\\r\\n28,male,2,own,little,NA,2169,18,business\\r\\n35,female,2,own,little,little,2439,24,radio/TV\\r\\n32,male,1,own,rich,NA,4526,27,furniture/equipment\\r\\n25,male,1,rent,little,NA,2210,10,furniture/equipment\\r\\n20,female,2,rent,quite rich,NA,2221,15,furniture/equipment\\r\\n27,female,2,own,little,little,2389,18,radio/TV\\r\\n42,male,2,own,little,NA,3331,12,furniture/equipment\\r\\n37,male,2,own,NA,NA,7409,36,business\\r\\n24,female,2,rent,little,little,652,12,furniture/equipment\\r\\n40,female,2,own,quite rich,NA,7678,36,furniture/equipment\\r\\n46,male,2,own,little,rich,1343,6,car\\r\\n26,male,2,own,moderate,little,1382,24,business\\r\\n24,female,2,own,NA,NA,874,15,domestic appliances\\r\\n29,male,1,own,little,little,3590,12,furniture/equipment\\r\\n40,female,2,own,rich,moderate,1322,11,car\\r\\n36,male,3,free,little,little,1940,18,radio/TV\\r\\n28,male,2,own,little,NA,3595,36,radio/TV\\r\\n27,male,3,free,little,little,1422,9,car\\r\\n36,male,2,own,NA,NA,6742,30,radio/TV\\r\\n38,male,3,own,little,NA,7814,24,car\\r\\n48,male,2,free,NA,NA,9277,24,car\\r\\n36,male,2,own,NA,moderate,2181,30,car\\r\\n65,female,0,own,little,NA,1098,18,radio/TV\\r\\n43,male,2,own,little,moderate,4057,24,furniture/equipment\\r\\n53,female,2,own,little,little,795,12,education\\r\\n34,male,2,own,NA,moderate,2825,24,business\\r\\n23,male,2,own,little,moderate,15672,48,business\\r\\n34,male,3,own,little,NA,6614,36,car\\r\\n40,male,2,rent,NA,NA,7824,28,car\\r\\n43,male,3,own,little,little,2442,27,business\\r\\n46,male,2,own,little,NA,1829,15,radio/TV\\r\\n38,male,1,own,little,little,2171,12,car\\r\\n34,male,2,own,little,moderate,5800,36,car\\r\\n29,male,2,own,NA,NA,1169,18,radio/TV\\r\\n31,male,3,own,NA,NA,8947,36,car\\r\\n28,female,3,rent,little,little,2606,21,radio/TV\\r\\n35,female,2,own,rich,NA,1592,12,furniture/equipment\\r\\n33,female,1,rent,NA,NA,2186,15,furniture/equipment\\r\\n42,male,2,own,little,little,4153,18,furniture/equipment\\r\\n43,male,2,rent,little,little,2625,16,car\\r\\n44,male,2,own,NA,NA,3485,20,car\\r\\n42,male,2,free,NA,NA,10477,36,car\\r\\n40,male,2,rent,NA,NA,1386,15,radio/TV\\r\\n36,male,3,own,little,NA,1278,24,radio/TV\\r\\n20,male,3,rent,little,little,1107,12,radio/TV\\r\\n24,male,1,own,NA,little,3763,21,car\\r\\n27,male,2,own,NA,moderate,3711,36,education\\r\\n46,female,1,own,little,NA,3594,15,car\\r\\n33,female,1,own,NA,moderate,3195,9,car\\r\\n34,female,2,own,little,NA,4454,36,radio/TV\\r\\n25,female,1,own,little,moderate,4736,24,furniture/equipment\\r\\n25,female,2,own,NA,moderate,2991,30,radio/TV\\r\\n28,male,2,own,rich,NA,2142,11,business\\r\\n31,male,2,rent,little,little,3161,24,business\\r\\n32,female,3,own,little,moderate,18424,48,vacation/others\\r\\n32,male,2,own,moderate,NA,2848,10,car\\r\\n68,male,3,own,little,little,14896,6,car\\r\\n33,male,2,own,moderate,little,2359,24,furniture/equipment\\r\\n39,male,3,rent,little,little,3345,24,furniture/equipment\\r\\n28,female,2,own,little,NA,1817,18,furniture/equipment\\r\\n37,male,3,own,quite rich,NA,12749,48,radio/TV\\r\\n22,female,2,rent,little,little,1366,9,radio/TV\\r\\n30,male,2,rent,little,moderate,2002,12,car\\r\\n55,male,2,own,little,little,6872,24,furniture/equipment\\r\\n46,male,2,own,little,little,697,12,car\\r\\n21,female,2,rent,little,little,1049,18,furniture/equipment\\r\\n39,male,2,free,little,little,10297,48,car\\r\\n58,male,2,own,NA,NA,1867,30,radio/TV\\r\\n43,male,1,own,little,little,1344,12,car\\r\\n24,male,1,own,little,little,1747,24,furniture/equipment\\r\\n22,female,2,own,little,moderate,1670,9,radio/TV\\r\\n30,male,2,own,little,NA,1224,9,car\\r\\n42,male,2,own,quite rich,NA,522,12,radio/TV\\r\\n23,female,2,own,little,little,1498,12,radio/TV\\r\\n30,male,3,own,moderate,moderate,1919,30,radio/TV\\r\\n28,female,1,own,little,rich,745,9,radio/TV\\r\\n30,male,3,rent,little,moderate,2063,6,radio/TV\\r\\n42,male,2,free,little,moderate,6288,60,education\\r\\n46,male,3,own,NA,NA,6842,24,car\\r\\n45,male,3,own,NA,NA,3527,12,car\\r\\n31,male,1,own,little,NA,1546,10,car\\r\\n31,male,2,own,NA,NA,929,24,furniture/equipment\\r\\n42,male,1,own,little,NA,1455,4,car\\r\\n46,female,2,rent,little,little,1845,15,furniture/equipment\\r\\n30,female,2,own,quite rich,moderate,8358,48,car\\r\\n30,male,2,free,quite rich,little,3349,24,furniture/equipment\\r\\n38,male,3,own,NA,NA,2859,12,car\\r\\n43,male,1,own,little,NA,1533,18,furniture/equipment\\r\\n31,male,2,own,moderate,NA,3621,24,radio/TV\\r\\n40,male,0,own,little,moderate,3590,18,business\\r\\n24,male,2,own,little,little,2145,36,business\\r\\n28,female,2,rent,quite rich,moderate,4113,24,car\\r\\n26,female,3,own,little,NA,10974,36,furniture/equipment\\r\\n29,female,2,own,little,little,1893,12,car\\r\\n57,female,3,rent,rich,little,1231,24,radio/TV\\r\\n49,male,1,own,NA,rich,3656,30,radio/TV\\r\\n37,male,1,own,little,moderate,1154,9,radio/TV\\r\\n45,male,1,own,little,little,4006,28,car\\r\\n30,male,2,free,moderate,moderate,3069,24,furniture/equipment\\r\\n30,male,2,rent,little,NA,1740,6,radio/TV\\r\\n47,male,2,own,little,moderate,2353,21,car\\r\\n29,male,2,own,NA,NA,3556,15,car\\r\\n35,male,2,own,quite rich,NA,2397,24,radio/TV\\r\\n22,male,1,own,little,moderate,454,6,repairs\\r\\n26,female,2,own,NA,moderate,1715,30,radio/TV\\r\\n23,male,1,own,quite rich,moderate,2520,27,radio/TV\\r\\n54,female,3,rent,little,NA,3568,15,radio/TV\\r\\n29,male,2,rent,NA,NA,7166,42,radio/TV\\r\\n40,male,1,own,little,little,3939,11,car\\r\\n22,male,2,own,moderate,moderate,1514,15,repairs\\r\\n43,male,1,own,little,NA,7393,24,car\\r\\n29,female,0,rent,little,little,1193,24,car\\r\\n36,male,2,rent,little,little,7297,60,business\\r\\n33,female,2,own,little,NA,2831,30,radio/TV\\r\\n57,female,1,own,quite rich,rich,1258,24,radio/TV\\r\\n64,female,2,own,little,moderate,753,6,radio/TV\\r\\n42,male,2,own,NA,moderate,2427,18,business\\r\\n47,male,1,own,little,NA,2538,24,car\\r\\n25,male,2,rent,moderate,moderate,1264,15,car\\r\\n49,male,2,own,little,moderate,8386,30,furniture/equipment\\r\\n33,male,3,rent,little,NA,4844,48,business\\r\\n28,female,3,own,moderate,rich,2923,21,car\\r\\n26,male,2,own,little,little,8229,36,car\\r\\n30,male,1,own,little,NA,2028,24,furniture/equipment\\r\\n25,female,2,rent,little,little,1433,15,furniture/equipment\\r\\n33,male,2,own,little,rich,6289,42,business\\r\\n64,female,2,own,moderate,NA,1409,13,radio/TV\\r\\n29,male,3,free,little,little,6579,24,car\\r\\n48,male,1,own,little,moderate,1743,24,radio/TV\\r\\n37,male,1,own,NA,NA,3565,12,education\\r\\n34,male,1,own,moderate,NA,1569,15,radio/TV\\r\\n23,male,1,rent,NA,little,1936,18,radio/TV\\r\\n30,male,3,own,little,little,3959,36,furniture/equipment\\r\\n50,male,2,own,NA,NA,2390,12,car\\r\\n31,female,1,own,little,NA,1736,12,furniture/equipment\\r\\n40,male,3,own,little,little,3857,30,car\\r\\n38,male,2,own,little,NA,804,12,radio/TV\\r\\n23,male,2,free,little,little,1845,45,radio/TV\\r\\n27,male,2,own,moderate,moderate,4576,45,car\\r\\n',\n",
              " 'german_credit_data_train.csv': b'Age,Sex,Job,Housing,Saving_accounts,Checking_account,Credit_amount,Duration,Purpose,Risk\\r\\n67,male,2,own,NA,little,1169,6,radio/TV,good\\r\\n22,female,2,own,little,moderate,5951,48,radio/TV,bad\\r\\n49,male,1,own,little,NA,2096,12,education,good\\r\\n45,male,2,free,little,little,7882,42,furniture/equipment,good\\r\\n53,male,2,free,little,little,4870,24,car,bad\\r\\n35,male, ,free, ,NA,9055,36,education,good\\r\\n53,male,2,own,quite rich,NA,2835,24,furniture/equipment,good\\r\\n35,male,3,rent,little,moderate,6948,36,car,good\\r\\n61,male,1,own,rich,NA,3059,12,radio/TV,good\\r\\n28,male,3,own,little,moderate,5234,30,car,bad\\r\\n25,female,2,rent,little,moderate,1295,12,car,bad\\r\\n24,female,2,rent,little,little,4308,48,business,bad\\r\\n22,female,2,own,little,moderate,1567,12,radio/TV,good\\r\\n60,male,1,own,little,little,1199,24,car,bad\\r\\n28,female,2,rent,little,little,1403,15,car,good\\r\\n32,female,1,own,moderate,little,1282,24,radio/TV,bad\\r\\n53,male,2,own,NA,NA,2424,24,radio/TV,good\\r\\n25,male,2,own,NA,little,8072,30,business,good\\r\\n44,female,3,free,little,moderate,12579,24,car,bad\\r\\n31,male,2,own,quite rich,NA,3430,24,radio/TV,good\\r\\n48,male,2,own,little,NA,2134,9,car,good\\r\\n44,male,2,rent,quite rich,little,2647,6,radio/TV,good\\r\\n48,male,1,rent,little,little,2241,10,car,good\\r\\n44,male,2,own,moderate,moderate,1804,12,car,good\\r\\n26,male,2,own,NA,NA,2069,10,furniture/equipment,good\\r\\n36,male,1,own,little,little,1374,6,furniture/equipment,good\\r\\n39,male,1,own,little,NA,426,6,radio/TV,good\\r\\n42,female,2,rent,rich,rich,409,12,radio/TV,good\\r\\n34,male,2,own,little,moderate,2415,7,radio/TV,good\\r\\n63,male,2,own,little,little,6836,60,business,bad\\r\\n36,male,2,own,rich,moderate,1913,18,business,good\\r\\n27,male,2,own,little,little,4020,24,furniture/equipment,good\\r\\n30,male,2,own,moderate,moderate,5866,18,car,good\\r\\n57,male,1,rent,NA,NA,1264,12,business,good\\r\\n33,female,3,own,little,rich,1474,12,furniture/equipment,good\\r\\n25,male,1,own,little,moderate,4746,45,radio/TV,bad\\r\\n31,male,2,free,little,NA,6110,48,education,good\\r\\n37,male,2,own,little,rich,2100,18,radio/TV,bad\\r\\n37,male,2,own,little,rich,1225,10,domestic appliances,good\\r\\n24,male,2,own,little,moderate,458,9,radio/TV,good\\r\\n30,male,3,own,quite rich,NA,2333,30,radio/TV,good\\r\\n26,male,2,own,quite rich,moderate,1158,12,radio/TV,good\\r\\n44,male,1,own,little,moderate,6204,18,repairs,good\\r\\n24,male,2,rent,moderate,little,6187,30,car,good\\r\\n58,female,1,free,little,little,6143,48,car,bad\\r\\n35,female,3,own,little,NA,1393,11,car,good\\r\\n39,male,2,own,quite rich,NA,2299,36,radio/TV,good\\r\\n23,female,0,rent,quite rich,little,1352,6,car,good\\r\\n39,male,1,own,little,NA,7228,11,car,good\\r\\n28,female,2,own,moderate,NA,2073,12,radio/TV,good\\r\\n29,male,1,own,NA,moderate,2333,24,furniture/equipment,good\\r\\n30,male,3,own,little,moderate,5965,27,car,good\\r\\n25,male,2,own,little,NA,1262,12,radio/TV,good\\r\\n31,male,2,own,NA,NA,3378,18,car,good\\r\\n57,male,2,free,little,moderate,2225,36,car,bad\\r\\n26,male,1,own,NA,NA,783,6,car,good\\r\\n52,male,3,own,NA,moderate,6468,12,radio/TV,bad\\r\\n31,female,2,own,little,NA,9566,36,radio/TV,good\\r\\n23,female,3,own,little,rich,1961,18,car,good\\r\\n23,female,1,rent,little,little,6229,36,furniture/equipment,bad\\r\\n27,male,2,own,little,moderate,1391,9,business,good\\r\\n50,male,2,own,NA,moderate,1537,15,radio/TV,good\\r\\n61,male,3,free,little,moderate,1953,36,business,bad\\r\\n25,male,2,own,little,moderate,14421,48,business,bad\\r\\n26,female,2,own,little,NA,3181,24,radio/TV,good\\r\\n48,male,2,own,NA,NA,5190,27,repairs,good\\r\\n29,female,2,own,little,NA,2171,12,radio/TV,good\\r\\n22,male,2,own,rich,moderate,1007,12,car,good\\r\\n37,male,2,free,little,NA,1819,36,education,bad\\r\\n25,female,2,own,NA,NA,2394,36,radio/TV,good\\r\\n30,female,2,own,little,NA,8133,36,car,good\\r\\n46,male,1,rent,NA,NA,730,7,radio/TV,good\\r\\n51,male,3,free,little,little,1164,8,vacation/others,good\\r\\n41,female,1,own,little,moderate,5954,42,business,good\\r\\n40,male,3,own,NA,little,1977,36,education,bad\\r\\n66,male,3,free,little,little,1526,12,car,good\\r\\n34,male,2,own,little,little,3965,42,radio/TV,bad\\r\\n51,male,2,own,little,moderate,4771,11,radio/TV,good\\r\\n39,male,1,own,NA,NA,9436,54,car,good\\r\\n22,male,2,own,little,moderate,3832,30,furniture/equipment,good\\r\\n44,female,2,own,NA,NA,5943,24,radio/TV,bad\\r\\n47,male,2,own,quite rich,NA,1213,15,radio/TV,good\\r\\n24,female,1,rent,moderate,NA,1568,18,business,good\\r\\n58,female,1,own,little,little,1755,24,vacation/others,good\\r\\n52,male,1,own,little,little,2315,10,radio/TV,good\\r\\n29,female,3,own,little,NA,1412,12,business,good\\r\\n27,female,2,own,little,moderate,1295,18,furniture/equipment,good\\r\\n47,male,2,free,moderate,moderate,12612,36,education,bad\\r\\n30,male,3,own,moderate,little,2249,18,car,good\\r\\n28,male,2,own,little,little,1108,12,repairs,bad\\r\\n56,male,2,own,little,NA,618,12,radio/TV,good\\r\\n54,male,2,own,little,little,1409,12,car,good\\r\\n33,female,1,own,NA,NA,797,12,radio/TV,bad\\r\\n20,male,2,rent,NA,rich,3617,24,furniture/equipment,good\\r\\n54,male,2,own,rich,moderate,1318,12,car,good\\r\\n58,male,2,rent,little,moderate,15945,54,business,bad\\r\\n61,female,2,own,NA,NA,2012,12,education,good\\r\\n34,male,2,own,moderate,moderate,2622,18,business,good\\r\\n36,male,2,own,little,moderate,2337,36,radio/TV,good\\r\\n36,male,3,rent,NA,moderate,7057,20,car,good\\r\\n41,male,1,rent,moderate,NA,1469,24,car,good\\r\\n24,male,2,rent,little,moderate,2323,36,radio/TV,good\\r\\n24,female,2,own,little,NA,932,6,radio/TV,good\\r\\n35,male,2,rent,little,moderate,1919,9,furniture/equipment,good\\r\\n26,male,2,rent,NA,NA,2445,12,car,good\\r\\n39,male,3,own,little,moderate,11938,24,vacation/others,bad\\r\\n39,male,3,own,little,NA,6458,18,car,bad\\r\\n32,male,2,own,little,moderate,6078,12,car,good\\r\\n30,female,2,own,NA,little,7721,24,furniture/equipment,good\\r\\n35,male,2,own,quite rich,moderate,1410,14,business,good\\r\\n31,male,2,own,moderate,moderate,1449,6,business,good\\r\\n23,female,2,rent,little,rich,392,15,education,good\\r\\n28,male,1,rent,little,moderate,6260,18,car,good\\r\\n25,female,2,own,little,NA,7855,36,car,bad\\r\\n35,male,2,own,quite rich,little,1680,12,radio/TV,good\\r\\n47,male,2,own,NA,NA,3578,48,radio/TV,good\\r\\n30,female,3,own,NA,little,7174,42,radio/TV,bad\\r\\n27,female,2,rent,NA,little,2132,10,furniture/equipment,good\\r\\n23,female,2,own,quite rich,little,4281,33,furniture/equipment,bad\\r\\n36,male,3,own,quite rich,moderate,2366,12,car,good\\r\\n25,female,2,own,little,little,1835,21,radio/TV,bad\\r\\n41,female,3,rent,little,NA,3868,24,car,good\\r\\n24,male,1,rent,little,NA,1768,12,furniture/equipment,good\\r\\n63,male,2,free,little,rich,781,10,car,good\\r\\n27,female,2,rent,NA,moderate,1924,18,furniture/equipment,bad\\r\\n30,male,2,own,little,little,2121,12,car,good\\r\\n40,male,1,own,little,little,701,12,radio/TV,good\\r\\n30,male,2,own,little,moderate,639,12,repairs,bad\\r\\n34,male,3,own,little,moderate,1860,12,car,good\\r\\n29,female,2,own,little,little,3499,12,car,bad\\r\\n24,female,2,own,NA,moderate,8487,48,car,good\\r\\n29,male,2,own,little,little,6887,36,education,bad\\r\\n27,male,1,own,little,NA,2708,15,furniture/equipment,good\\r\\n47,male,2,free,little,NA,1984,18,furniture/equipment,good\\r\\n21,female,2,own,moderate,NA,10144,60,radio/TV,good\\r\\n38,female,2,own,NA,NA,1240,12,radio/TV,good\\r\\n27,male,2,own,rich,NA,8613,27,car,good\\r\\n66,male,1,own,quite rich,moderate,766,12,radio/TV,bad\\r\\n35,male,2,own,NA,moderate,2728,15,radio/TV,good\\r\\n44,female,1,rent,little,rich,1881,12,radio/TV,good\\r\\n27,male,0,own,rich,rich,709,6,car,good\\r\\n30,female,3,own,little,moderate,4795,36,radio/TV,good\\r\\n27,male,3,own,little,little,3416,27,radio/TV,good\\r\\n22,male,2,own,little,little,2462,18,furniture/equipment,bad\\r\\n23,female,2,own,little,NA,2288,21,furniture/equipment,good\\r\\n30,male,2,own,moderate,moderate,3566,48,business,good\\r\\n39,female,2,own,little,little,860,6,car,good\\r\\n51,female,2,own,moderate,NA,682,12,car,good\\r\\n28,male,2,own,little,little,5371,36,furniture/equipment,good\\r\\n46,male,2,own,rich,NA,1582,18,radio/TV,good\\r\\n42,male,2,free,moderate,NA,1346,6,radio/TV,good\\r\\n38,male,2,own,little,NA,1924,10,radio/TV,good\\r\\n24,male,2,own,little,rich,5848,36,radio/TV,good\\r\\n29,female,2,rent,rich,moderate,7758,24,car,good\\r\\n36,male,3,rent,moderate,moderate,6967,24,business,good\\r\\n20,female,2,rent,little,little,1282,12,furniture/equipment,bad\\r\\n48,male,2,own,moderate,little,1288,9,repairs,good\\r\\n45,male,1,own,little,little,339,12,education,good\\r\\n38,male,2,own,moderate,moderate,3512,24,car,good\\r\\n34,male,1,own,NA,NA,1898,6,radio/TV,good\\r\\n36,male,2,own,moderate,NA,2872,24,radio/TV,good\\r\\n30,female,2,own,little,NA,1055,18,car,good\\r\\n36,male,2,own,quite rich,NA,1262,15,domestic appliances,good\\r\\n70,male,3,free,little,moderate,7308,10,car,good\\r\\n36,male,2,own,quite rich,NA,909,36,car,good\\r\\n32,male,2,own,quite rich,NA,2978,6,furniture/equipment,good\\r\\n33,female,2,own,little,little,1131,18,furniture/equipment,bad\\r\\n20,female,2,own,rich,moderate,1577,11,furniture/equipment,good\\r\\n25,female,2,rent,little,NA,3972,24,furniture/equipment,good\\r\\n31,male,2,own,little,moderate,1935,24,business,bad\\r\\n33,male,2,rent,little,little,950,15,car,bad\\r\\n26,female,2,own,little,NA,763,12,furniture/equipment,good\\r\\n34,female,3,own,little,moderate,2064,24,furniture/equipment,bad\\r\\n33,male,2,own,little,moderate,1414,8,radio/TV,good\\r\\n26,male,2,own,little,little,3414,21,education,bad\\r\\n53,female,3,own,NA,NA,7485,30,car,bad\\r\\n42,male,2,own,little,little,2577,12,furniture/equipment,good\\r\\n52,male,2,own,quite rich,little,338,6,radio/TV,good\\r\\n31,male,3,rent,little,NA,1963,12,radio/TV,good\\r\\n65,male,2,own,little,little,571,21,car,good\\r\\n28,male,2,own,little,NA,9572,36,business,bad\\r\\n30,male,3,own,little,moderate,4455,36,business,bad\\r\\n40,male,1,own,NA,little,1647,21,car,bad\\r\\n50,male,2,own,rich,NA,3777,24,furniture/equipment,good\\r\\n36,male,2,own,little,moderate,884,18,car,bad\\r\\n31,male,2,own,little,NA,1360,15,radio/TV,good\\r\\n74,female,3,free,little,moderate,5129,9,car,bad\\r\\n68,male,0,free,little,moderate,1175,16,car,good\\r\\n20,male,2,own,moderate,little,674,12,radio/TV,bad\\r\\n33,female,2,own,little,moderate,3244,18,furniture/equipment,good\\r\\n54,male,3,own,rich,NA,4591,24,business,bad\\r\\n34,male,1,free,moderate,moderate,3844,48,business,bad\\r\\n36,male,2,own,little,moderate,3915,27,business,bad\\r\\n29,male,2,rent,little,NA,2108,6,radio/TV,good\\r\\n21,male,2,rent,moderate,moderate,3031,45,radio/TV,bad\\r\\n34,female,3,own,little,moderate,1501,9,education,bad\\r\\n28,female,2,own,little,NA,1382,6,radio/TV,good\\r\\n27,female,2,rent,moderate,moderate,951,12,furniture/equipment,bad\\r\\n36,male,2,free,NA,moderate,2760,24,car,good\\r\\n40,male,3,own,little,moderate,4297,18,furniture/equipment,bad\\r\\n52,male,2,own,quite rich,NA,936,9,education,good\\r\\n27,male,1,own,little,little,1168,12,car,good\\r\\n26,male,2,own,little,NA,5117,27,business,good\\r\\n21,male,2,rent,little,little,902,12,education,bad\\r\\n38,male,1,own,little,NA,1495,12,car,good\\r\\n38,male,3,free,little,little,10623,30,car,good\\r\\n43,male,2,own,little,NA,1935,12,furniture/equipment,good\\r\\n26,male,2,own,little,moderate,1424,12,domestic appliances,good\\r\\n21,male,1,own,little,little,6568,24,business,good\\r\\n55,male,2,own,rich,NA,1413,12,car,good\\r\\n33,male,2,own,NA,NA,3074,9,radio/TV,good\\r\\n45,female,1,own,NA,NA,3835,36,radio/TV,good\\r\\n50,male,2,own,little,little,5293,27,business,bad\\r\\n66,male,3,own,little,rich,1908,30,business,bad\\r\\n51,male,2,own,NA,NA,3342,36,radio/TV,good\\r\\n39,female,1,own,NA,moderate,932,6,education,good\\r\\n31,male,2,own,little,little,3104,18,business,good\\r\\n23,male,2,own,little,rich,3913,36,radio/TV,good\\r\\n24,male,1,rent,little,little,3021,24,furniture/equipment,good\\r\\n64,female,2,own,little,NA,1364,10,car,good\\r\\n26,male,1,own,little,moderate,625,12,radio/TV,good\\r\\n23,female,2,rent,NA,little,1200,12,education,good\\r\\n30,male,2,own,little,NA,707,12,radio/TV,good\\r\\n32,male,2,own,NA,NA,2978,24,business,good\\r\\n30,male,2,own,little,NA,4657,15,car,good\\r\\n27,male,2,own,little,NA,2613,36,repairs,good\\r\\n27,male,2,own,rich,moderate,10961,48,radio/TV,bad\\r\\n53,male,3,free,little,little,7865,12,furniture/equipment,bad\\r\\n22,male,2,own,little,NA,1478,9,radio/TV,bad\\r\\n22,male,2,free,little,little,3149,24,furniture/equipment,good\\r\\n26,male,2,own,little,rich,4210,36,radio/TV,bad\\r\\n51,male,1,free,quite rich,NA,2507,9,car,good\\r\\n35,male,2,own,moderate,NA,2141,12,radio/TV,good\\r\\n25,male,1,own,little,moderate,866,18,radio/TV,good\\r\\n42,male,1,own,little,NA,1544,4,radio/TV,good\\r\\n30,male,3,own,little,little,1823,24,radio/TV,bad\\r\\n23,male,0,own,NA,moderate,14555,6,car,bad\\r\\n61,male,1,rent,moderate,moderate,2767,21,business,bad\\r\\n35,female,2,own,little,NA,1291,12,radio/TV,good\\r\\n39,male,2,own,little,little,2522,30,radio/TV,good\\r\\n29,female,2,own,NA,little,915,24,car,bad\\r\\n51,male,2,own,little,NA,1595,6,radio/TV,good\\r\\n24,male,2,free,little,little,4605,48,car,bad\\r\\n27,female,2,own,little,NA,1185,12,business,good\\r\\n35,female,1,own,quite rich,NA,3447,12,education,good\\r\\n25,male,2,own,little,NA,1258,24,business,good\\r\\n52,male,2,own,little,NA,717,12,radio/TV,good\\r\\n35,male,2,rent,moderate,NA,1204,6,car,good\\r\\n26,male,2,own,little,rich,1925,24,furniture/equipment,good\\r\\n22,female,2,rent,little,NA,433,18,radio/TV,bad\\r\\n39,female,1,own,rich,little,666,6,car,good\\r\\n46,female,1,own,little,rich,2251,12,furniture/equipment,good\\r\\n24,female,2,own,little,moderate,2150,30,car,bad\\r\\n35,male,2,own,moderate,NA,4151,24,furniture/equipment,good\\r\\n24,male,2,own,NA,moderate,2030,9,furniture/equipment,good\\r\\n27,male,1,own,NA,moderate,7418,60,radio/TV,good\\r\\n35,male,1,own,little,NA,2684,24,radio/TV,good\\r\\n29,male,2,free,little,little,2149,12,radio/TV,bad\\r\\n23,female,2,own,moderate,NA,3812,15,car,good\\r\\n57,female,1,own,moderate,NA,1154,11,radio/TV,good\\r\\n27,male,2,own,little,little,1657,12,furniture/equipment,good\\r\\n55,female,2,own,little,little,1603,24,radio/TV,good\\r\\n36,male,3,free,little,little,5302,18,car,good\\r\\n57,female,1,free,little,NA,2748,12,education,good\\r\\n32,male,1,own,little,NA,1231,10,car,good\\r\\n37,male,2,own,little,moderate,802,15,radio/TV,bad\\r\\n36,male,2,own,NA,NA,6304,36,business,good\\r\\n38,female,2,own,little,NA,1533,24,radio/TV,good\\r\\n45,male,3,own,little,little,8978,14,car,bad\\r\\n25,male,2,own,NA,NA,999,24,radio/TV,good\\r\\n32,male,2,own,NA,NA,2662,18,car,good\\r\\n37,female,2,rent,quite rich,NA,1402,12,furniture/equipment,good\\r\\n36,male,3,free,NA,moderate,12169,48,car,good\\r\\n28,male,2,own,little,moderate,3060,48,radio/TV,bad\\r\\n34,male,1,own,little,little,11998,30,repairs,bad\\r\\n32,male,2,own,little,NA,2697,9,radio/TV,good\\r\\n26,female,2,own,little,NA,2404,18,radio/TV,good\\r\\n49,male,1,own,NA,little,1262,12,furniture/equipment,good\\r\\n32,female,2,own,little,NA,4611,6,furniture/equipment,bad\\r\\n29,male,3,rent,moderate,NA,1901,24,radio/TV,good\\r\\n23,male,2,rent,rich,NA,3368,15,car,good\\r\\n50,male,2,own,little,NA,1574,12,furniture/equipment,good\\r\\n49,male,1,own,NA,rich,1445,18,radio/TV,good\\r\\n63,male,2,own,NA,NA,1520,15,furniture/equipment,good\\r\\n37,male,2,own,moderate,moderate,3878,24,car,good\\r\\n35,female,1,own,little,little,10722,47,car,good\\r\\n26,male,2,own,little,little,4788,48,car,good\\r\\n31,male,3,free,moderate,moderate,7582,48,vacation/others,good\\r\\n49,female,2,own,little,moderate,1092,12,radio/TV,good\\r\\n48,male,2,own,little,little,1024,24,radio/TV,bad\\r\\n26,male,2,own,little,NA,1076,12,business,good\\r\\n28,male,3,rent,little,moderate,9398,36,car,bad\\r\\n44,female,3,free,little,little,6419,24,car,good\\r\\n56,male,2,free,little,rich,4796,42,car,good\\r\\n46,male,3,own,NA,NA,7629,48,business,good\\r\\n26,female,2,own,little,moderate,9960,48,furniture/equipment,bad\\r\\n20,female,2,rent,NA,NA,4675,12,car,good\\r\\n45,male,1,own,NA,NA,1287,10,car,good\\r\\n43,male,2,own,little,NA,2515,18,furniture/equipment,good\\r\\n32,male,2,own,rich,moderate,2745,21,furniture/equipment,good\\r\\n54,female,0,own,little,NA,672,6,car,good\\r\\n42,female,2,own,little,moderate,3804,36,radio/TV,bad\\r\\n37,male,1,own,NA,rich,1344,24,car,bad\\r\\n49,male,2,own,little,little,1038,10,car,good\\r\\n44,male,2,free,quite rich,NA,10127,48,car,bad\\r\\n33,male,2,own,rich,NA,1543,6,furniture/equipment,good\\r\\n24,female,1,rent,NA,NA,4811,30,car,good\\r\\n33,male,1,own,moderate,little,727,12,radio/TV,bad\\r\\n24,female,2,own,little,moderate,1237,8,furniture/equipment,bad\\r\\n22,male,1,rent,little,moderate,276,9,car,good\\r\\n40,male,0,free,NA,moderate,5381,48,vacation/others,good\\r\\n25,male,2,own,moderate,NA,5511,24,furniture/equipment,good\\r\\n26,female,2,own,little,rich,3749,24,furniture/equipment,good\\r\\n25,male,1,own,little,moderate,685,12,car,bad\\r\\n29,male,1,own,NA,rich,1494,4,car,good\\r\\n31,male,2,own,little,little,2746,36,furniture/equipment,bad\\r\\n38,male,1,own,little,little,708,12,furniture/equipment,good\\r\\n48,female,1,own,NA,moderate,4351,24,furniture/equipment,good\\r\\n32,male,2,own,little,NA,701,12,education,good\\r\\n27,female,1,own,little,little,3643,15,furniture/equipment,good\\r\\n28,male,3,own,little,moderate,4249,30,car,bad\\r\\n32,male,2,own,little,little,1938,24,radio/TV,bad\\r\\n34,male,3,free,little,little,2910,24,car,good\\r\\n28,male,2,own,rich,little,2659,18,furniture/equipment,good\\r\\n36,female,2,own,little,NA,1028,18,car,good\\r\\n39,male,1,own,little,little,3398,8,car,good\\r\\n49,male,2,rent,NA,NA,5801,12,furniture/equipment,good\\r\\n34,female,2,own,rich,NA,1525,24,car,good\\r\\n31,male,2,own,little,rich,4473,36,radio/TV,good\\r\\n28,male,2,own,little,moderate,1068,6,radio/TV,good\\r\\n75,male,3,free,little,little,6615,24,car,good\\r\\n30,female,2,own,moderate,NA,1864,18,education,bad\\r\\n24,female,3,own,moderate,moderate,7408,60,car,bad\\r\\n24,female,1,rent,moderate,NA,11590,48,car,bad\\r\\n23,male,2,rent,little,little,4110,24,furniture/equipment,bad\\r\\n44,male,3,rent,little,little,3384,6,furniture/equipment,bad\\r\\n23,female,1,own,little,moderate,2101,13,radio/TV,good\\r\\n24,female,2,rent,NA,little,1275,15,domestic appliances,bad\\r\\n28,male,2,own,little,little,4169,24,furniture/equipment,good\\r\\n31,male,1,own,little,moderate,1521,10,furniture/equipment,good\\r\\n24,female,2,free,little,moderate,5743,24,education,good\\r\\n26,female,1,rent,little,little,3599,21,furniture/equipment,good\\r\\n25,male,2,rent,quite rich,moderate,3213,18,radio/TV,good\\r\\n33,male,3,own,little,moderate,4439,18,business,good\\r\\n37,male,1,own,little,rich,3949,10,car,good\\r\\n43,female,1,own,little,NA,1459,15,radio/TV,good\\r\\n23,male,2,own,little,moderate,882,13,radio/TV,good\\r\\n23,female,0,rent,quite rich,moderate,3758,24,radio/TV,good\\r\\n34,male,1,own,moderate,NA,1743,6,business,good\\r\\n32,male,2,free,rich,moderate,1136,9,education,bad\\r\\n23,female,2,rent,little,NA,1236,9,domestic appliances,good\\r\\n29,female,2,own,little,moderate,959,9,furniture/equipment,bad\\r\\n38,male,3,own,NA,NA,3229,18,car,good\\r\\n28,male,2,rent,little,little,6199,12,radio/TV,bad\\r\\n46,male,2,free,quite rich,NA,727,10,education,good\\r\\n23,male,1,own,little,moderate,1246,24,car,bad\\r\\n49,male,2,own,NA,NA,2331,12,radio/TV,good\\r\\n26,male,3,own,little,NA,4463,36,radio/TV,bad\\r\\n28,male,2,own,little,NA,776,12,radio/TV,good\\r\\n23,female,2,rent,little,little,2406,30,furniture/equipment,bad\\r\\n61,male,2,free,NA,moderate,1239,18,education,good\\r\\n37,male,3,own,NA,rich,3399,12,radio/TV,good\\r\\n36,female,2,own,little,rich,2247,12,car,good\\r\\n21,male,2,rent,little,NA,1766,6,furniture/equipment,good\\r\\n25,male,0,own,little,little,2473,18,furniture/equipment,bad\\r\\n36,male,2,own,little,NA,1542,12,business,good\\r\\n27,male,2,own,little,NA,3850,18,car,good\\r\\n22,female,2,rent,little,little,3650,18,furniture/equipment,good\\r\\n42,male,2,own,little,little,3446,36,furniture/equipment,bad\\r\\n40,female,2,rent,little,moderate,3001,18,furniture/equipment,good\\r\\n36,male,2,own,NA,NA,3079,36,car,good\\r\\n33,male,2,own,little,NA,6070,18,radio/TV,good\\r\\n23,female,2,rent,little,NA,2146,10,furniture/equipment,good\\r\\n63,male,3,free,NA,NA,13756,60,car,good\\r\\n60,female,3,free,moderate,moderate,14782,60,vacation/others,bad\\r\\n37,female,2,rent,little,little,7685,48,business,bad\\r\\n34,male,2,own,little,NA,2320,18,radio/TV,good\\r\\n36,male,2,free,NA,NA,846,7,radio/TV,good\\r\\n57,male,3,free,little,moderate,14318,36,car,bad\\r\\n52,female,1,own,moderate,NA,362,6,car,good\\r\\n39,male,2,own,NA,little,2212,20,furniture/equipment,good\\r\\n38,female,3,free,little,moderate,12976,18,car,bad\\r\\n25,female,2,rent,NA,NA,1283,22,car,good\\r\\n26,male,2,own,little,rich,1330,12,car,good\\r\\n26,male,1,own,moderate,NA,4272,30,business,good\\r\\n25,female,2,own,little,NA,2238,18,radio/TV,good\\r\\n21,female,2,rent,NA,NA,1126,18,radio/TV,good\\r\\n40,male,3,own,little,moderate,7374,18,furniture/equipment,good\\r\\n27,male,2,own,quite rich,moderate,2326,15,business,good\\r\\n27,female,2,own,little,NA,1449,9,business,good\\r\\n30,male,3,own,little,NA,1820,18,car,good\\r\\n19,female,1,rent,rich,moderate,983,12,furniture/equipment,good\\r\\n39,male,3,free,little,little,3249,36,car,good\\r\\n31,female,2,own,little,little,1957,6,radio/TV,good\\r\\n31,male,3,own,little,NA,2406,9,furniture/equipment,good\\r\\n32,male,2,rent,moderate,moderate,11760,39,education,good\\r\\n55,female,3,free,little,little,2578,12,furniture/equipment,good\\r\\n46,male,2,own,little,little,2348,36,furniture/equipment,good\\r\\n46,male,2,rent,little,moderate,1223,12,car,bad\\r\\n43,female,1,own,rich,NA,1516,24,radio/TV,good\\r\\n39,male,2,own,little,NA,1473,18,radio/TV,good\\r\\n28,male,2,own,NA,moderate,1887,18,business,good\\r\\n27,male,2,own,little,NA,8648,24,business,bad\\r\\n27,male,1,own,little,NA,802,14,car,good\\r\\n43,male,2,own,NA,moderate,2899,18,car,good\\r\\n22,male,2,own,little,moderate,2039,24,radio/TV,bad\\r\\n43,male,2,own,NA,NA,2197,24,car,good\\r\\n27,male,2,own,little,little,1053,15,radio/TV,good\\r\\n26,male,3,own,quite rich,NA,3235,24,radio/TV,good\\r\\n28,male,2,own,quite rich,rich,939,12,car,bad\\r\\n20,female,2,own,little,moderate,1967,24,radio/TV,good\\r\\n35,male,3,own,little,NA,7253,33,car,good\\r\\n42,male,3,own,little,NA,2292,12,business,bad\\r\\n40,male,1,rent,quite rich,NA,1597,10,car,good\\r\\n35,female,2,own,NA,little,1381,24,car,bad\\r\\n35,male,2,own,little,NA,5842,36,car,good\\r\\n33,male,1,own,little,little,2579,12,car,bad\\r\\n23,female,2,rent,NA,little,8471,18,education,good\\r\\n31,female,3,own,quite rich,NA,2782,21,car,good\\r\\n33,female,2,own,NA,moderate,1042,18,car,bad\\r\\n20,female,2,rent,rich,NA,3186,15,car,good\\r\\n30,male,2,own,NA,moderate,2028,12,car,good\\r\\n47,male,1,own,little,moderate,958,12,car,good\\r\\n34,male,3,own,moderate,NA,1591,21,furniture/equipment,good\\r\\n25,female,2,own,NA,moderate,2762,12,furniture/equipment,bad\\r\\n21,male,2,rent,little,moderate,2779,18,car,good\\r\\n29,male,2,own,little,NA,2743,28,radio/TV,good\\r\\n46,male,2,own,rich,NA,1149,18,radio/TV,good\\r\\n20,male,2,own,little,NA,1313,9,furniture/equipment,good\\r\\n55,female,0,free,little,little,1190,18,repairs,bad\\r\\n74,male,1,own,little,NA,3448,5,business,good\\r\\n29,male,3,own,little,moderate,11328,24,vacation/others,bad\\r\\n36,male,3,free,little,little,1872,6,furniture/equipment,good\\r\\n33,male,2,own,little,NA,2058,24,repairs,good\\r\\n25,male,2,own,little,little,2136,9,furniture/equipment,good\\r\\n25,male,2,own,NA,moderate,1484,12,radio/TV,bad\\r\\n23,male,1,rent,quite rich,NA,660,6,repairs,good\\r\\n37,female,2,own,rich,NA,1287,24,car,good\\r\\n65,male,0,own,little,little,3394,42,repairs,good\\r\\n26,female,0,own,little,rich,609,12,business,bad\\r\\n39,male,3,own,little,NA,1884,12,car,good\\r\\n30,female,2,own,little,little,1620,12,furniture/equipment,good\\r\\n29,male,2,own,little,moderate,2629,20,vacation/others,good\\r\\n41,male,1,own,little,NA,719,12,education,bad\\r\\n30,female,3,own,little,moderate,5096,48,furniture/equipment,bad\\r\\n41,female,1,rent,NA,NA,1244,9,education,good\\r\\n34,female,2,own,little,little,1842,36,car,bad\\r\\n35,male,2,own,little,moderate,2576,7,radio/TV,good\\r\\n55,female,3,own,NA,rich,1424,12,furniture/equipment,good\\r\\n61,male,2,own,rich,moderate,1512,15,repairs,bad\\r\\n30,male,3,own,NA,NA,11054,36,car,good\\r\\n29,female,2,own,little,NA,518,6,radio/TV,good\\r\\n34,male,2,own,little,NA,2759,12,furniture/equipment,good\\r\\n35,male,3,own,little,NA,2670,24,car,good\\r\\n31,male,2,own,little,little,4817,24,car,bad\\r\\n29,female,3,own,little,NA,2679,24,car,good\\r\\n36,male,2,rent,little,little,3905,11,car,good\\r\\n35,male,2,free,little,little,3386,12,car,bad\\r\\n27,female,2,own,little,little,343,6,domestic appliances,good\\r\\n32,male,2,own,little,NA,4594,18,radio/TV,good\\r\\n37,male,2,own,little,little,3620,36,furniture/equipment,good\\r\\n36,male,2,own,little,little,1721,15,car,good\\r\\n34,female,3,rent,little,moderate,3017,12,furniture/equipment,good\\r\\n38,male,2,own,NA,moderate,754,12,education,good\\r\\n34,male,2,own,little,NA,1950,18,business,good\\r\\n63,male,2,own,little,little,2924,24,car,good\\r\\n29,female,1,rent,little,little,1659,24,radio/TV,bad\\r\\n32,male,2,own,NA,NA,7238,48,radio/TV,good\\r\\n26,female,2,own,little,NA,2764,33,business,good\\r\\n35,male,1,own,little,NA,4679,24,car,good\\r\\n22,male,2,rent,moderate,moderate,3092,24,radio/TV,bad\\r\\n23,female,2,own,little,little,448,6,education,bad\\r\\n28,male,1,own,little,little,654,9,car,bad\\r\\n36,male,3,own,NA,NA,1238,6,education,good\\r\\n33,male,2,own,little,moderate,1245,18,radio/TV,bad\\r\\n26,female,2,rent,little,little,3114,18,furniture/equipment,bad\\r\\n24,male,2,own,quite rich,NA,2569,39,car,good\\r\\n25,male,2,own,little,rich,5152,24,radio/TV,good\\r\\n39,male,1,own,moderate,moderate,1037,12,business,good\\r\\n44,male,2,own,little,little,1478,15,furniture/equipment,good\\r\\n23,female,1,own,little,moderate,3573,12,radio/TV,good\\r\\n26,male,2,own,little,moderate,1201,24,car,good\\r\\n57,female,2,rent,rich,little,3622,30,furniture/equipment,good\\r\\n30,female,2,own,rich,NA,960,15,furniture/equipment,good\\r\\n44,male,2,own,quite rich,NA,1163,12,car,good\\r\\n47,male,3,own,little,moderate,1209,6,car,bad\\r\\n52,male,2,own,little,NA,3077,12,radio/TV,good\\r\\n62,female,2,free,little,NA,3757,24,car,good\\r\\n35,male,1,rent,moderate,NA,1418,10,car,good\\r\\n26,male,2,rent,little,NA,3518,6,car,good\\r\\n26,male,2,own,little,NA,1934,12,radio/TV,good\\r\\n42,female,3,free,little,moderate,8318,27,business,bad\\r\\n27,female,2,own,moderate,NA,1237,6,radio/TV,good\\r\\n38,male,2,own,NA,moderate,368,6,radio/TV,good\\r\\n39,male,1,rent,little,little,2122,12,car,good\\r\\n20,male,2,own,NA,little,2996,24,furniture/equipment,bad\\r\\n29,male,3,rent,moderate,moderate,9034,36,furniture/equipment,bad\\r\\n40,male,2,own,little,NA,1585,24,furniture/equipment,good\\r\\n32,male,1,own,little,moderate,1301,18,radio/TV,good\\r\\n28,male,2,own,moderate,rich,1323,6,car,good\\r\\n27,female,2,own,little,little,3123,24,car,bad\\r\\n42,male,2,free,little,little,5493,36,car,good\\r\\n49,male,2,own,moderate,rich,1126,9,radio/TV,good\\r\\n38,male,2,own,moderate,moderate,1216,24,radio/TV,bad\\r\\n24,female,2,rent,little,little,1207,24,car,bad\\r\\n27,male,1,own,NA,NA,1309,10,car,bad\\r\\n36,male,2,own,quite rich,rich,2360,15,car,good\\r\\n34,male,3,own,moderate,moderate,6850,15,car,bad\\r\\n28,male,2,own,little,NA,1413,24,radio/TV,good\\r\\n45,male,3,own,moderate,NA,8588,39,car,good\\r\\n26,male,2,own,little,little,759,12,car,bad\\r\\n32,male,3,free,little,NA,4686,36,car,good\\r\\n26,male,2,rent,little,rich,2687,15,business,good\\r\\n20,male,2,rent,little,moderate,585,12,radio/TV,good\\r\\n54,male,2,own,NA,NA,2255,24,car,good\\r\\n37,female,2,own,little,little,609,6,car,good\\r\\n40,male,1,own,little,little,1361,6,car,good\\r\\n23,female,2,rent,little,NA,7127,36,furniture/equipment,bad\\r\\n43,male,2,own,moderate,little,1203,6,car,good\\r\\n36,male,2,free,NA,NA,700,6,radio/TV,good\\r\\n44,male,2,free,little,NA,5507,24,repairs,good\\r\\n24,female,2,own,little,little,3190,18,radio/TV,bad\\r\\n53,male,2,free,little,little,7119,48,furniture/equipment,bad\\r\\n23,female,2,own,moderate,NA,3488,24,car,good\\r\\n26,female,1,own,little,moderate,1113,18,radio/TV,good\\r\\n30,male,2,own,little,moderate,7966,26,car,good\\r\\n31,female,2,own,moderate,NA,1532,15,education,good\\r\\n42,male,1,own,little,NA,1503,4,radio/TV,good\\r\\n31,male,2,rent,little,little,2302,36,radio/TV,bad\\r\\n41,male,1,own,little,little,662,6,car,good\\r\\n32,male,2,own,little,moderate,2273,36,education,good\\r\\n28,female,2,rent,moderate,moderate,2631,15,car,bad\\r\\n41,male,2,rent,little,NA,1503,12,car,good\\r\\n26,male,2,own,moderate,NA,1311,24,radio/TV,good\\r\\n25,male,2,own,NA,NA,3105,24,radio/TV,good\\r\\n33,male,2,rent,little,rich,2319,21,education,bad\\r\\n75,female,3,own,NA,little,1374,6,car,good\\r\\n37,female,2,own,little,moderate,3612,18,furniture/equipment,good\\r\\n42,male,3,free,little,little,7763,48,car,bad\\r\\n45,female,1,own,little,rich,3049,18,furniture/equipment,good\\r\\n23,male,2,rent,little,moderate,1534,12,radio/TV,bad\\r\\n60,male,2,free,little,NA,2032,24,car,good\\r\\n31,male,2,own,NA,little,6350,30,furniture/equipment,bad\\r\\n34,male,1,own,little,rich,2864,18,furniture/equipment,bad\\r\\n61,male,1,own,little,NA,1255,12,car,good\\r\\n43,male,2,free,little,little,1333,24,car,bad\\r\\n37,female,2,own,little,NA,2022,24,car,good\\r\\n32,male,2,own,little,NA,1552,24,radio/TV,good\\r\\n24,female,1,own,little,little,626,12,radio/TV,bad\\r\\n35,male,2,free,NA,NA,8858,48,car,good\\r\\n23,female,2,own,NA,NA,996,12,repairs,good\\r\\n45,male,1,own,quite rich,NA,1750,6,radio/TV,good\\r\\n34,male,2,own,little,little,6999,48,radio/TV,bad\\r\\n27,male,2,own,moderate,moderate,1995,12,car,good\\r\\n67,female,3,own,little,moderate,1199,9,education,good\\r\\n22,male,2,own,little,moderate,1331,12,radio/TV,bad\\r\\n28,female,2,own,moderate,moderate,2278,18,car,bad\\r\\n29,female,2,own,NA,NA,5003,21,car,bad\\r\\n27,male,2,own,little,little,3552,24,furniture/equipment,bad\\r\\n31,male,1,own,little,moderate,1928,18,furniture/equipment,bad\\r\\n49,male,2,free,NA,little,2964,24,car,good\\r\\n24,male,1,rent,little,little,1546,24,radio/TV,bad\\r\\n29,female,2,own,little,rich,683,6,radio/TV,good\\r\\n37,male,2,free,NA,moderate,12389,36,car,bad\\r\\n37,male,3,own,NA,moderate,4712,24,business,good\\r\\n23,female,2,rent,moderate,moderate,1553,24,radio/TV,good\\r\\n36,male,2,own,little,little,1372,12,car,bad\\r\\n34,male,2,own,rich,NA,2578,24,radio/TV,good\\r\\n41,male,2,own,NA,moderate,3979,48,radio/TV,good\\r\\n31,female,2,own,little,little,6758,48,radio/TV,bad\\r\\n23,female,1,rent,little,little,3234,24,furniture/equipment,bad\\r\\n38,male,2,own,little,NA,5954,30,radio/TV,good\\r\\n26,female,3,rent,NA,NA,5433,24,car,good\\r\\n22,female,1,own,little,little,806,15,business,good\\r\\n27,male,1,own,little,moderate,1082,9,radio/TV,good\\r\\n24,female,2,own,little,NA,2788,15,furniture/equipment,good\\r\\n27,female,2,own,little,moderate,2930,12,radio/TV,good\\r\\n33,female,2,own,NA,NA,1927,24,education,good\\r\\n27,male,2,own,little,moderate,2820,36,car,bad\\r\\n27,male,1,own,little,NA,937,24,education,good\\r\\n30,male,2,own,little,moderate,1056,18,car,bad\\r\\n49,male,1,own,little,moderate,3124,12,car,good\\r\\n26,female,2,rent,little,NA,1388,9,furniture/equipment,good\\r\\n33,male,1,rent,little,moderate,2384,36,repairs,bad\\r\\n52,female,3,free,NA,NA,2133,12,car,good\\r\\n20,female,2,rent,little,little,2039,18,furniture/equipment,bad\\r\\n36,male,2,rent,little,little,2799,9,car,good\\r\\n21,male,1,own,little,little,1289,12,furniture/equipment,good\\r\\n47,male,1,own,little,little,1217,18,domestic appliances,bad\\r\\n60,male,2,own,little,little,2246,12,furniture/equipment,bad\\r\\n58,female,1,own,little,little,385,12,radio/TV,good\\r\\n42,female,2,rent,NA,moderate,1965,24,car,good\\r\\n36,female,1,own,rich,NA,1572,21,business,good\\r\\n20,female,1,rent,little,moderate,2718,24,car,bad\\r\\n40,male,3,own,NA,little,1358,24,vacation/others,bad\\r\\n32,female,1,own,moderate,moderate,931,6,car,bad\\r\\n23,female,2,rent,little,little,1442,24,car,bad\\r\\n36,male,1,own,little,moderate,4241,24,business,bad\\r\\n31,male,2,own,little,NA,2775,18,car,bad\\r\\n32,male,2,free,little,NA,3863,24,business,good\\r\\n45,female,2,own,little,moderate,2329,7,radio/TV,good\\r\\n30,female,2,own,little,moderate,918,9,furniture/equipment,bad\\r\\n34,female,1,free,little,moderate,1837,24,education,bad\\r\\n28,female,3,own,little,NA,3349,36,furniture/equipment,bad\\r\\n23,female,2,own,little,rich,1275,10,furniture/equipment,good\\r\\n22,male,2,own,quite rich,little,2828,24,furniture/equipment,good\\r\\n74,male,3,own,little,NA,4526,24,business,good\\r\\n50,female,2,free,moderate,moderate,2671,36,radio/TV,bad\\r\\n33,male,2,own,little,NA,2051,18,radio/TV,good\\r\\n45,male,2,free,NA,NA,1300,15,car,good\\r\\n22,female,2,own,moderate,little,741,12,domestic appliances,bad\\r\\n48,female,1,free,moderate,rich,1240,10,car,bad\\r\\n29,female,2,own,rich,little,3357,21,radio/TV,good\\r\\n22,female,2,rent,little,little,3632,24,car,good\\r\\n22,female,2,own,little,NA,1808,18,furniture/equipment,bad\\r\\n48,male,3,own,NA,moderate,12204,48,business,good\\r\\n27,male,3,free,NA,moderate,9157,60,radio/TV,good\\r\\n37,male,2,rent,little,little,3676,6,car,good\\r\\n21,female,2,rent,moderate,moderate,3441,30,furniture/equipment,bad\\r\\n49,male,1,own,little,NA,640,12,car,good\\r\\n27,male,2,own,little,moderate,3652,21,business,good\\r\\n32,male,2,own,little,NA,1530,18,car,bad\\r\\n38,male,2,own,NA,NA,3914,48,business,bad\\r\\n22,female,2,rent,little,little,1858,12,furniture/equipment,good\\r\\n65,male,2,free,little,little,2600,18,radio/TV,bad\\r\\n35,male,2,own,NA,NA,1979,15,radio/TV,good\\r\\n41,male,2,own,little,rich,2116,6,furniture/equipment,good\\r\\n29,male,2,own,moderate,moderate,1437,9,car,bad\\r\\n36,male,2,own,quite rich,NA,4042,42,furniture/equipment,good\\r\\n64,male,1,own,NA,NA,3832,9,education,good\\r\\n28,female,2,own,little,little,3660,24,radio/TV,good\\r\\n44,male,2,own,little,little,1553,18,furniture/equipment,bad\\r\\n23,male,2,own,NA,moderate,1444,15,radio/TV,good\\r\\n19,female,2,rent,little,NA,1980,9,furniture/equipment,bad\\r\\n25,female,1,own,little,moderate,1355,24,car,bad\\r\\n47,male,2,own,little,NA,1393,12,education,good\\r\\n28,female,2,own,quite rich,NA,1376,24,radio/TV,good\\r\\n21,male,2,own,little,NA,15653,60,radio/TV,good\\r\\n34,female,2,own,little,NA,1493,12,radio/TV,good\\r\\n26,male,2,own,little,little,4370,42,radio/TV,bad\\r\\n27,female,0,own,little,little,750,18,education,bad\\r\\n38,male,1,own,little,moderate,1308,15,repairs,good\\r\\n40,male,3,own,moderate,NA,4623,15,education,bad\\r\\n33,male,2,own,little,NA,1851,24,radio/TV,good\\r\\n32,male,3,own,little,little,1880,18,radio/TV,good\\r\\n27,male,2,rent,NA,NA,7980,36,business,bad\\r\\n32,male,2,own,little,little,4583,30,furniture/equipment,good\\r\\n26,female,2,own,quite rich,NA,1386,12,car,bad\\r\\n38,male,2,free,little,rich,947,24,car,bad\\r\\n40,male,1,rent,little,little,684,12,education,bad\\r\\n50,male,3,free,little,little,7476,48,education,good\\r\\n37,male,1,own,little,moderate,1922,12,furniture/equipment,bad\\r\\n45,male,2,own,little,little,2303,24,car,bad\\r\\n42,male,3,own,moderate,moderate,8086,36,car,bad\\r\\n35,male,2,own,little,NA,2346,24,car,good\\r\\n22,male,2,free,little,little,3973,14,car,good\\r\\n41,male,1,own,little,moderate,888,12,car,bad\\r\\n37,male,2,own,NA,NA,10222,48,radio/TV,good\\r\\n28,female,2,own,little,moderate,4221,30,business,good\\r\\n41,male,2,own,little,moderate,6361,18,furniture/equipment,good\\r\\n23,male,2,rent,little,rich,1297,12,radio/TV,good\\r\\n23,male,2,own,NA,little,900,12,car,bad\\r\\n50,male,2,own,little,NA,2241,21,furniture/equipment,good\\r\\n35,male,3,own,little,moderate,1050,6,furniture/equipment,good\\r\\n50,female,1,own,little,rich,1047,6,education,good\\r\\n27,male,3,own,little,NA,6314,24,vacation/others,good\\r\\n34,male,2,own,rich,moderate,3496,30,furniture/equipment,good\\r\\n27,female,2,own,little,NA,3609,48,business,good\\r\\n43,male,2,rent,little,little,4843,12,car,bad\\r\\n47,male,2,own,little,rich,3017,30,radio/TV,good\\r\\n27,male,1,own,moderate,NA,4139,24,business,good\\r\\n31,male,2,own,moderate,NA,5742,36,business,good\\r\\n42,male,3,own,little,NA,10366,60,car,good\\r\\n24,male,2,own,quite rich,NA,2080,6,car,good\\r\\n41,male,1,own,quite rich,NA,2580,21,business,bad\\r\\n26,female,3,rent,little,NA,4530,30,radio/TV,good\\r\\n33,male,2,own,little,NA,5150,24,furniture/equipment,good\\r\\n24,male,2,own,moderate,moderate,5595,72,radio/TV,bad\\r\\n64,male,1,rent,little,little,2384,24,radio/TV,good\\r\\n26,female,2,own,little,NA,1453,18,radio/TV,good\\r\\n56,female,2,own,little,NA,1538,6,education,good\\r\\n37,male,2,free,NA,NA,2279,12,radio/TV,good\\r\\n33,male,2,own,little,NA,1478,15,radio/TV,good\\r\\n47,male,2,free,little,NA,5103,24,radio/TV,good\\r\\n31,male,1,own,moderate,moderate,9857,36,business,good\\r\\n34,male,2,free,NA,NA,6527,60,car,good\\r\\n27,male,2,own,NA,rich,1347,10,radio/TV,good\\r\\n30,male,2,free,moderate,moderate,2862,36,car,good\\r\\n35,male,2,own,moderate,NA,2753,9,radio/TV,good\\r\\n31,male,2,own,rich,little,3651,12,car,good\\r\\n25,male,2,own,little,little,975,15,furniture/equipment,good\\r\\n25,female,1,own,moderate,moderate,2631,15,repairs,good\\r\\n29,male,2,own,moderate,moderate,2896,24,radio/TV,good\\r\\n44,male,1,own,NA,little,4716,6,car,good\\r\\n28,male,2,own,little,NA,2284,24,radio/TV,good\\r\\n50,male,2,rent,quite rich,NA,1236,6,car,good\\r\\n29,male,2,own,little,moderate,1103,12,radio/TV,good\\r\\n38,female,0,own,little,NA,926,12,car,good\\r\\n24,male,2,own,little,NA,1800,18,radio/TV,good\\r\\n40,male,3,rent,little,rich,1905,15,education,good\\r\\n29,female,1,rent,quite rich,NA,1123,12,furniture/equipment,bad\\r\\n46,male,2,free,little,little,6331,48,car,bad\\r\\n47,female,2,free,moderate,rich,1377,24,radio/TV,good\\r\\n41,male,2,own,moderate,moderate,2503,30,business,good\\r\\n32,female,2,own,little,moderate,2528,27,business,good\\r\\n35,female,2,free,quite rich,NA,5324,15,car,good\\r\\n24,male,2,own,moderate,moderate,6560,48,car,bad\\r\\n25,female,2,rent,little,moderate,2969,12,furniture/equipment,bad\\r\\n25,female,2,own,little,moderate,1206,9,radio/TV,good\\r\\n37,male,1,own,little,moderate,2118,9,radio/TV,good\\r\\n32,male,3,own,quite rich,NA,629,18,radio/TV,good\\r\\n35,female,2,free,little,little,1198,6,education,bad\\r\\n46,male,3,own,NA,NA,2476,21,car,good\\r\\n25,male,1,own,little,little,1138,9,radio/TV,good\\r\\n27,male,3,own,little,moderate,14027,60,car,bad\\r\\n63,male,2,own,NA,NA,7596,30,car,good\\r\\n40,male,2,own,NA,NA,3077,30,radio/TV,good\\r\\n32,male,3,free,little,NA,1505,18,radio/TV,good\\r\\n31,male,2,own,NA,rich,3148,24,radio/TV,good\\r\\n31,male,2,own,moderate,moderate,6148,20,car,good\\r\\n34,male,3,own,little,rich,1337,9,radio/TV,bad\\r\\n24,female,2,rent,rich,moderate,433,6,education,bad\\r\\n24,female,1,own,little,little,1228,12,car,bad\\r\\n66,female,1,own,quite rich,moderate,790,9,radio/TV,good\\r\\n21,female,2,rent,little,NA,2570,27,car,bad\\r\\n41,female,1,own,rich,NA,250,6,car,good\\r\\n47,male,1,own,quite rich,NA,1316,15,radio/TV,good\\r\\n25,female,2,rent,little,little,1882,18,radio/TV,bad\\r\\n59,female,2,rent,little,moderate,6416,48,business,bad\\r\\n36,male,2,own,rich,rich,1275,24,business,good\\r\\n33,male,2,own,little,moderate,6403,24,radio/TV,good\\r\\n21,male,1,rent,little,little,1987,24,radio/TV,bad\\r\\n44,female,1,own,little,moderate,760,8,radio/TV,good\\r\\n28,female,2,rent,rich,NA,2603,24,car,good\\r\\n37,female,2,own,little,NA,3380,4,car,good\\r\\n29,female,0,own,NA,moderate,3990,36,domestic appliances,good\\r\\n23,female,3,rent,little,moderate,11560,24,car,bad\\r\\n35,male,1,own,moderate,little,4380,18,car,good\\r\\n45,male,3,own,little,NA,6761,6,car,good\\r\\n26,female,1,rent,moderate,moderate,4280,30,business,bad\\r\\n32,male,2,own,moderate,little,2325,24,car,good\\r\\n23,male,1,own,little,moderate,1048,10,radio/TV,good\\r\\n41,male,2,own,NA,NA,3160,21,radio/TV,good\\r\\n22,male,2,own,quite rich,little,2483,24,furniture/equipment,good\\r\\n30,male,3,own,NA,little,14179,39,furniture/equipment,good\\r\\n28,male,1,own,little,little,1797,13,business,good\\r\\n23,female,2,rent,little,little,2511,15,car,good\\r\\n37,female,1,own,little,little,1274,12,car,bad\\r\\n26,male,2,own,NA,NA,5248,21,car,good\\r\\n33,male,2,own,little,NA,3029,15,car,good\\r\\n49,female,2,own,little,little,428,6,furniture/equipment,good\\r\\n23,female,1,own,little,little,976,18,car,bad\\r\\n23,female,1,rent,moderate,moderate,841,12,business,good\\r\\n25,female,2,own,little,NA,5771,30,radio/TV,good\\r\\n55,male,2,free,rich,NA,1555,12,repairs,bad\\r\\n32,female,2,rent,NA,little,1285,24,car,bad\\r\\n74,male,0,own,little,rich,1299,6,car,good\\r\\n39,male,2,free,NA,rich,1271,15,radio/TV,bad\\r\\n31,male,2,own,little,NA,1393,24,car,good\\r\\n35,male,2,own,little,little,691,12,car,bad\\r\\n59,female,2,own,NA,NA,5045,15,car,good\\r\\n24,female,2,rent,little,little,2124,18,furniture/equipment,bad\\r\\n24,male,1,own,little,little,2214,12,radio/TV,good\\r\\n30,male,3,free,NA,NA,12680,21,car,bad\\r\\n27,male,2,own,moderate,NA,2463,24,car,good\\r\\n40,male,1,own,little,moderate,1155,12,radio/TV,good\\r\\n31,male,1,own,little,little,3108,30,furniture/equipment,bad\\r\\n31,female,2,rent,NA,NA,2901,10,car,good\\r\\n28,male,2,rent,little,moderate,3617,12,furniture/equipment,good\\r\\n63,male,1,own,little,NA,1655,12,radio/TV,good\\r\\n26,female,2,rent,NA,little,2812,24,car,good\\r\\n25,female,3,own,little,little,8065,36,education,bad\\r\\n36,male,3,own,little,NA,3275,21,car,good\\r\\n52,male,2,own,moderate,NA,2223,24,radio/TV,good\\r\\n66,male,0,free,quite rich,rich,1480,12,car,good\\r\\n25,female,2,rent,NA,little,1371,24,car,bad\\r\\n37,male,2,own,little,NA,3535,36,car,good\\r\\n25,female,2,own,little,little,3509,18,radio/TV,good\\r\\n38,male,3,own,rich,NA,5711,36,car,good\\r\\n67,female,2,own,little,moderate,3872,18,repairs,good\\r\\n25,male,2,own,little,moderate,4933,39,radio/TV,bad\\r\\n60,male,2,own,rich,NA,1940,24,car,good\\r\\n31,male,1,own,little,moderate,1410,12,education,good\\r\\n23,female,1,own,moderate,moderate,836,12,car,bad\\r\\n60,male,3,own,NA,moderate,6468,20,car,good\\r\\n35,male,1,own,rich,moderate,1941,18,business,good\\r\\n40,male,2,own,quite rich,NA,2675,22,radio/TV,good\\r\\n38,male,2,own,NA,NA,2751,48,car,good\\r\\n50,male,2,free,little,moderate,6224,48,education,bad\\r\\n27,male,2,own,little,little,5998,40,education,bad\\r\\n39,female,2,own,little,moderate,1188,21,business,bad\\r\\n41,male,3,own,NA,NA,6313,24,car,good\\r\\n27,male,2,own,NA,NA,1221,6,furniture/equipment,good\\r\\n51,male,2,free,little,rich,2892,24,furniture/equipment,good\\r\\n32,male,2,rent,quite rich,NA,3062,24,furniture/equipment,good\\r\\n22,female,2,rent,moderate,NA,2301,9,furniture/equipment,good\\r\\n51,male,2,free,NA,little,7511,18,car,bad\\r\\n22,female,1,rent,little,NA,1258,12,furniture/equipment,good\\r\\n54,male,2,own,NA,NA,717,24,car,good\\r\\n35,male,0,own,NA,moderate,1549,9,car,good\\r\\n54,male,2,free,little,NA,1597,24,education,good\\r\\n48,female,1,rent,little,moderate,1795,18,radio/TV,good\\r\\n24,female,2,own,little,little,4272,20,furniture/equipment,good\\r\\n35,male,2,own,NA,NA,976,12,radio/TV,good\\r\\n24,female,0,rent,NA,moderate,7472,12,car,good\\r\\n24,male,2,own,little,little,9271,36,car,bad\\r\\n26,male,1,own,little,moderate,590,6,radio/TV,good\\r\\n65,male,2,own,NA,NA,930,12,radio/TV,good\\r\\n55,male,3,free,little,moderate,9283,42,car,good\\r\\n26,female,0,rent,little,moderate,1778,15,car,bad\\r\\n26,male,2,own,little,moderate,907,8,business,good\\r\\n28,male,1,own,little,moderate,484,6,radio/TV,good\\r\\n24,male,2,own,little,little,9629,36,car,bad\\r\\n54,male,2,own,little,little,3051,48,domestic appliances,bad\\r\\n46,male,2,free,little,little,3931,48,car,bad\\r\\n54,female,2,rent,little,moderate,7432,36,car,good\\r\\n62,male,2,own,quite rich,NA,1338,6,domestic appliances,good\\r\\n24,female,2,rent,little,NA,1554,6,radio/TV,good\\r\\n43,male,3,own,little,little,15857,36,vacation/others,good\\r\\n26,male,2,own,little,little,1345,18,radio/TV,bad\\r\\n27,male,2,own,little,NA,1101,12,car,good\\r\\n24,male,2,own,little,rich,3016,12,radio/TV,good\\r\\n41,male,2,own,little,little,2712,36,furniture/equipment,bad\\r\\n47,male,1,own,little,little,731,8,car,good\\r\\n35,male,3,own,little,NA,3780,18,furniture/equipment,good\\r\\n30,male,2,own,little,little,1602,21,car,good\\r\\n33,female,2,rent,little,little,3966,18,car,bad\\r\\n36,male,2,own,little,NA,4165,18,business,bad\\r\\n47,male,2,free,NA,little,8335,36,car,bad\\r\\n38,male,2,free,NA,moderate,6681,48,business,good\\r\\n44,male,2,own,quite rich,NA,2375,24,business,good\\r\\n23,female,2,rent,little,little,1216,18,car,bad\\r\\n29,male,2,rent,little,little,11816,45,business,bad\\r\\n42,female,2,own,NA,moderate,5084,24,radio/TV,good\\r\\n25,female,1,own,little,rich,2327,15,radio/TV,bad\\r\\n48,male,2,own,little,little,1082,12,car,bad\\r\\n21,female,2,own,NA,NA,886,12,radio/TV,good\\r\\n23,female,1,rent,little,NA,601,4,furniture/equipment,good\\r\\n63,male,2,own,little,little,2957,24,car,good\\r\\n46,male,2,own,little,NA,2611,24,radio/TV,good\\r\\n29,male,2,own,little,little,5179,36,furniture/equipment,bad\\r\\n28,male,1,own,little,NA,2993,21,car,good\\r\\n23,female,2,own,little,NA,1943,18,repairs,bad\\r\\n50,male,2,own,little,NA,1559,24,business,good\\r\\n47,male,2,own,little,NA,3422,18,furniture/equipment,good\\r\\n35,male,2,own,NA,moderate,3976,21,furniture/equipment,good\\r\\n68,male,2,rent,NA,NA,6761,18,car,bad\\r\\n28,male,2,own,little,NA,1249,24,car,good\\r\\n59,male,2,own,little,little,1364,9,radio/TV,good\\r\\n57,male,1,own,little,little,709,12,radio/TV,bad\\r\\n33,male,2,rent,little,little,2235,20,car,bad\\r\\n43,male,2,own,NA,NA,4042,24,car,good\\r\\n35,male,2,free,little,NA,1471,15,radio/TV,good\\r\\n32,male,1,free,little,little,1442,18,car,bad\\r\\n45,male,2,own,little,NA,10875,36,car,good\\r\\n33,male,2,own,moderate,NA,1474,24,car,good\\r\\n40,female,2,own,NA,NA,894,10,education,good\\r\\n28,male,2,free,little,NA,3343,15,furniture/equipment,good\\r\\n29,female,2,own,little,little,3959,15,car,bad\\r\\n26,male,2,rent,moderate,NA,3577,9,car,good\\r\\n27,male,2,own,rich,NA,5804,24,car,good\\r\\n28,male,2,own,little,NA,2169,18,business,bad\\r\\n35,female,2,own,little,little,2439,24,radio/TV,bad\\r\\n32,male,1,own,rich,NA,4526,27,furniture/equipment,good\\r\\n25,male,1,rent,little,NA,2210,10,furniture/equipment,bad\\r\\n20,female,2,rent,quite rich,NA,2221,15,furniture/equipment,good\\r\\n27,female,2,own,little,little,2389,18,radio/TV,good\\r\\n42,male,2,own,little,NA,3331,12,furniture/equipment,good\\r\\n37,male,2,own,NA,NA,7409,36,business,good\\r\\n24,female,2,rent,little,little,652,12,furniture/equipment,good\\r\\n40,female,2,own,quite rich,NA,7678,36,furniture/equipment,good\\r\\n46,male,2,own,little,rich,1343,6,car,good\\r\\n26,male,2,own,moderate,little,1382,24,business,good\\r\\n24,female,2,own,NA,NA,874,15,domestic appliances,good\\r\\n29,male,1,own,little,little,3590,12,furniture/equipment,good\\r\\n40,female,2,own,rich,moderate,1322,11,car,good\\r\\n36,male,3,free,little,little,1940,18,radio/TV,good\\r\\n28,male,2,own,little,NA,3595,36,radio/TV,good\\r\\n27,male,3,free,little,little,1422,9,car,bad\\r\\n36,male,2,own,NA,NA,6742,30,radio/TV,good\\r\\n38,male,3,own,little,NA,7814,24,car,good\\r\\n48,male,2,free,NA,NA,9277,24,car,good\\r\\n36,male,2,own,NA,moderate,2181,30,car,good\\r\\n65,female,0,own,little,NA,1098,18,radio/TV,good\\r\\n43,male,2,own,little,moderate,4057,24,furniture/equipment,bad\\r\\n53,female,2,own,little,little,795,12,education,bad\\r\\n34,male,2,own,NA,moderate,2825,24,business,good\\r\\n23,male,2,own,little,moderate,15672,48,business,bad\\r\\n34,male,3,own,little,NA,6614,36,car,good\\r\\n40,male,2,rent,NA,NA,7824,28,car,good\\r\\n43,male,3,own,little,little,2442,27,business,good\\r\\n46,male,2,own,little,NA,1829,15,radio/TV,good\\r\\n38,male,1,own,little,little,2171,12,car,good\\r\\n34,male,2,own,little,moderate,5800,36,car,good\\r\\n29,male,2,own,NA,NA,1169,18,radio/TV,good\\r\\n31,male,3,own,NA,NA,8947,36,car,good\\r\\n28,female,3,rent,little,little,2606,21,radio/TV,good\\r\\n35,female,2,own,rich,NA,1592,12,furniture/equipment,good\\r\\n33,female,1,rent,NA,NA,2186,15,furniture/equipment,good\\r\\n42,male,2,own,little,little,4153,18,furniture/equipment,bad\\r\\n43,male,2,rent,little,little,2625,16,car,bad\\r\\n44,male,2,own,NA,NA,3485,20,car,good\\r\\n42,male,2,free,NA,NA,10477,36,car,good\\r\\n40,male,2,rent,NA,NA,1386,15,radio/TV,good\\r\\n36,male,3,own,little,NA,1278,24,radio/TV,good\\r\\n20,male,3,rent,little,little,1107,12,radio/TV,good\\r\\n24,male,1,own,NA,little,3763,21,car,good\\r\\n27,male,2,own,NA,moderate,3711,36,education,good\\r\\n46,female,1,own,little,NA,3594,15,car,good\\r\\n33,female,1,own,NA,moderate,3195,9,car,good\\r\\n34,female,2,own,little,NA,4454,36,radio/TV,good\\r\\n25,female,1,own,little,moderate,4736,24,furniture/equipment,bad\\r\\n25,female,2,own,NA,moderate,2991,30,radio/TV,good\\r\\n28,male,2,own,rich,NA,2142,11,business,good\\r\\n31,male,2,rent,little,little,3161,24,business,bad\\r\\n32,female,3,own,little,moderate,18424,48,vacation/others,bad\\r\\n32,male,2,own,moderate,NA,2848,10,car,good\\r\\n68,male,3,own,little,little,14896,6,car,bad\\r\\n33,male,2,own,moderate,little,2359,24,furniture/equipment,bad\\r\\n39,male,3,rent,little,little,3345,24,furniture/equipment,bad\\r\\n28,female,2,own,little,NA,1817,18,furniture/equipment,good\\r\\n37,male,3,own,quite rich,NA,12749,48,radio/TV,good\\r\\n22,female,2,rent,little,little,1366,9,radio/TV,bad\\r\\n30,male,2,rent,little,moderate,2002,12,car,good\\r\\n55,male,2,own,little,little,6872,24,furniture/equipment,bad\\r\\n46,male,2,own,little,little,697,12,car,bad\\r\\n21,female,2,rent,little,little,1049,18,furniture/equipment,good\\r\\n39,male,2,free,little,little,10297,48,car,bad\\r\\n58,male,2,own,NA,NA,1867,30,radio/TV,good\\r\\n43,male,1,own,little,little,1344,12,car,good\\r\\n24,male,1,own,little,little,1747,24,furniture/equipment,good\\r\\n22,female,2,own,little,moderate,1670,9,radio/TV,bad\\r\\n30,male,2,own,little,NA,1224,9,car,good\\r\\n42,male,2,own,quite rich,NA,522,12,radio/TV,good\\r\\n23,female,2,own,little,little,1498,12,radio/TV,good\\r\\n30,male,3,own,moderate,moderate,1919,30,radio/TV,bad\\r\\n28,female,1,own,little,rich,745,9,radio/TV,bad\\r\\n30,male,3,rent,little,moderate,2063,6,radio/TV,good\\r\\n42,male,2,free,little,moderate,6288,60,education,bad\\r\\n46,male,3,own,NA,NA,6842,24,car,good\\r\\n45,male,3,own,NA,NA,3527,12,car,good\\r\\n31,male,1,own,little,NA,1546,10,car,good\\r\\n31,male,2,own,NA,NA,929,24,furniture/equipment,good\\r\\n42,male,1,own,little,NA,1455,4,car,good\\r\\n46,female,2,rent,little,little,1845,15,furniture/equipment,good\\r\\n30,female,2,own,quite rich,moderate,8358,48,car,good\\r\\n30,male,2,free,quite rich,little,3349,24,furniture/equipment,bad\\r\\n38,male,3,own,NA,NA,2859,12,car,good\\r\\n43,male,1,own,little,NA,1533,18,furniture/equipment,bad\\r\\n31,male,2,own,moderate,NA,3621,24,radio/TV,bad\\r\\n40,male,0,own,little,moderate,3590,18,business,good\\r\\n24,male,2,own,little,little,2145,36,business,bad\\r\\n28,female,2,rent,quite rich,moderate,4113,24,car,bad\\r\\n26,female,3,own,little,NA,10974,36,furniture/equipment,bad\\r\\n29,female,2,own,little,little,1893,12,car,good\\r\\n57,female,3,rent,rich,little,1231,24,radio/TV,good\\r\\n49,male,1,own,NA,rich,3656,30,radio/TV,good\\r\\n37,male,1,own,little,moderate,1154,9,radio/TV,good\\r\\n45,male,1,own,little,little,4006,28,car,bad\\r\\n30,male,2,free,moderate,moderate,3069,24,furniture/equipment,good\\r\\n30,male,2,rent,little,NA,1740,6,radio/TV,good\\r\\n47,male,2,own,little,moderate,2353,21,car,good\\r\\n29,male,2,own,NA,NA,3556,15,car,good\\r\\n35,male,2,own,quite rich,NA,2397,24,radio/TV,bad\\r\\n22,male,1,own,little,moderate,454,6,repairs,good\\r\\n26,female,2,own,NA,moderate,1715,30,radio/TV,good\\r\\n23,male,1,own,quite rich,moderate,2520,27,radio/TV,bad\\r\\n54,female,3,rent,little,NA,3568,15,radio/TV,good\\r\\n29,male,2,rent,NA,NA,7166,42,radio/TV,good\\r\\n40,male,1,own,little,little,3939,11,car,good\\r\\n22,male,2,own,moderate,moderate,1514,15,repairs,good\\r\\n43,male,1,own,little,NA,7393,24,car,good\\r\\n29,female,0,rent,little,little,1193,24,car,bad\\r\\n36,male,2,rent,little,little,7297,60,business,bad\\r\\n33,female,2,own,little,NA,2831,30,radio/TV,good\\r\\n57,female,1,own,quite rich,rich,1258,24,radio/TV,good\\r\\n64,female,2,own,little,moderate,753,6,radio/TV,good\\r\\n42,male,2,own,NA,moderate,2427,18,business,good\\r\\n47,male,1,own,little,NA,2538,24,car,bad\\r\\n25,male,2,rent,moderate,moderate,1264,15,car,bad\\r\\n49,male,2,own,little,moderate,8386,30,furniture/equipment,bad\\r\\n33,male,3,rent,little,NA,4844,48,business,bad\\r\\n28,female,3,own,moderate,rich,2923,21,car,good\\r\\n26,male,2,own,little,little,8229,36,car,bad\\r\\n30,male,1,own,little,NA,2028,24,furniture/equipment,good\\r\\n25,female,2,rent,little,little,1433,15,furniture/equipment,good\\r\\n33,male,2,own,little,rich,6289,42,business,good\\r\\n64,female,2,own,moderate,NA,1409,13,radio/TV,good\\r\\n29,male,3,free,little,little,6579,24,car,good\\r\\n48,male,1,own,little,moderate,1743,24,radio/TV,good\\r\\n37,male,1,own,NA,NA,3565,12,education,good\\r\\n34,male,1,own,moderate,NA,1569,15,radio/TV,good\\r\\n23,male,1,rent,NA,little,1936,18,radio/TV,good\\r\\n30,male,3,own,little,little,3959,36,furniture/equipment,good\\r\\n50,male,2,own,NA,NA,2390,12,car,good\\r\\n31,female,1,own,little,NA,1736,12,furniture/equipment,good\\r\\n40,male,3,own,little,little,3857,30,car,good\\r\\n38,male,2,own,little,NA,804,12,radio/TV,good\\r\\n23,male,2,free,little,little,1845,45,radio/TV,bad\\r\\n27,male,2,own,moderate,moderate,4576,45,car,good\\r\\n'}"
            ]
          },
          "metadata": {},
          "execution_count": 6
        }
      ]
    },
    {
      "cell_type": "code",
      "metadata": {
        "id": "AxdU8ur0B8fn"
      },
      "source": [
        "#ruta = '/content/drive/MyDrive/Ricardo Palma/Cursos Tercer Ciclo/Aprendizaje Maquina/Sesión 2/data/'\n",
        "#ruta = \"/content/drive/MyDrive/Cursos/Cursos Tercer Ciclo/Aprendizaje Maquina/Sesión 2/data/\"\n",
        "#train = pd.read_csv(ruta+'german_credit_data_train.csv')\n",
        "#test = pd.read_csv(ruta+'german_credit_data_train.csv')\n",
        "train=pd.read_csv('german_credit_data_train.csv')\n",
        "test=pd.read_csv('german_credit_data_test.csv')\n"
      ],
      "execution_count": 7,
      "outputs": []
    },
    {
      "cell_type": "code",
      "metadata": {
        "id": "xA7YY61OQ5Zx"
      },
      "source": [
        "for i in train.columns:\n",
        "    train[i][train[i].apply(lambda i: True if re.search('^\\s*$', str(i)) else False)]=np.nan"
      ],
      "execution_count": 8,
      "outputs": []
    },
    {
      "cell_type": "code",
      "metadata": {
        "id": "34X0SToXSvWp"
      },
      "source": [
        "for i in test.columns:\n",
        "    test[i][test[i].apply(lambda i: True if re.search('^\\s*$', str(i)) else False)]=np.nan"
      ],
      "execution_count": 9,
      "outputs": []
    },
    {
      "cell_type": "code",
      "metadata": {
        "id": "7Ibw0Tw5B8iN",
        "colab": {
          "base_uri": "https://localhost:8080/",
          "height": 359
        },
        "outputId": "35c656c0-f3c5-4c3c-ddaf-5832079a9a1d"
      },
      "source": [
        "train.head(10)"
      ],
      "execution_count": 10,
      "outputs": [
        {
          "output_type": "execute_result",
          "data": {
            "text/html": [
              "<div>\n",
              "<style scoped>\n",
              "    .dataframe tbody tr th:only-of-type {\n",
              "        vertical-align: middle;\n",
              "    }\n",
              "\n",
              "    .dataframe tbody tr th {\n",
              "        vertical-align: top;\n",
              "    }\n",
              "\n",
              "    .dataframe thead th {\n",
              "        text-align: right;\n",
              "    }\n",
              "</style>\n",
              "<table border=\"1\" class=\"dataframe\">\n",
              "  <thead>\n",
              "    <tr style=\"text-align: right;\">\n",
              "      <th></th>\n",
              "      <th>Age</th>\n",
              "      <th>Sex</th>\n",
              "      <th>Job</th>\n",
              "      <th>Housing</th>\n",
              "      <th>Saving_accounts</th>\n",
              "      <th>Checking_account</th>\n",
              "      <th>Credit_amount</th>\n",
              "      <th>Duration</th>\n",
              "      <th>Purpose</th>\n",
              "      <th>Risk</th>\n",
              "    </tr>\n",
              "  </thead>\n",
              "  <tbody>\n",
              "    <tr>\n",
              "      <th>0</th>\n",
              "      <td>67</td>\n",
              "      <td>male</td>\n",
              "      <td>2</td>\n",
              "      <td>own</td>\n",
              "      <td>NaN</td>\n",
              "      <td>little</td>\n",
              "      <td>1169</td>\n",
              "      <td>6</td>\n",
              "      <td>radio/TV</td>\n",
              "      <td>good</td>\n",
              "    </tr>\n",
              "    <tr>\n",
              "      <th>1</th>\n",
              "      <td>22</td>\n",
              "      <td>female</td>\n",
              "      <td>2</td>\n",
              "      <td>own</td>\n",
              "      <td>little</td>\n",
              "      <td>moderate</td>\n",
              "      <td>5951</td>\n",
              "      <td>48</td>\n",
              "      <td>radio/TV</td>\n",
              "      <td>bad</td>\n",
              "    </tr>\n",
              "    <tr>\n",
              "      <th>2</th>\n",
              "      <td>49</td>\n",
              "      <td>male</td>\n",
              "      <td>1</td>\n",
              "      <td>own</td>\n",
              "      <td>little</td>\n",
              "      <td>NaN</td>\n",
              "      <td>2096</td>\n",
              "      <td>12</td>\n",
              "      <td>education</td>\n",
              "      <td>good</td>\n",
              "    </tr>\n",
              "    <tr>\n",
              "      <th>3</th>\n",
              "      <td>45</td>\n",
              "      <td>male</td>\n",
              "      <td>2</td>\n",
              "      <td>free</td>\n",
              "      <td>little</td>\n",
              "      <td>little</td>\n",
              "      <td>7882</td>\n",
              "      <td>42</td>\n",
              "      <td>furniture/equipment</td>\n",
              "      <td>good</td>\n",
              "    </tr>\n",
              "    <tr>\n",
              "      <th>4</th>\n",
              "      <td>53</td>\n",
              "      <td>male</td>\n",
              "      <td>2</td>\n",
              "      <td>free</td>\n",
              "      <td>little</td>\n",
              "      <td>little</td>\n",
              "      <td>4870</td>\n",
              "      <td>24</td>\n",
              "      <td>car</td>\n",
              "      <td>bad</td>\n",
              "    </tr>\n",
              "    <tr>\n",
              "      <th>5</th>\n",
              "      <td>35</td>\n",
              "      <td>male</td>\n",
              "      <td>NaN</td>\n",
              "      <td>free</td>\n",
              "      <td>NaN</td>\n",
              "      <td>NaN</td>\n",
              "      <td>9055</td>\n",
              "      <td>36</td>\n",
              "      <td>education</td>\n",
              "      <td>good</td>\n",
              "    </tr>\n",
              "    <tr>\n",
              "      <th>6</th>\n",
              "      <td>53</td>\n",
              "      <td>male</td>\n",
              "      <td>2</td>\n",
              "      <td>own</td>\n",
              "      <td>quite rich</td>\n",
              "      <td>NaN</td>\n",
              "      <td>2835</td>\n",
              "      <td>24</td>\n",
              "      <td>furniture/equipment</td>\n",
              "      <td>good</td>\n",
              "    </tr>\n",
              "    <tr>\n",
              "      <th>7</th>\n",
              "      <td>35</td>\n",
              "      <td>male</td>\n",
              "      <td>3</td>\n",
              "      <td>rent</td>\n",
              "      <td>little</td>\n",
              "      <td>moderate</td>\n",
              "      <td>6948</td>\n",
              "      <td>36</td>\n",
              "      <td>car</td>\n",
              "      <td>good</td>\n",
              "    </tr>\n",
              "    <tr>\n",
              "      <th>8</th>\n",
              "      <td>61</td>\n",
              "      <td>male</td>\n",
              "      <td>1</td>\n",
              "      <td>own</td>\n",
              "      <td>rich</td>\n",
              "      <td>NaN</td>\n",
              "      <td>3059</td>\n",
              "      <td>12</td>\n",
              "      <td>radio/TV</td>\n",
              "      <td>good</td>\n",
              "    </tr>\n",
              "    <tr>\n",
              "      <th>9</th>\n",
              "      <td>28</td>\n",
              "      <td>male</td>\n",
              "      <td>3</td>\n",
              "      <td>own</td>\n",
              "      <td>little</td>\n",
              "      <td>moderate</td>\n",
              "      <td>5234</td>\n",
              "      <td>30</td>\n",
              "      <td>car</td>\n",
              "      <td>bad</td>\n",
              "    </tr>\n",
              "  </tbody>\n",
              "</table>\n",
              "</div>"
            ],
            "text/plain": [
              "   Age     Sex  Job Housing  ... Credit_amount Duration              Purpose  Risk\n",
              "0   67    male    2     own  ...          1169        6             radio/TV  good\n",
              "1   22  female    2     own  ...          5951       48             radio/TV   bad\n",
              "2   49    male    1     own  ...          2096       12            education  good\n",
              "3   45    male    2    free  ...          7882       42  furniture/equipment  good\n",
              "4   53    male    2    free  ...          4870       24                  car   bad\n",
              "5   35    male  NaN    free  ...          9055       36            education  good\n",
              "6   53    male    2     own  ...          2835       24  furniture/equipment  good\n",
              "7   35    male    3    rent  ...          6948       36                  car  good\n",
              "8   61    male    1     own  ...          3059       12             radio/TV  good\n",
              "9   28    male    3     own  ...          5234       30                  car   bad\n",
              "\n",
              "[10 rows x 10 columns]"
            ]
          },
          "metadata": {},
          "execution_count": 10
        }
      ]
    },
    {
      "cell_type": "code",
      "metadata": {
        "colab": {
          "base_uri": "https://localhost:8080/",
          "height": 235
        },
        "id": "k12ODF6xz3wj",
        "outputId": "74e4aa46-b17c-4b05-d6f6-052d9457e4d7"
      },
      "source": [
        "train.tail(6)"
      ],
      "execution_count": 11,
      "outputs": [
        {
          "output_type": "execute_result",
          "data": {
            "text/html": [
              "<div>\n",
              "<style scoped>\n",
              "    .dataframe tbody tr th:only-of-type {\n",
              "        vertical-align: middle;\n",
              "    }\n",
              "\n",
              "    .dataframe tbody tr th {\n",
              "        vertical-align: top;\n",
              "    }\n",
              "\n",
              "    .dataframe thead th {\n",
              "        text-align: right;\n",
              "    }\n",
              "</style>\n",
              "<table border=\"1\" class=\"dataframe\">\n",
              "  <thead>\n",
              "    <tr style=\"text-align: right;\">\n",
              "      <th></th>\n",
              "      <th>Age</th>\n",
              "      <th>Sex</th>\n",
              "      <th>Job</th>\n",
              "      <th>Housing</th>\n",
              "      <th>Saving_accounts</th>\n",
              "      <th>Checking_account</th>\n",
              "      <th>Credit_amount</th>\n",
              "      <th>Duration</th>\n",
              "      <th>Purpose</th>\n",
              "      <th>Risk</th>\n",
              "    </tr>\n",
              "  </thead>\n",
              "  <tbody>\n",
              "    <tr>\n",
              "      <th>994</th>\n",
              "      <td>50</td>\n",
              "      <td>male</td>\n",
              "      <td>2</td>\n",
              "      <td>own</td>\n",
              "      <td>NaN</td>\n",
              "      <td>NaN</td>\n",
              "      <td>2390</td>\n",
              "      <td>12</td>\n",
              "      <td>car</td>\n",
              "      <td>good</td>\n",
              "    </tr>\n",
              "    <tr>\n",
              "      <th>995</th>\n",
              "      <td>31</td>\n",
              "      <td>female</td>\n",
              "      <td>1</td>\n",
              "      <td>own</td>\n",
              "      <td>little</td>\n",
              "      <td>NaN</td>\n",
              "      <td>1736</td>\n",
              "      <td>12</td>\n",
              "      <td>furniture/equipment</td>\n",
              "      <td>good</td>\n",
              "    </tr>\n",
              "    <tr>\n",
              "      <th>996</th>\n",
              "      <td>40</td>\n",
              "      <td>male</td>\n",
              "      <td>3</td>\n",
              "      <td>own</td>\n",
              "      <td>little</td>\n",
              "      <td>little</td>\n",
              "      <td>3857</td>\n",
              "      <td>30</td>\n",
              "      <td>car</td>\n",
              "      <td>good</td>\n",
              "    </tr>\n",
              "    <tr>\n",
              "      <th>997</th>\n",
              "      <td>38</td>\n",
              "      <td>male</td>\n",
              "      <td>2</td>\n",
              "      <td>own</td>\n",
              "      <td>little</td>\n",
              "      <td>NaN</td>\n",
              "      <td>804</td>\n",
              "      <td>12</td>\n",
              "      <td>radio/TV</td>\n",
              "      <td>good</td>\n",
              "    </tr>\n",
              "    <tr>\n",
              "      <th>998</th>\n",
              "      <td>23</td>\n",
              "      <td>male</td>\n",
              "      <td>2</td>\n",
              "      <td>free</td>\n",
              "      <td>little</td>\n",
              "      <td>little</td>\n",
              "      <td>1845</td>\n",
              "      <td>45</td>\n",
              "      <td>radio/TV</td>\n",
              "      <td>bad</td>\n",
              "    </tr>\n",
              "    <tr>\n",
              "      <th>999</th>\n",
              "      <td>27</td>\n",
              "      <td>male</td>\n",
              "      <td>2</td>\n",
              "      <td>own</td>\n",
              "      <td>moderate</td>\n",
              "      <td>moderate</td>\n",
              "      <td>4576</td>\n",
              "      <td>45</td>\n",
              "      <td>car</td>\n",
              "      <td>good</td>\n",
              "    </tr>\n",
              "  </tbody>\n",
              "</table>\n",
              "</div>"
            ],
            "text/plain": [
              "     Age     Sex Job  ... Duration              Purpose  Risk\n",
              "994   50    male   2  ...       12                  car  good\n",
              "995   31  female   1  ...       12  furniture/equipment  good\n",
              "996   40    male   3  ...       30                  car  good\n",
              "997   38    male   2  ...       12             radio/TV  good\n",
              "998   23    male   2  ...       45             radio/TV   bad\n",
              "999   27    male   2  ...       45                  car  good\n",
              "\n",
              "[6 rows x 10 columns]"
            ]
          },
          "metadata": {},
          "execution_count": 11
        }
      ]
    },
    {
      "cell_type": "code",
      "metadata": {
        "colab": {
          "base_uri": "https://localhost:8080/"
        },
        "id": "VNDmI1d2H0mT",
        "outputId": "8b0bd02d-4f58-4b6d-ce4f-28a8ee65c3ce"
      },
      "source": [
        "train.info()"
      ],
      "execution_count": 12,
      "outputs": [
        {
          "output_type": "stream",
          "name": "stdout",
          "text": [
            "<class 'pandas.core.frame.DataFrame'>\n",
            "RangeIndex: 1000 entries, 0 to 999\n",
            "Data columns (total 10 columns):\n",
            " #   Column            Non-Null Count  Dtype \n",
            "---  ------            --------------  ----- \n",
            " 0   Age               1000 non-null   int64 \n",
            " 1   Sex               1000 non-null   object\n",
            " 2   Job               999 non-null    object\n",
            " 3   Housing           1000 non-null   object\n",
            " 4   Saving_accounts   817 non-null    object\n",
            " 5   Checking_account  606 non-null    object\n",
            " 6   Credit_amount     1000 non-null   int64 \n",
            " 7   Duration          1000 non-null   int64 \n",
            " 8   Purpose           1000 non-null   object\n",
            " 9   Risk              1000 non-null   object\n",
            "dtypes: int64(3), object(7)\n",
            "memory usage: 78.2+ KB\n"
          ]
        }
      ]
    },
    {
      "cell_type": "code",
      "metadata": {
        "colab": {
          "base_uri": "https://localhost:8080/",
          "height": 376
        },
        "id": "K-jqktkWJvoz",
        "outputId": "85f45379-7f42-4f2a-b560-ceb020ebf20f"
      },
      "source": [
        "#conteo de nulos\n",
        "missing_tabla(train)"
      ],
      "execution_count": 13,
      "outputs": [
        {
          "output_type": "stream",
          "name": "stdout",
          "text": [
            "Cantidad de Missing por variable: \n"
          ]
        },
        {
          "output_type": "execute_result",
          "data": {
            "text/html": [
              "<div>\n",
              "<style scoped>\n",
              "    .dataframe tbody tr th:only-of-type {\n",
              "        vertical-align: middle;\n",
              "    }\n",
              "\n",
              "    .dataframe tbody tr th {\n",
              "        vertical-align: top;\n",
              "    }\n",
              "\n",
              "    .dataframe thead th {\n",
              "        text-align: right;\n",
              "    }\n",
              "</style>\n",
              "<table border=\"1\" class=\"dataframe\">\n",
              "  <thead>\n",
              "    <tr style=\"text-align: right;\">\n",
              "      <th></th>\n",
              "      <th>Cantidad de Missing</th>\n",
              "      <th>% Porcentaje de Missing</th>\n",
              "    </tr>\n",
              "  </thead>\n",
              "  <tbody>\n",
              "    <tr>\n",
              "      <th>Checking_account</th>\n",
              "      <td>394</td>\n",
              "      <td>39.4</td>\n",
              "    </tr>\n",
              "    <tr>\n",
              "      <th>Saving_accounts</th>\n",
              "      <td>183</td>\n",
              "      <td>18.3</td>\n",
              "    </tr>\n",
              "    <tr>\n",
              "      <th>Job</th>\n",
              "      <td>1</td>\n",
              "      <td>0.1</td>\n",
              "    </tr>\n",
              "    <tr>\n",
              "      <th>Age</th>\n",
              "      <td>0</td>\n",
              "      <td>0.0</td>\n",
              "    </tr>\n",
              "    <tr>\n",
              "      <th>Sex</th>\n",
              "      <td>0</td>\n",
              "      <td>0.0</td>\n",
              "    </tr>\n",
              "    <tr>\n",
              "      <th>Housing</th>\n",
              "      <td>0</td>\n",
              "      <td>0.0</td>\n",
              "    </tr>\n",
              "    <tr>\n",
              "      <th>Credit_amount</th>\n",
              "      <td>0</td>\n",
              "      <td>0.0</td>\n",
              "    </tr>\n",
              "    <tr>\n",
              "      <th>Duration</th>\n",
              "      <td>0</td>\n",
              "      <td>0.0</td>\n",
              "    </tr>\n",
              "    <tr>\n",
              "      <th>Purpose</th>\n",
              "      <td>0</td>\n",
              "      <td>0.0</td>\n",
              "    </tr>\n",
              "    <tr>\n",
              "      <th>Risk</th>\n",
              "      <td>0</td>\n",
              "      <td>0.0</td>\n",
              "    </tr>\n",
              "  </tbody>\n",
              "</table>\n",
              "</div>"
            ],
            "text/plain": [
              "                  Cantidad de Missing  % Porcentaje de Missing\n",
              "Checking_account                  394                     39.4\n",
              "Saving_accounts                   183                     18.3\n",
              "Job                                 1                      0.1\n",
              "Age                                 0                      0.0\n",
              "Sex                                 0                      0.0\n",
              "Housing                             0                      0.0\n",
              "Credit_amount                       0                      0.0\n",
              "Duration                            0                      0.0\n",
              "Purpose                             0                      0.0\n",
              "Risk                                0                      0.0"
            ]
          },
          "metadata": {},
          "execution_count": 13
        }
      ]
    },
    {
      "cell_type": "code",
      "metadata": {
        "colab": {
          "base_uri": "https://localhost:8080/"
        },
        "id": "OCsvA3zvHpxa",
        "outputId": "0183c495-f541-4d78-a083-5092c1af8df6"
      },
      "source": [
        "train.shape"
      ],
      "execution_count": 14,
      "outputs": [
        {
          "output_type": "execute_result",
          "data": {
            "text/plain": [
              "(1000, 10)"
            ]
          },
          "metadata": {},
          "execution_count": 14
        }
      ]
    },
    {
      "cell_type": "markdown",
      "metadata": {
        "id": "N21XZLsgIPxm"
      },
      "source": [
        "## 3.Tratamiento de la data\n"
      ]
    },
    {
      "cell_type": "code",
      "metadata": {
        "id": "auhHf6kqLejz",
        "colab": {
          "base_uri": "https://localhost:8080/"
        },
        "outputId": "2034776a-ab98-4a08-c5bf-1d433058d175"
      },
      "source": [
        "# Seleccionamos las variales numericas\n",
        "feature_num = ['Age','Credit_amount','Duration']\n",
        "# Al seleccionar el complemento de las\n",
        "# variables numericas, obtenemos las\n",
        "# variables categoricas\n",
        "feature_cat = train.columns.drop(feature_num)\n",
        "print(\"Variables numéricas\")\n",
        "print(feature_num)\n",
        "print(\"\\nVariables categóricas\")\n",
        "print(feature_cat)"
      ],
      "execution_count": 15,
      "outputs": [
        {
          "output_type": "stream",
          "name": "stdout",
          "text": [
            "Variables numéricas\n",
            "['Age', 'Credit_amount', 'Duration']\n",
            "\n",
            "Variables categóricas\n",
            "Index(['Sex', 'Job', 'Housing', 'Saving_accounts', 'Checking_account',\n",
            "       'Purpose', 'Risk'],\n",
            "      dtype='object')\n"
          ]
        }
      ]
    },
    {
      "cell_type": "code",
      "metadata": {
        "id": "QQNJRH0pB8np",
        "colab": {
          "base_uri": "https://localhost:8080/",
          "height": 142
        },
        "outputId": "9f46a932-78ff-4349-99a3-797ee823c8eb"
      },
      "source": [
        "# Observamos las variables numericas\n",
        "train[feature_num].describe().transpose() "
      ],
      "execution_count": 16,
      "outputs": [
        {
          "output_type": "execute_result",
          "data": {
            "text/html": [
              "<div>\n",
              "<style scoped>\n",
              "    .dataframe tbody tr th:only-of-type {\n",
              "        vertical-align: middle;\n",
              "    }\n",
              "\n",
              "    .dataframe tbody tr th {\n",
              "        vertical-align: top;\n",
              "    }\n",
              "\n",
              "    .dataframe thead th {\n",
              "        text-align: right;\n",
              "    }\n",
              "</style>\n",
              "<table border=\"1\" class=\"dataframe\">\n",
              "  <thead>\n",
              "    <tr style=\"text-align: right;\">\n",
              "      <th></th>\n",
              "      <th>count</th>\n",
              "      <th>mean</th>\n",
              "      <th>std</th>\n",
              "      <th>min</th>\n",
              "      <th>25%</th>\n",
              "      <th>50%</th>\n",
              "      <th>75%</th>\n",
              "      <th>max</th>\n",
              "    </tr>\n",
              "  </thead>\n",
              "  <tbody>\n",
              "    <tr>\n",
              "      <th>Age</th>\n",
              "      <td>1000.0</td>\n",
              "      <td>35.546</td>\n",
              "      <td>11.375469</td>\n",
              "      <td>19.0</td>\n",
              "      <td>27.0</td>\n",
              "      <td>33.0</td>\n",
              "      <td>42.00</td>\n",
              "      <td>75.0</td>\n",
              "    </tr>\n",
              "    <tr>\n",
              "      <th>Credit_amount</th>\n",
              "      <td>1000.0</td>\n",
              "      <td>3271.258</td>\n",
              "      <td>2822.736876</td>\n",
              "      <td>250.0</td>\n",
              "      <td>1365.5</td>\n",
              "      <td>2319.5</td>\n",
              "      <td>3972.25</td>\n",
              "      <td>18424.0</td>\n",
              "    </tr>\n",
              "    <tr>\n",
              "      <th>Duration</th>\n",
              "      <td>1000.0</td>\n",
              "      <td>20.903</td>\n",
              "      <td>12.058814</td>\n",
              "      <td>4.0</td>\n",
              "      <td>12.0</td>\n",
              "      <td>18.0</td>\n",
              "      <td>24.00</td>\n",
              "      <td>72.0</td>\n",
              "    </tr>\n",
              "  </tbody>\n",
              "</table>\n",
              "</div>"
            ],
            "text/plain": [
              "                count      mean          std  ...     50%      75%      max\n",
              "Age            1000.0    35.546    11.375469  ...    33.0    42.00     75.0\n",
              "Credit_amount  1000.0  3271.258  2822.736876  ...  2319.5  3972.25  18424.0\n",
              "Duration       1000.0    20.903    12.058814  ...    18.0    24.00     72.0\n",
              "\n",
              "[3 rows x 8 columns]"
            ]
          },
          "metadata": {},
          "execution_count": 16
        }
      ]
    },
    {
      "cell_type": "code",
      "metadata": {
        "id": "Kqrq9zxFB8qB",
        "colab": {
          "base_uri": "https://localhost:8080/"
        },
        "outputId": "81f5a9d1-5f3e-4711-8966-8d14cc9b3ae8"
      },
      "source": [
        "# Observamos las variables categoricas \n",
        "for feature in feature_cat:\n",
        "    print('....................................................................')\n",
        "    print(train.astype(str).groupby(feature,axis=0)[feature].count().sort_values(ascending=False))"
      ],
      "execution_count": 17,
      "outputs": [
        {
          "output_type": "stream",
          "name": "stdout",
          "text": [
            "....................................................................\n",
            "Sex\n",
            "male      690\n",
            "female    310\n",
            "Name: Sex, dtype: int64\n",
            "....................................................................\n",
            "Job\n",
            "2      630\n",
            "1      199\n",
            "3      148\n",
            "0       22\n",
            "nan      1\n",
            "Name: Job, dtype: int64\n",
            "....................................................................\n",
            "Housing\n",
            "own     713\n",
            "rent    179\n",
            "free    108\n",
            "Name: Housing, dtype: int64\n",
            "....................................................................\n",
            "Saving_accounts\n",
            "little        603\n",
            "nan           183\n",
            "moderate      103\n",
            "quite rich     63\n",
            "rich           48\n",
            "Name: Saving_accounts, dtype: int64\n",
            "....................................................................\n",
            "Checking_account\n",
            "nan         394\n",
            "little      274\n",
            "moderate    269\n",
            "rich         63\n",
            "Name: Checking_account, dtype: int64\n",
            "....................................................................\n",
            "Purpose\n",
            "car                    337\n",
            "radio/TV               280\n",
            "furniture/equipment    181\n",
            "business                97\n",
            "education               59\n",
            "repairs                 22\n",
            "vacation/others         12\n",
            "domestic appliances     12\n",
            "Name: Purpose, dtype: int64\n",
            "....................................................................\n",
            "Risk\n",
            "good    700\n",
            "bad     300\n",
            "Name: Risk, dtype: int64\n"
          ]
        }
      ]
    },
    {
      "cell_type": "markdown",
      "metadata": {
        "id": "xLXGcGHNTvJq"
      },
      "source": [
        "\n",
        "\n",
        "## 4.Primer Análisis\n"
      ]
    },
    {
      "cell_type": "markdown",
      "metadata": {
        "id": "3Mf4c3AVPZbE"
      },
      "source": [
        "Generamos una copia de la data original"
      ]
    },
    {
      "cell_type": "code",
      "metadata": {
        "id": "e9JHRoH3Bvp4"
      },
      "source": [
        "data_train = train.copy()"
      ],
      "execution_count": 18,
      "outputs": []
    },
    {
      "cell_type": "markdown",
      "metadata": {
        "id": "K76MzsSZPeUd"
      },
      "source": [
        "Imputar en primer lugar la data"
      ]
    },
    {
      "cell_type": "code",
      "metadata": {
        "id": "215inol5Bvvk"
      },
      "source": [
        "# moda\n",
        "#data_train['Job'].fillna('2',inplace=True)\n",
        "data_train['Job'] = data_train['Job'].fillna('2')\n",
        "# moda\n",
        "data_train['Saving_accounts'].fillna('little',inplace=True)\n",
        "# moda\n",
        "data_train['Checking_account'].fillna('little',inplace=True)"
      ],
      "execution_count": 19,
      "outputs": []
    },
    {
      "cell_type": "code",
      "metadata": {
        "colab": {
          "base_uri": "https://localhost:8080/",
          "height": 359
        },
        "id": "KkGzv9WnTW6u",
        "outputId": "3a5c1ddf-e304-4f23-c31d-17e111680cad"
      },
      "source": [
        "data_train.head(n=10)"
      ],
      "execution_count": 20,
      "outputs": [
        {
          "output_type": "execute_result",
          "data": {
            "text/html": [
              "<div>\n",
              "<style scoped>\n",
              "    .dataframe tbody tr th:only-of-type {\n",
              "        vertical-align: middle;\n",
              "    }\n",
              "\n",
              "    .dataframe tbody tr th {\n",
              "        vertical-align: top;\n",
              "    }\n",
              "\n",
              "    .dataframe thead th {\n",
              "        text-align: right;\n",
              "    }\n",
              "</style>\n",
              "<table border=\"1\" class=\"dataframe\">\n",
              "  <thead>\n",
              "    <tr style=\"text-align: right;\">\n",
              "      <th></th>\n",
              "      <th>Age</th>\n",
              "      <th>Sex</th>\n",
              "      <th>Job</th>\n",
              "      <th>Housing</th>\n",
              "      <th>Saving_accounts</th>\n",
              "      <th>Checking_account</th>\n",
              "      <th>Credit_amount</th>\n",
              "      <th>Duration</th>\n",
              "      <th>Purpose</th>\n",
              "      <th>Risk</th>\n",
              "    </tr>\n",
              "  </thead>\n",
              "  <tbody>\n",
              "    <tr>\n",
              "      <th>0</th>\n",
              "      <td>67</td>\n",
              "      <td>male</td>\n",
              "      <td>2</td>\n",
              "      <td>own</td>\n",
              "      <td>little</td>\n",
              "      <td>little</td>\n",
              "      <td>1169</td>\n",
              "      <td>6</td>\n",
              "      <td>radio/TV</td>\n",
              "      <td>good</td>\n",
              "    </tr>\n",
              "    <tr>\n",
              "      <th>1</th>\n",
              "      <td>22</td>\n",
              "      <td>female</td>\n",
              "      <td>2</td>\n",
              "      <td>own</td>\n",
              "      <td>little</td>\n",
              "      <td>moderate</td>\n",
              "      <td>5951</td>\n",
              "      <td>48</td>\n",
              "      <td>radio/TV</td>\n",
              "      <td>bad</td>\n",
              "    </tr>\n",
              "    <tr>\n",
              "      <th>2</th>\n",
              "      <td>49</td>\n",
              "      <td>male</td>\n",
              "      <td>1</td>\n",
              "      <td>own</td>\n",
              "      <td>little</td>\n",
              "      <td>little</td>\n",
              "      <td>2096</td>\n",
              "      <td>12</td>\n",
              "      <td>education</td>\n",
              "      <td>good</td>\n",
              "    </tr>\n",
              "    <tr>\n",
              "      <th>3</th>\n",
              "      <td>45</td>\n",
              "      <td>male</td>\n",
              "      <td>2</td>\n",
              "      <td>free</td>\n",
              "      <td>little</td>\n",
              "      <td>little</td>\n",
              "      <td>7882</td>\n",
              "      <td>42</td>\n",
              "      <td>furniture/equipment</td>\n",
              "      <td>good</td>\n",
              "    </tr>\n",
              "    <tr>\n",
              "      <th>4</th>\n",
              "      <td>53</td>\n",
              "      <td>male</td>\n",
              "      <td>2</td>\n",
              "      <td>free</td>\n",
              "      <td>little</td>\n",
              "      <td>little</td>\n",
              "      <td>4870</td>\n",
              "      <td>24</td>\n",
              "      <td>car</td>\n",
              "      <td>bad</td>\n",
              "    </tr>\n",
              "    <tr>\n",
              "      <th>5</th>\n",
              "      <td>35</td>\n",
              "      <td>male</td>\n",
              "      <td>2</td>\n",
              "      <td>free</td>\n",
              "      <td>little</td>\n",
              "      <td>little</td>\n",
              "      <td>9055</td>\n",
              "      <td>36</td>\n",
              "      <td>education</td>\n",
              "      <td>good</td>\n",
              "    </tr>\n",
              "    <tr>\n",
              "      <th>6</th>\n",
              "      <td>53</td>\n",
              "      <td>male</td>\n",
              "      <td>2</td>\n",
              "      <td>own</td>\n",
              "      <td>quite rich</td>\n",
              "      <td>little</td>\n",
              "      <td>2835</td>\n",
              "      <td>24</td>\n",
              "      <td>furniture/equipment</td>\n",
              "      <td>good</td>\n",
              "    </tr>\n",
              "    <tr>\n",
              "      <th>7</th>\n",
              "      <td>35</td>\n",
              "      <td>male</td>\n",
              "      <td>3</td>\n",
              "      <td>rent</td>\n",
              "      <td>little</td>\n",
              "      <td>moderate</td>\n",
              "      <td>6948</td>\n",
              "      <td>36</td>\n",
              "      <td>car</td>\n",
              "      <td>good</td>\n",
              "    </tr>\n",
              "    <tr>\n",
              "      <th>8</th>\n",
              "      <td>61</td>\n",
              "      <td>male</td>\n",
              "      <td>1</td>\n",
              "      <td>own</td>\n",
              "      <td>rich</td>\n",
              "      <td>little</td>\n",
              "      <td>3059</td>\n",
              "      <td>12</td>\n",
              "      <td>radio/TV</td>\n",
              "      <td>good</td>\n",
              "    </tr>\n",
              "    <tr>\n",
              "      <th>9</th>\n",
              "      <td>28</td>\n",
              "      <td>male</td>\n",
              "      <td>3</td>\n",
              "      <td>own</td>\n",
              "      <td>little</td>\n",
              "      <td>moderate</td>\n",
              "      <td>5234</td>\n",
              "      <td>30</td>\n",
              "      <td>car</td>\n",
              "      <td>bad</td>\n",
              "    </tr>\n",
              "  </tbody>\n",
              "</table>\n",
              "</div>"
            ],
            "text/plain": [
              "   Age     Sex Job Housing  ... Credit_amount Duration              Purpose  Risk\n",
              "0   67    male   2     own  ...          1169        6             radio/TV  good\n",
              "1   22  female   2     own  ...          5951       48             radio/TV   bad\n",
              "2   49    male   1     own  ...          2096       12            education  good\n",
              "3   45    male   2    free  ...          7882       42  furniture/equipment  good\n",
              "4   53    male   2    free  ...          4870       24                  car   bad\n",
              "5   35    male   2    free  ...          9055       36            education  good\n",
              "6   53    male   2     own  ...          2835       24  furniture/equipment  good\n",
              "7   35    male   3    rent  ...          6948       36                  car  good\n",
              "8   61    male   1     own  ...          3059       12             radio/TV  good\n",
              "9   28    male   3     own  ...          5234       30                  car   bad\n",
              "\n",
              "[10 rows x 10 columns]"
            ]
          },
          "metadata": {},
          "execution_count": 20
        }
      ]
    },
    {
      "cell_type": "code",
      "metadata": {
        "id": "AFOmig_sBvyM"
      },
      "source": [
        "# Dar un orden \n",
        "data_train = pd.concat([data_train[feature_num],data_train[feature_cat]],axis=1)"
      ],
      "execution_count": 21,
      "outputs": []
    },
    {
      "cell_type": "code",
      "metadata": {
        "colab": {
          "base_uri": "https://localhost:8080/",
          "height": 359
        },
        "id": "Yd0umqYOOHJj",
        "outputId": "d686c275-cd5a-46ed-ddb7-94a91bfdf9f5"
      },
      "source": [
        "# Columnas: Age, Credit_amount, Duration + categoricas\n",
        "data_train.head(n=10)"
      ],
      "execution_count": 22,
      "outputs": [
        {
          "output_type": "execute_result",
          "data": {
            "text/html": [
              "<div>\n",
              "<style scoped>\n",
              "    .dataframe tbody tr th:only-of-type {\n",
              "        vertical-align: middle;\n",
              "    }\n",
              "\n",
              "    .dataframe tbody tr th {\n",
              "        vertical-align: top;\n",
              "    }\n",
              "\n",
              "    .dataframe thead th {\n",
              "        text-align: right;\n",
              "    }\n",
              "</style>\n",
              "<table border=\"1\" class=\"dataframe\">\n",
              "  <thead>\n",
              "    <tr style=\"text-align: right;\">\n",
              "      <th></th>\n",
              "      <th>Age</th>\n",
              "      <th>Credit_amount</th>\n",
              "      <th>Duration</th>\n",
              "      <th>Sex</th>\n",
              "      <th>Job</th>\n",
              "      <th>Housing</th>\n",
              "      <th>Saving_accounts</th>\n",
              "      <th>Checking_account</th>\n",
              "      <th>Purpose</th>\n",
              "      <th>Risk</th>\n",
              "    </tr>\n",
              "  </thead>\n",
              "  <tbody>\n",
              "    <tr>\n",
              "      <th>0</th>\n",
              "      <td>67</td>\n",
              "      <td>1169</td>\n",
              "      <td>6</td>\n",
              "      <td>male</td>\n",
              "      <td>2</td>\n",
              "      <td>own</td>\n",
              "      <td>little</td>\n",
              "      <td>little</td>\n",
              "      <td>radio/TV</td>\n",
              "      <td>good</td>\n",
              "    </tr>\n",
              "    <tr>\n",
              "      <th>1</th>\n",
              "      <td>22</td>\n",
              "      <td>5951</td>\n",
              "      <td>48</td>\n",
              "      <td>female</td>\n",
              "      <td>2</td>\n",
              "      <td>own</td>\n",
              "      <td>little</td>\n",
              "      <td>moderate</td>\n",
              "      <td>radio/TV</td>\n",
              "      <td>bad</td>\n",
              "    </tr>\n",
              "    <tr>\n",
              "      <th>2</th>\n",
              "      <td>49</td>\n",
              "      <td>2096</td>\n",
              "      <td>12</td>\n",
              "      <td>male</td>\n",
              "      <td>1</td>\n",
              "      <td>own</td>\n",
              "      <td>little</td>\n",
              "      <td>little</td>\n",
              "      <td>education</td>\n",
              "      <td>good</td>\n",
              "    </tr>\n",
              "    <tr>\n",
              "      <th>3</th>\n",
              "      <td>45</td>\n",
              "      <td>7882</td>\n",
              "      <td>42</td>\n",
              "      <td>male</td>\n",
              "      <td>2</td>\n",
              "      <td>free</td>\n",
              "      <td>little</td>\n",
              "      <td>little</td>\n",
              "      <td>furniture/equipment</td>\n",
              "      <td>good</td>\n",
              "    </tr>\n",
              "    <tr>\n",
              "      <th>4</th>\n",
              "      <td>53</td>\n",
              "      <td>4870</td>\n",
              "      <td>24</td>\n",
              "      <td>male</td>\n",
              "      <td>2</td>\n",
              "      <td>free</td>\n",
              "      <td>little</td>\n",
              "      <td>little</td>\n",
              "      <td>car</td>\n",
              "      <td>bad</td>\n",
              "    </tr>\n",
              "    <tr>\n",
              "      <th>5</th>\n",
              "      <td>35</td>\n",
              "      <td>9055</td>\n",
              "      <td>36</td>\n",
              "      <td>male</td>\n",
              "      <td>2</td>\n",
              "      <td>free</td>\n",
              "      <td>little</td>\n",
              "      <td>little</td>\n",
              "      <td>education</td>\n",
              "      <td>good</td>\n",
              "    </tr>\n",
              "    <tr>\n",
              "      <th>6</th>\n",
              "      <td>53</td>\n",
              "      <td>2835</td>\n",
              "      <td>24</td>\n",
              "      <td>male</td>\n",
              "      <td>2</td>\n",
              "      <td>own</td>\n",
              "      <td>quite rich</td>\n",
              "      <td>little</td>\n",
              "      <td>furniture/equipment</td>\n",
              "      <td>good</td>\n",
              "    </tr>\n",
              "    <tr>\n",
              "      <th>7</th>\n",
              "      <td>35</td>\n",
              "      <td>6948</td>\n",
              "      <td>36</td>\n",
              "      <td>male</td>\n",
              "      <td>3</td>\n",
              "      <td>rent</td>\n",
              "      <td>little</td>\n",
              "      <td>moderate</td>\n",
              "      <td>car</td>\n",
              "      <td>good</td>\n",
              "    </tr>\n",
              "    <tr>\n",
              "      <th>8</th>\n",
              "      <td>61</td>\n",
              "      <td>3059</td>\n",
              "      <td>12</td>\n",
              "      <td>male</td>\n",
              "      <td>1</td>\n",
              "      <td>own</td>\n",
              "      <td>rich</td>\n",
              "      <td>little</td>\n",
              "      <td>radio/TV</td>\n",
              "      <td>good</td>\n",
              "    </tr>\n",
              "    <tr>\n",
              "      <th>9</th>\n",
              "      <td>28</td>\n",
              "      <td>5234</td>\n",
              "      <td>30</td>\n",
              "      <td>male</td>\n",
              "      <td>3</td>\n",
              "      <td>own</td>\n",
              "      <td>little</td>\n",
              "      <td>moderate</td>\n",
              "      <td>car</td>\n",
              "      <td>bad</td>\n",
              "    </tr>\n",
              "  </tbody>\n",
              "</table>\n",
              "</div>"
            ],
            "text/plain": [
              "   Age  Credit_amount  Duration  ... Checking_account              Purpose  Risk\n",
              "0   67           1169         6  ...           little             radio/TV  good\n",
              "1   22           5951        48  ...         moderate             radio/TV   bad\n",
              "2   49           2096        12  ...           little            education  good\n",
              "3   45           7882        42  ...           little  furniture/equipment  good\n",
              "4   53           4870        24  ...           little                  car   bad\n",
              "5   35           9055        36  ...           little            education  good\n",
              "6   53           2835        24  ...           little  furniture/equipment  good\n",
              "7   35           6948        36  ...         moderate                  car  good\n",
              "8   61           3059        12  ...           little             radio/TV  good\n",
              "9   28           5234        30  ...         moderate                  car   bad\n",
              "\n",
              "[10 rows x 10 columns]"
            ]
          },
          "metadata": {},
          "execution_count": 22
        }
      ]
    },
    {
      "cell_type": "markdown",
      "metadata": {
        "id": "orMKp2PuOZL2"
      },
      "source": [
        "Recodificación manual"
      ]
    },
    {
      "cell_type": "code",
      "metadata": {
        "id": "30raVpDxXikI"
      },
      "source": [
        "# Generamos una función por cada variable\n",
        "dic_Housing={'own':1,'rent':2,'free':3}\n",
        "\n",
        "def Saving_accounts(n):\n",
        "   n=str(n)\n",
        "   if n=='little':\n",
        "       return 1\n",
        "   elif  n=='moderate':   \n",
        "       return 2\n",
        "   elif  n=='rich':   \n",
        "       return 3\n",
        "   else:\n",
        "       return 4   \n",
        "\n",
        "def Checking_account(n):\n",
        "    n=str(n)\n",
        "    if n=='little':\n",
        "        return 1\n",
        "    elif n=='moderate':\n",
        "        return 2\n",
        "    else:\n",
        "        return 3   \n",
        "\n",
        "def Purpose(n):\n",
        "   n=str(n)\n",
        "   if n=='car':\n",
        "       return 1\n",
        "   elif  n=='furniture/equipment':   \n",
        "       return 2\n",
        "   elif  n=='radio/TV':   \n",
        "       return 3\n",
        "   elif  n=='domestic appliances':   \n",
        "       return 4 \n",
        "   elif  n=='repairs':   \n",
        "       return 5 \n",
        "   elif  n=='education':   \n",
        "       return 6   \n",
        "   elif  n=='business':   \n",
        "       return 7                   \n",
        "   else:\n",
        "       return 8   "
      ],
      "execution_count": 23,
      "outputs": []
    },
    {
      "cell_type": "code",
      "metadata": {
        "id": "O6h_67i7YUoH"
      },
      "source": [
        "data_train['Sex']= np.where(data_train['Sex']=='male',2,1) # Operador ternario -> if pero en una sola línea\n",
        "data_train['Housing'] = data_train['Housing'].map(dic_Housing)\n",
        "data_train['Saving_accounts']=data_train['Saving_accounts'].apply(Saving_accounts)\n",
        "data_train['Checking_account']=data_train['Checking_account'].apply(Checking_account)\n",
        "data_train['Purpose']=data_train['Purpose'].apply(Purpose)\n",
        "data_train['Risk']=np.where(data_train['Risk']=='bad',1,0)"
      ],
      "execution_count": 24,
      "outputs": []
    },
    {
      "cell_type": "code",
      "metadata": {
        "id": "jv2e_2XAY9CT",
        "colab": {
          "base_uri": "https://localhost:8080/"
        },
        "outputId": "936bb6e0-6d65-4478-925c-a6bfa0f0eef9"
      },
      "source": [
        "data_train.dtypes"
      ],
      "execution_count": 25,
      "outputs": [
        {
          "output_type": "execute_result",
          "data": {
            "text/plain": [
              "Age                  int64\n",
              "Credit_amount        int64\n",
              "Duration             int64\n",
              "Sex                  int64\n",
              "Job                 object\n",
              "Housing              int64\n",
              "Saving_accounts      int64\n",
              "Checking_account     int64\n",
              "Purpose              int64\n",
              "Risk                 int64\n",
              "dtype: object"
            ]
          },
          "metadata": {},
          "execution_count": 25
        }
      ]
    },
    {
      "cell_type": "markdown",
      "metadata": {
        "id": "a-q2pd5XP7SW"
      },
      "source": [
        "Ver correlación antes de categorizar"
      ]
    },
    {
      "cell_type": "code",
      "metadata": {
        "colab": {
          "base_uri": "https://localhost:8080/",
          "height": 359
        },
        "id": "FTC4F-JHP_a6",
        "outputId": "91d5c7f5-2042-4669-f88a-2f83592fba0d"
      },
      "source": [
        "matriz_correlacion, matriz_p_valor = spearmanr(data_train)\n",
        "df_correlacion = pd.DataFrame(matriz_correlacion, columns=data_train.columns, index=data_train.columns)\n",
        "df_correlacion"
      ],
      "execution_count": 29,
      "outputs": [
        {
          "output_type": "execute_result",
          "data": {
            "text/html": [
              "<div>\n",
              "<style scoped>\n",
              "    .dataframe tbody tr th:only-of-type {\n",
              "        vertical-align: middle;\n",
              "    }\n",
              "\n",
              "    .dataframe tbody tr th {\n",
              "        vertical-align: top;\n",
              "    }\n",
              "\n",
              "    .dataframe thead th {\n",
              "        text-align: right;\n",
              "    }\n",
              "</style>\n",
              "<table border=\"1\" class=\"dataframe\">\n",
              "  <thead>\n",
              "    <tr style=\"text-align: right;\">\n",
              "      <th></th>\n",
              "      <th>Age</th>\n",
              "      <th>Credit_amount</th>\n",
              "      <th>Duration</th>\n",
              "      <th>Sex</th>\n",
              "      <th>Job</th>\n",
              "      <th>Housing</th>\n",
              "      <th>Saving_accounts</th>\n",
              "      <th>Checking_account</th>\n",
              "      <th>Purpose</th>\n",
              "      <th>Risk</th>\n",
              "    </tr>\n",
              "  </thead>\n",
              "  <tbody>\n",
              "    <tr>\n",
              "      <th>Age</th>\n",
              "      <td>1.000000</td>\n",
              "      <td>0.026298</td>\n",
              "      <td>-0.036316</td>\n",
              "      <td>0.222706</td>\n",
              "      <td>0.041857</td>\n",
              "      <td>0.003469</td>\n",
              "      <td>-0.004378</td>\n",
              "      <td>-0.054675</td>\n",
              "      <td>-0.033464</td>\n",
              "      <td>-0.112191</td>\n",
              "    </tr>\n",
              "    <tr>\n",
              "      <th>Credit_amount</th>\n",
              "      <td>0.026298</td>\n",
              "      <td>1.000000</td>\n",
              "      <td>0.624709</td>\n",
              "      <td>0.115849</td>\n",
              "      <td>0.301337</td>\n",
              "      <td>0.131280</td>\n",
              "      <td>-0.059978</td>\n",
              "      <td>0.000149</td>\n",
              "      <td>-0.074968</td>\n",
              "      <td>0.087083</td>\n",
              "    </tr>\n",
              "    <tr>\n",
              "      <th>Duration</th>\n",
              "      <td>-0.036316</td>\n",
              "      <td>0.624709</td>\n",
              "      <td>1.000000</td>\n",
              "      <td>0.073024</td>\n",
              "      <td>0.229688</td>\n",
              "      <td>0.079519</td>\n",
              "      <td>-0.016721</td>\n",
              "      <td>0.002961</td>\n",
              "      <td>0.061913</td>\n",
              "      <td>0.205685</td>\n",
              "    </tr>\n",
              "    <tr>\n",
              "      <th>Sex</th>\n",
              "      <td>0.222706</td>\n",
              "      <td>0.115849</td>\n",
              "      <td>0.073024</td>\n",
              "      <td>1.000000</td>\n",
              "      <td>0.062264</td>\n",
              "      <td>-0.085700</td>\n",
              "      <td>-0.001485</td>\n",
              "      <td>-0.013793</td>\n",
              "      <td>0.008985</td>\n",
              "      <td>-0.075493</td>\n",
              "    </tr>\n",
              "    <tr>\n",
              "      <th>Job</th>\n",
              "      <td>0.041857</td>\n",
              "      <td>0.301337</td>\n",
              "      <td>0.229688</td>\n",
              "      <td>0.062264</td>\n",
              "      <td>1.000000</td>\n",
              "      <td>0.093364</td>\n",
              "      <td>-0.033823</td>\n",
              "      <td>-0.025766</td>\n",
              "      <td>-0.037601</td>\n",
              "      <td>0.034291</td>\n",
              "    </tr>\n",
              "    <tr>\n",
              "      <th>Housing</th>\n",
              "      <td>0.003469</td>\n",
              "      <td>0.131280</td>\n",
              "      <td>0.079519</td>\n",
              "      <td>-0.085700</td>\n",
              "      <td>0.093364</td>\n",
              "      <td>1.000000</td>\n",
              "      <td>-0.011748</td>\n",
              "      <td>-0.009622</td>\n",
              "      <td>-0.101386</td>\n",
              "      <td>0.134305</td>\n",
              "    </tr>\n",
              "    <tr>\n",
              "      <th>Saving_accounts</th>\n",
              "      <td>-0.004378</td>\n",
              "      <td>-0.059978</td>\n",
              "      <td>-0.016721</td>\n",
              "      <td>-0.001485</td>\n",
              "      <td>-0.033823</td>\n",
              "      <td>-0.011748</td>\n",
              "      <td>1.000000</td>\n",
              "      <td>0.045902</td>\n",
              "      <td>0.010695</td>\n",
              "      <td>-0.079544</td>\n",
              "    </tr>\n",
              "    <tr>\n",
              "      <th>Checking_account</th>\n",
              "      <td>-0.054675</td>\n",
              "      <td>0.000149</td>\n",
              "      <td>0.002961</td>\n",
              "      <td>-0.013793</td>\n",
              "      <td>-0.025766</td>\n",
              "      <td>-0.009622</td>\n",
              "      <td>0.045902</td>\n",
              "      <td>1.000000</td>\n",
              "      <td>0.097335</td>\n",
              "      <td>0.075739</td>\n",
              "    </tr>\n",
              "    <tr>\n",
              "      <th>Purpose</th>\n",
              "      <td>-0.033464</td>\n",
              "      <td>-0.074968</td>\n",
              "      <td>0.061913</td>\n",
              "      <td>0.008985</td>\n",
              "      <td>-0.037601</td>\n",
              "      <td>-0.101386</td>\n",
              "      <td>0.010695</td>\n",
              "      <td>0.097335</td>\n",
              "      <td>1.000000</td>\n",
              "      <td>-0.000286</td>\n",
              "    </tr>\n",
              "    <tr>\n",
              "      <th>Risk</th>\n",
              "      <td>-0.112191</td>\n",
              "      <td>0.087083</td>\n",
              "      <td>0.205685</td>\n",
              "      <td>-0.075493</td>\n",
              "      <td>0.034291</td>\n",
              "      <td>0.134305</td>\n",
              "      <td>-0.079544</td>\n",
              "      <td>0.075739</td>\n",
              "      <td>-0.000286</td>\n",
              "      <td>1.000000</td>\n",
              "    </tr>\n",
              "  </tbody>\n",
              "</table>\n",
              "</div>"
            ],
            "text/plain": [
              "                       Age  Credit_amount  ...   Purpose      Risk\n",
              "Age               1.000000       0.026298  ... -0.033464 -0.112191\n",
              "Credit_amount     0.026298       1.000000  ... -0.074968  0.087083\n",
              "Duration         -0.036316       0.624709  ...  0.061913  0.205685\n",
              "Sex               0.222706       0.115849  ...  0.008985 -0.075493\n",
              "Job               0.041857       0.301337  ... -0.037601  0.034291\n",
              "Housing           0.003469       0.131280  ... -0.101386  0.134305\n",
              "Saving_accounts  -0.004378      -0.059978  ...  0.010695 -0.079544\n",
              "Checking_account -0.054675       0.000149  ...  0.097335  0.075739\n",
              "Purpose          -0.033464      -0.074968  ...  1.000000 -0.000286\n",
              "Risk             -0.112191       0.087083  ... -0.000286  1.000000\n",
              "\n",
              "[10 rows x 10 columns]"
            ]
          },
          "metadata": {},
          "execution_count": 29
        }
      ]
    },
    {
      "cell_type": "markdown",
      "metadata": {
        "id": "fmFHuF8yQFxV"
      },
      "source": [
        "Colocamos la primera función de correlación"
      ]
    },
    {
      "cell_type": "code",
      "metadata": {
        "id": "oTSdzpuhQJTb",
        "colab": {
          "base_uri": "https://localhost:8080/"
        },
        "outputId": "d42e20b5-9744-46fe-94c9-d8ee8654fe34"
      },
      "source": [
        "df_correlacion = tidy_corr_matrix(df_correlacion)\n",
        "df_correlacion['filtro'] = np.where(df_correlacion['abs_r'] > 0.6, 1, 0)\n",
        "\n",
        "print(df_correlacion)\n",
        "#df_correlacion.to_csv(ruta+\"correlacion_variables.csv\", index=False)\n",
        "df_correlacion.to_csv(\"correlacion_variables.csv\", index=False)"
      ],
      "execution_count": 30,
      "outputs": [
        {
          "output_type": "stream",
          "name": "stdout",
          "text": [
            "          variable_1        variable_2         r     abs_r  filtro\n",
            "21          Duration     Credit_amount  0.624709  0.624709       1\n",
            "12     Credit_amount          Duration  0.624709  0.624709       1\n",
            "41               Job     Credit_amount  0.301337  0.301337       0\n",
            "14     Credit_amount               Job  0.301337  0.301337       0\n",
            "42               Job          Duration  0.229688  0.229688       0\n",
            "..               ...               ...       ...       ...     ...\n",
            "36               Sex   Saving_accounts -0.001485  0.001485       0\n",
            "89           Purpose              Risk -0.000286  0.000286       0\n",
            "98              Risk           Purpose -0.000286  0.000286       0\n",
            "71  Checking_account     Credit_amount  0.000149  0.000149       0\n",
            "17     Credit_amount  Checking_account  0.000149  0.000149       0\n",
            "\n",
            "[90 rows x 5 columns]\n"
          ]
        }
      ]
    },
    {
      "cell_type": "markdown",
      "metadata": {
        "id": "NNwBnbn8QOPP"
      },
      "source": [
        "Categorizando a factor"
      ]
    },
    {
      "cell_type": "code",
      "metadata": {
        "id": "dO7H8K_4QSip"
      },
      "source": [
        "data_train['Job'] = data_train['Job'].astype('int64')"
      ],
      "execution_count": 31,
      "outputs": []
    },
    {
      "cell_type": "code",
      "metadata": {
        "colab": {
          "base_uri": "https://localhost:8080/"
        },
        "id": "fBZRuzP943Uk",
        "outputId": "f3147961-9545-4469-fcc4-6d2f1e68fa99"
      },
      "source": [
        "data_train.dtypes"
      ],
      "execution_count": 32,
      "outputs": [
        {
          "output_type": "execute_result",
          "data": {
            "text/plain": [
              "Age                 int64\n",
              "Credit_amount       int64\n",
              "Duration            int64\n",
              "Sex                 int64\n",
              "Job                 int64\n",
              "Housing             int64\n",
              "Saving_accounts     int64\n",
              "Checking_account    int64\n",
              "Purpose             int64\n",
              "Risk                int64\n",
              "dtype: object"
            ]
          },
          "metadata": {},
          "execution_count": 32
        }
      ]
    },
    {
      "cell_type": "markdown",
      "metadata": {
        "id": "TqYCL8o2QZ7M"
      },
      "source": [
        "### Primer modelo logístico"
      ]
    },
    {
      "cell_type": "code",
      "metadata": {
        "id": "dY8ggIoTeCxl"
      },
      "source": [
        "# Retiramos la variable correlacionada\n",
        "data_train = data_train.drop(['Credit_amount'],axis=1)\n",
        "#X_train['Intercept'] = 1\n",
        "#y_train = pd.DataFrame(data_train['Risk'],columns=['Risk'],dtype='int64')"
      ],
      "execution_count": 33,
      "outputs": []
    },
    {
      "cell_type": "code",
      "metadata": {
        "colab": {
          "base_uri": "https://localhost:8080/",
          "height": 419
        },
        "id": "Uty1ESInE-N6",
        "outputId": "6dfdc125-6dfa-42ac-ab3e-10372143786e"
      },
      "source": [
        "data_train"
      ],
      "execution_count": 34,
      "outputs": [
        {
          "output_type": "execute_result",
          "data": {
            "text/html": [
              "<div>\n",
              "<style scoped>\n",
              "    .dataframe tbody tr th:only-of-type {\n",
              "        vertical-align: middle;\n",
              "    }\n",
              "\n",
              "    .dataframe tbody tr th {\n",
              "        vertical-align: top;\n",
              "    }\n",
              "\n",
              "    .dataframe thead th {\n",
              "        text-align: right;\n",
              "    }\n",
              "</style>\n",
              "<table border=\"1\" class=\"dataframe\">\n",
              "  <thead>\n",
              "    <tr style=\"text-align: right;\">\n",
              "      <th></th>\n",
              "      <th>Age</th>\n",
              "      <th>Duration</th>\n",
              "      <th>Sex</th>\n",
              "      <th>Job</th>\n",
              "      <th>Housing</th>\n",
              "      <th>Saving_accounts</th>\n",
              "      <th>Checking_account</th>\n",
              "      <th>Purpose</th>\n",
              "      <th>Risk</th>\n",
              "    </tr>\n",
              "  </thead>\n",
              "  <tbody>\n",
              "    <tr>\n",
              "      <th>0</th>\n",
              "      <td>67</td>\n",
              "      <td>6</td>\n",
              "      <td>2</td>\n",
              "      <td>2</td>\n",
              "      <td>1</td>\n",
              "      <td>1</td>\n",
              "      <td>1</td>\n",
              "      <td>3</td>\n",
              "      <td>0</td>\n",
              "    </tr>\n",
              "    <tr>\n",
              "      <th>1</th>\n",
              "      <td>22</td>\n",
              "      <td>48</td>\n",
              "      <td>1</td>\n",
              "      <td>2</td>\n",
              "      <td>1</td>\n",
              "      <td>1</td>\n",
              "      <td>2</td>\n",
              "      <td>3</td>\n",
              "      <td>1</td>\n",
              "    </tr>\n",
              "    <tr>\n",
              "      <th>2</th>\n",
              "      <td>49</td>\n",
              "      <td>12</td>\n",
              "      <td>2</td>\n",
              "      <td>1</td>\n",
              "      <td>1</td>\n",
              "      <td>1</td>\n",
              "      <td>1</td>\n",
              "      <td>6</td>\n",
              "      <td>0</td>\n",
              "    </tr>\n",
              "    <tr>\n",
              "      <th>3</th>\n",
              "      <td>45</td>\n",
              "      <td>42</td>\n",
              "      <td>2</td>\n",
              "      <td>2</td>\n",
              "      <td>3</td>\n",
              "      <td>1</td>\n",
              "      <td>1</td>\n",
              "      <td>2</td>\n",
              "      <td>0</td>\n",
              "    </tr>\n",
              "    <tr>\n",
              "      <th>4</th>\n",
              "      <td>53</td>\n",
              "      <td>24</td>\n",
              "      <td>2</td>\n",
              "      <td>2</td>\n",
              "      <td>3</td>\n",
              "      <td>1</td>\n",
              "      <td>1</td>\n",
              "      <td>1</td>\n",
              "      <td>1</td>\n",
              "    </tr>\n",
              "    <tr>\n",
              "      <th>...</th>\n",
              "      <td>...</td>\n",
              "      <td>...</td>\n",
              "      <td>...</td>\n",
              "      <td>...</td>\n",
              "      <td>...</td>\n",
              "      <td>...</td>\n",
              "      <td>...</td>\n",
              "      <td>...</td>\n",
              "      <td>...</td>\n",
              "    </tr>\n",
              "    <tr>\n",
              "      <th>995</th>\n",
              "      <td>31</td>\n",
              "      <td>12</td>\n",
              "      <td>1</td>\n",
              "      <td>1</td>\n",
              "      <td>1</td>\n",
              "      <td>1</td>\n",
              "      <td>1</td>\n",
              "      <td>2</td>\n",
              "      <td>0</td>\n",
              "    </tr>\n",
              "    <tr>\n",
              "      <th>996</th>\n",
              "      <td>40</td>\n",
              "      <td>30</td>\n",
              "      <td>2</td>\n",
              "      <td>3</td>\n",
              "      <td>1</td>\n",
              "      <td>1</td>\n",
              "      <td>1</td>\n",
              "      <td>1</td>\n",
              "      <td>0</td>\n",
              "    </tr>\n",
              "    <tr>\n",
              "      <th>997</th>\n",
              "      <td>38</td>\n",
              "      <td>12</td>\n",
              "      <td>2</td>\n",
              "      <td>2</td>\n",
              "      <td>1</td>\n",
              "      <td>1</td>\n",
              "      <td>1</td>\n",
              "      <td>3</td>\n",
              "      <td>0</td>\n",
              "    </tr>\n",
              "    <tr>\n",
              "      <th>998</th>\n",
              "      <td>23</td>\n",
              "      <td>45</td>\n",
              "      <td>2</td>\n",
              "      <td>2</td>\n",
              "      <td>3</td>\n",
              "      <td>1</td>\n",
              "      <td>1</td>\n",
              "      <td>3</td>\n",
              "      <td>1</td>\n",
              "    </tr>\n",
              "    <tr>\n",
              "      <th>999</th>\n",
              "      <td>27</td>\n",
              "      <td>45</td>\n",
              "      <td>2</td>\n",
              "      <td>2</td>\n",
              "      <td>1</td>\n",
              "      <td>2</td>\n",
              "      <td>2</td>\n",
              "      <td>1</td>\n",
              "      <td>0</td>\n",
              "    </tr>\n",
              "  </tbody>\n",
              "</table>\n",
              "<p>1000 rows × 9 columns</p>\n",
              "</div>"
            ],
            "text/plain": [
              "     Age  Duration  Sex  Job  ...  Saving_accounts  Checking_account  Purpose  Risk\n",
              "0     67         6    2    2  ...                1                 1        3     0\n",
              "1     22        48    1    2  ...                1                 2        3     1\n",
              "2     49        12    2    1  ...                1                 1        6     0\n",
              "3     45        42    2    2  ...                1                 1        2     0\n",
              "4     53        24    2    2  ...                1                 1        1     1\n",
              "..   ...       ...  ...  ...  ...              ...               ...      ...   ...\n",
              "995   31        12    1    1  ...                1                 1        2     0\n",
              "996   40        30    2    3  ...                1                 1        1     0\n",
              "997   38        12    2    2  ...                1                 1        3     0\n",
              "998   23        45    2    2  ...                1                 1        3     1\n",
              "999   27        45    2    2  ...                2                 2        1     0\n",
              "\n",
              "[1000 rows x 9 columns]"
            ]
          },
          "metadata": {},
          "execution_count": 34
        }
      ]
    },
    {
      "cell_type": "code",
      "metadata": {
        "id": "btiVchLgeTdZ",
        "colab": {
          "base_uri": "https://localhost:8080/"
        },
        "outputId": "f613ea41-c88e-497c-a1e1-534c6e76b5c7"
      },
      "source": [
        "# La función sm.add_constant(X)\n",
        "# agrega una columna con 1 que sirve de intercepto\n",
        "#X_train_transform = transformar_categoricas(X_train)\n",
        "#logit_model = sm.Logit(y_train, sm.add_constant(X_train_transform))\n",
        "logit_model = smf.logit(formula = 'Risk ~ Age + Duration + C(Sex) + C(Job) + C(Housing) + C(Saving_accounts) + C(Checking_account) + C(Purpose)', data = data_train)\n",
        "#logit_model = smf.logit(formula = 'Risk ~ C(Sex)', data = data_train)\n",
        "\n",
        "modelo1 = logit_model.fit()"
      ],
      "execution_count": 35,
      "outputs": [
        {
          "output_type": "stream",
          "name": "stdout",
          "text": [
            "Optimization terminated successfully.\n",
            "         Current function value: 0.559321\n",
            "         Iterations 6\n"
          ]
        }
      ]
    },
    {
      "cell_type": "code",
      "metadata": {
        "colab": {
          "base_uri": "https://localhost:8080/"
        },
        "id": "UjczuizGbjuX",
        "outputId": "42978dc4-edf7-45c4-dad0-8171561c4c84"
      },
      "source": [
        "y_pred = modelo1.predict(sm.add_constant(data_train.drop(['Risk'],axis=1)))\n",
        "y_pred"
      ],
      "execution_count": 36,
      "outputs": [
        {
          "output_type": "execute_result",
          "data": {
            "text/plain": [
              "0      0.065303\n",
              "1      0.607831\n",
              "2      0.224325\n",
              "3      0.497675\n",
              "4      0.306126\n",
              "         ...   \n",
              "995    0.289563\n",
              "996    0.305148\n",
              "997    0.123729\n",
              "998    0.494297\n",
              "999    0.551020\n",
              "Length: 1000, dtype: float64"
            ]
          },
          "metadata": {},
          "execution_count": 36
        }
      ]
    },
    {
      "cell_type": "markdown",
      "metadata": {
        "id": "YMTOTo4bZRUi"
      },
      "source": [
        "Indicadores"
      ]
    },
    {
      "cell_type": "code",
      "metadata": {
        "colab": {
          "base_uri": "https://localhost:8080/"
        },
        "id": "J4dJf_OYZQ5I",
        "outputId": "1b7978f3-b8bb-40b3-c2dc-5cb79c605caf"
      },
      "source": [
        "# Ejecución con variables categoricas tipo de dato int64\n",
        "modelo1_indicadores = calcula_indicadores(modelo1, data_train.Risk, y_pred)\n",
        "\n",
        "print(modelo1_indicadores)"
      ],
      "execution_count": 37,
      "outputs": [
        {
          "output_type": "stream",
          "name": "stdout",
          "text": [
            "      Indicador\n",
            "GINI   0.392062\n",
            "AUC    0.696031\n",
            "KS     0.301429\n"
          ]
        }
      ]
    },
    {
      "cell_type": "code",
      "metadata": {
        "colab": {
          "base_uri": "https://localhost:8080/"
        },
        "id": "qFIIYfUuhAlw",
        "outputId": "9972a5a3-b4ec-4d14-cbda-0fe9af9b3b7b"
      },
      "source": [
        "modelo1.params"
      ],
      "execution_count": 38,
      "outputs": [
        {
          "output_type": "execute_result",
          "data": {
            "text/plain": [
              "Intercept                  -0.950951\n",
              "C(Sex)[T.2]                -0.329241\n",
              "C(Job)[T.1]                 0.115286\n",
              "C(Job)[T.2]                -0.007750\n",
              "C(Job)[T.3]                 0.033089\n",
              "C(Housing)[T.2]             0.473069\n",
              "C(Housing)[T.3]             0.481480\n",
              "C(Saving_accounts)[T.2]    -0.182651\n",
              "C(Saving_accounts)[T.3]    -1.159476\n",
              "C(Saving_accounts)[T.4]    -0.655907\n",
              "C(Checking_account)[T.2]    0.487220\n",
              "C(Checking_account)[T.3]   -0.055891\n",
              "C(Purpose)[T.2]             0.019327\n",
              "C(Purpose)[T.3]            -0.471409\n",
              "C(Purpose)[T.4]             0.245812\n",
              "C(Purpose)[T.5]             0.357025\n",
              "C(Purpose)[T.6]             0.306459\n",
              "C(Purpose)[T.7]            -0.066205\n",
              "C(Purpose)[T.8]            -0.132916\n",
              "Age                        -0.016723\n",
              "Duration                    0.036438\n",
              "dtype: float64"
            ]
          },
          "metadata": {},
          "execution_count": 38
        }
      ]
    },
    {
      "cell_type": "markdown",
      "metadata": {
        "id": "eJz-raStZVO1"
      },
      "source": [
        "Pesos del modelo importancia mediante la tercera funcion"
      ]
    },
    {
      "cell_type": "code",
      "metadata": {
        "colab": {
          "base_uri": "https://localhost:8080/"
        },
        "id": "LuNxJtc1g5rz",
        "outputId": "7b389103-37b3-44f8-f9cf-870b01271de1"
      },
      "source": [
        "calcular_pesos(modelo1)"
      ],
      "execution_count": 39,
      "outputs": [
        {
          "output_type": "execute_result",
          "data": {
            "text/plain": [
              "variable\n",
              "Job                  0.063576\n",
              "Intercept            3.059981\n",
              "Sex                  5.027206\n",
              "Age                  6.265357\n",
              "Purpose              8.952658\n",
              "Checking_account    10.632370\n",
              "Housing             12.110066\n",
              "Saving_accounts     12.875067\n",
              "Duration            41.013719\n",
              "Name: t_value2, dtype: float64"
            ]
          },
          "metadata": {},
          "execution_count": 39
        }
      ]
    },
    {
      "cell_type": "markdown",
      "metadata": {
        "id": "Q5pw6rTkZab-"
      },
      "source": [
        "Ver la significancia de modelo"
      ]
    },
    {
      "cell_type": "code",
      "metadata": {
        "colab": {
          "base_uri": "https://localhost:8080/"
        },
        "id": "7QuRFzRfcZUV",
        "outputId": "cf188cb9-283d-497a-eee1-dae23180a7ad"
      },
      "source": [
        "print(modelo1.summary2())"
      ],
      "execution_count": 40,
      "outputs": [
        {
          "output_type": "stream",
          "name": "stdout",
          "text": [
            "                             Results: Logit\n",
            "========================================================================\n",
            "Model:                 Logit              Pseudo R-squared:   0.084     \n",
            "Dependent Variable:    Risk               AIC:                1160.6416 \n",
            "Date:                  2021-09-12 13:07   BIC:                1263.7044 \n",
            "No. Observations:      1000               Log-Likelihood:     -559.32   \n",
            "Df Model:              20                 LL-Null:            -610.86   \n",
            "Df Residuals:          979                LLR p-value:        3.5159e-13\n",
            "Converged:             1.0000             Scale:              1.0000    \n",
            "No. Iterations:        6.0000                                           \n",
            "------------------------------------------------------------------------\n",
            "                          Coef.  Std.Err.    z    P>|z|   [0.025  0.975]\n",
            "------------------------------------------------------------------------\n",
            "Intercept                -0.9510   0.6021 -1.5794 0.1142 -2.1310  0.2291\n",
            "C(Sex)[T.2]              -0.3292   0.1626 -2.0244 0.0429 -0.6480 -0.0105\n",
            "C(Job)[T.1]               0.1153   0.5275  0.2185 0.8270 -0.9187  1.1493\n",
            "C(Job)[T.2]              -0.0077   0.5111 -0.0152 0.9879 -1.0095  0.9940\n",
            "C(Job)[T.3]               0.0331   0.5339  0.0620 0.9506 -1.0134  1.0796\n",
            "C(Housing)[T.2]           0.4731   0.1918  2.4663 0.0137  0.0971  0.8490\n",
            "C(Housing)[T.3]           0.4815   0.2473  1.9466 0.0516 -0.0033  0.9663\n",
            "C(Saving_accounts)[T.2]  -0.1827   0.2443 -0.7475 0.4548 -0.6616  0.2963\n",
            "C(Saving_accounts)[T.3]  -1.1595   0.4550 -2.5483 0.0108 -2.0513 -0.2677\n",
            "C(Saving_accounts)[T.4]  -0.6559   0.3535 -1.8556 0.0635 -1.3487  0.0369\n",
            "C(Checking_account)[T.2]  0.4872   0.1658  2.9391 0.0033  0.1623  0.8121\n",
            "C(Checking_account)[T.3] -0.0559   0.3270 -0.1709 0.8643 -0.6969  0.5851\n",
            "C(Purpose)[T.2]           0.0193   0.2123  0.0910 0.9275 -0.3968  0.4355\n",
            "C(Purpose)[T.3]          -0.4714   0.2005 -2.3513 0.0187 -0.8644 -0.0785\n",
            "C(Purpose)[T.4]           0.2458   0.6635  0.3705 0.7110 -1.0546  1.5462\n",
            "C(Purpose)[T.5]           0.3570   0.4815  0.7414 0.4584 -0.5868  1.3008\n",
            "C(Purpose)[T.6]           0.3065   0.3110  0.9854 0.3244 -0.3031  0.9160\n",
            "C(Purpose)[T.7]          -0.0662   0.2651 -0.2497 0.8028 -0.5858  0.4534\n",
            "C(Purpose)[T.8]          -0.1329   0.6593 -0.2016 0.8402 -1.4251  1.1593\n",
            "Age                      -0.0167   0.0074 -2.2600 0.0238 -0.0312 -0.0022\n",
            "Duration                  0.0364   0.0063  5.7822 0.0000  0.0241  0.0488\n",
            "========================================================================\n",
            "\n"
          ]
        }
      ]
    },
    {
      "cell_type": "markdown",
      "metadata": {
        "id": "Sc8AMDBuxg70"
      },
      "source": [
        "### Segundo modelo logístico"
      ]
    },
    {
      "cell_type": "code",
      "metadata": {
        "id": "2Ek-A_gAdWCc",
        "colab": {
          "base_uri": "https://localhost:8080/"
        },
        "outputId": "bf000ccc-85b1-4b31-eb86-50415cb8e7cf"
      },
      "source": [
        "# Reajustando\n",
        "# Elimina Job\n",
        "modelo2 = smf.logit(formula = 'Risk ~ Age + Duration + C(Sex) + C(Housing) + C(Saving_accounts) + C(Checking_account) + C(Purpose)', data = data_train).fit()"
      ],
      "execution_count": 41,
      "outputs": [
        {
          "output_type": "stream",
          "name": "stdout",
          "text": [
            "Optimization terminated successfully.\n",
            "         Current function value: 0.559523\n",
            "         Iterations 6\n"
          ]
        }
      ]
    },
    {
      "cell_type": "markdown",
      "metadata": {
        "id": "cnu1s6BQc_D2"
      },
      "source": [
        "### Calcular indicadores"
      ]
    },
    {
      "cell_type": "code",
      "metadata": {
        "colab": {
          "base_uri": "https://localhost:8080/"
        },
        "id": "o6RBNXSuc-Yw",
        "outputId": "29a99724-37e7-4a97-ab5f-185075566396"
      },
      "source": [
        "y_pred = modelo2.predict(sm.add_constant(data_train.drop(['Risk'],axis=1)))\n",
        "y_pred"
      ],
      "execution_count": 42,
      "outputs": [
        {
          "output_type": "execute_result",
          "data": {
            "text/plain": [
              "0      0.068355\n",
              "1      0.610889\n",
              "2      0.210974\n",
              "3      0.499852\n",
              "4      0.311646\n",
              "         ...   \n",
              "995    0.271022\n",
              "996    0.302813\n",
              "997    0.127495\n",
              "998    0.493818\n",
              "999    0.557133\n",
              "Length: 1000, dtype: float64"
            ]
          },
          "metadata": {},
          "execution_count": 42
        }
      ]
    },
    {
      "cell_type": "code",
      "metadata": {
        "id": "PUfK4_bWKcvn",
        "colab": {
          "base_uri": "https://localhost:8080/"
        },
        "outputId": "b85782e6-6d9c-4812-da69-1cb0ec63cc97"
      },
      "source": [
        "modelo2_indicadores = calcula_indicadores(modelo2, data_train.Risk, y_pred)\n",
        "\n",
        "print(modelo2_indicadores)"
      ],
      "execution_count": 43,
      "outputs": [
        {
          "output_type": "stream",
          "name": "stdout",
          "text": [
            "      Indicador\n",
            "GINI   0.390357\n",
            "AUC    0.695179\n",
            "KS     0.292381\n"
          ]
        }
      ]
    },
    {
      "cell_type": "markdown",
      "metadata": {
        "id": "NUOAjhV-dlUI"
      },
      "source": [
        "### Pesos del modelo importancia"
      ]
    },
    {
      "cell_type": "code",
      "metadata": {
        "id": "DCMbsG5hKcz-",
        "colab": {
          "base_uri": "https://localhost:8080/"
        },
        "outputId": "6d8504f7-071c-46a6-a3e7-b2b8ff9ce839"
      },
      "source": [
        "calcular_pesos(modelo2)"
      ],
      "execution_count": 44,
      "outputs": [
        {
          "output_type": "execute_result",
          "data": {
            "text/plain": [
              "variable\n",
              "Sex                  4.734642\n",
              "Age                  5.723494\n",
              "Intercept            8.312408\n",
              "Purpose              8.649925\n",
              "Checking_account    10.310578\n",
              "Housing             11.233501\n",
              "Saving_accounts     12.321271\n",
              "Duration            38.714182\n",
              "Name: t_value2, dtype: float64"
            ]
          },
          "metadata": {},
          "execution_count": 44
        }
      ]
    },
    {
      "cell_type": "code",
      "metadata": {
        "id": "FPmiuWcdKc5t"
      },
      "source": [
        ""
      ],
      "execution_count": null,
      "outputs": []
    }
  ]
}